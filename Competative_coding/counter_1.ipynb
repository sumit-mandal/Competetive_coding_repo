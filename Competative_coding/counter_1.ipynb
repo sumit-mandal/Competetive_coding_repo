{
 "cells": [
  {
   "cell_type": "code",
   "execution_count": 17,
   "id": "9a0c2879-8f3f-4bb6-9c3a-94d4aab621bd",
   "metadata": {},
   "outputs": [
    {
     "name": "stdout",
     "output_type": "stream",
     "text": [
      "{'m': 0}\n",
      "{'m': 1, 'i': 0}\n",
      "{'m': 1, 'i': 1, 's': 0}\n",
      "{'m': 1, 'i': 3, 's': 4, 'p': 0}\n"
     ]
    }
   ],
   "source": [
    "word = \"mississippi\"\n",
    "\n",
    "counter_1 = {}\n",
    "\n",
    "for letter in word:\n",
    "#     print(letter)\n",
    "    if letter not in counter_1:\n",
    "        counter_1[letter] = 0\n",
    "        print(counter_1)\n",
    "    counter_1[letter] += 1\n",
    "    \n",
    "\n"
   ]
  },
  {
   "cell_type": "code",
   "execution_count": 29,
   "id": "2a7a0b02-42d9-4bd9-82cb-dc04e5d6ad11",
   "metadata": {
    "tags": []
   },
   "outputs": [],
   "source": [
    "class Solution:\n",
    "    def maxProfit(self, prices):\n",
    "        min_p = 0 \n",
    "        max_pr = 0\n",
    "        \n",
    "        \n",
    "        for price in prices:\n",
    "            \n",
    "            min_p = min(min_p,price)\n",
    "            max_pr = max(max_pr, price - min_p)\n",
    "            \n",
    "            if min_p < max_pr:\n",
    "                return 0\n",
    "            else: \n",
    "                return max_pr"
   ]
  },
  {
   "cell_type": "code",
   "execution_count": 31,
   "id": "fd839f07-b208-4d84-98b5-59da084df79e",
   "metadata": {},
   "outputs": [
    {
     "data": {
      "text/plain": [
       "0"
      ]
     },
     "execution_count": 31,
     "metadata": {},
     "output_type": "execute_result"
    }
   ],
   "source": [
    "Solution().maxProfit([7,6,4,3,10])"
   ]
  },
  {
   "cell_type": "code",
   "execution_count": null,
   "id": "87ddfc5a-5252-4ba7-b6f6-da77afb4a98c",
   "metadata": {},
   "outputs": [],
   "source": []
  },
  {
   "cell_type": "code",
   "execution_count": null,
   "id": "46936aa5-bb66-4678-bcf6-d2687e4dbba5",
   "metadata": {},
   "outputs": [],
   "source": []
  },
  {
   "cell_type": "code",
   "execution_count": null,
   "id": "e34b471b-f497-49db-b97f-37c08d180b42",
   "metadata": {},
   "outputs": [],
   "source": []
  },
  {
   "cell_type": "code",
   "execution_count": null,
   "id": "efd1482f-ec26-4490-951f-061d3e8fee55",
   "metadata": {},
   "outputs": [],
   "source": []
  },
  {
   "cell_type": "code",
   "execution_count": null,
   "id": "e0d71ba6-8ad1-4f93-996b-7603f944cf04",
   "metadata": {},
   "outputs": [],
   "source": []
  }
 ],
 "metadata": {
  "kernelspec": {
   "display_name": "Python [conda env:cv]",
   "language": "python",
   "name": "conda-env-cv-py"
  },
  "language_info": {
   "codemirror_mode": {
    "name": "ipython",
    "version": 3
   },
   "file_extension": ".py",
   "mimetype": "text/x-python",
   "name": "python",
   "nbconvert_exporter": "python",
   "pygments_lexer": "ipython3",
   "version": "3.6.13"
  }
 },
 "nbformat": 4,
 "nbformat_minor": 5
}
