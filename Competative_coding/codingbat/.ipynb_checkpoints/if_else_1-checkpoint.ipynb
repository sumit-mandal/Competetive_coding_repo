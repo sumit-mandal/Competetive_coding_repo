{
 "cells": [
  {
   "cell_type": "markdown",
   "id": "fa11a0b7-de05-45b3-8e32-c2278131fd58",
   "metadata": {},
   "source": [
    "\n",
    "When squirrels get together for a party, they like to have cigars. A squirrel party is successful when the number of cigars is between 40 and 60, inclusive. Unless it is the weekend, in which case there is no upper bound on the number of cigars. Return True if the party with the given values is successful, or False otherwise.\n",
    "\n"
   ]
  },
  {
   "cell_type": "code",
   "execution_count": 6,
   "id": "f6833622-3054-453e-82c7-5fb89efd564b",
   "metadata": {},
   "outputs": [],
   "source": [
    "def cigar_party(cigars, is_weekend):\n",
    "  if is_weekend is False:\n",
    "    if cigars>=40 and cigars<=60:\n",
    "      return True\n",
    "    else:\n",
    "      return False\n",
    "  elif is_weekend is True:\n",
    "    if cigars>=40:\n",
    "      return True\n",
    "    else:\n",
    "      return False\n",
    "    \n"
   ]
  },
  {
   "cell_type": "code",
   "execution_count": null,
   "id": "de18e5d5-e27b-46ba-a564-8765ed85a630",
   "metadata": {},
   "outputs": [],
   "source": []
  },
  {
   "cell_type": "code",
   "execution_count": null,
   "id": "a9eac4bc-daeb-4985-9add-5cfe32c77bc9",
   "metadata": {},
   "outputs": [],
   "source": []
  },
  {
   "cell_type": "code",
   "execution_count": null,
   "id": "ba27827a-dbc7-47a9-8f11-3e291703c3b3",
   "metadata": {},
   "outputs": [],
   "source": []
  },
  {
   "cell_type": "code",
   "execution_count": null,
   "id": "2de39a2e-669c-48e3-84db-620deffb9ffd",
   "metadata": {},
   "outputs": [],
   "source": []
  }
 ],
 "metadata": {
  "kernelspec": {
   "display_name": "Python [conda env:cv]",
   "language": "python",
   "name": "conda-env-cv-py"
  },
  "language_info": {
   "codemirror_mode": {
    "name": "ipython",
    "version": 3
   },
   "file_extension": ".py",
   "mimetype": "text/x-python",
   "name": "python",
   "nbconvert_exporter": "python",
   "pygments_lexer": "ipython3",
   "version": "3.6.13"
  }
 },
 "nbformat": 4,
 "nbformat_minor": 5
}
