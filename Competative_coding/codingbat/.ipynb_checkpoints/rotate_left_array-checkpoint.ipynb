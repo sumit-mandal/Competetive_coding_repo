{
 "cells": [
  {
   "cell_type": "code",
   "execution_count": 29,
   "id": "46e0896e-a156-4539-831b-10e9fe3d96a9",
   "metadata": {},
   "outputs": [],
   "source": [
    "nums = [1,2,3,4]\n",
    "\n",
    "def rotate_left3(nums):\n",
    "    new_list = []\n",
    "    for i in range(len(nums)-1):\n",
    "\n",
    "#         print(nums[i+1])\n",
    "        new_list.append(nums[i+1])\n",
    "    new_list.append(nums[0])\n",
    "        \n",
    "    return new_list"
   ]
  },
  {
   "cell_type": "code",
   "execution_count": 13,
   "id": "c1697666-73ab-466c-b19e-8acc0a6f9e04",
   "metadata": {},
   "outputs": [
    {
     "data": {
      "text/plain": [
       "[2, 3, 1]"
      ]
     },
     "execution_count": 13,
     "metadata": {},
     "output_type": "execute_result"
    }
   ],
   "source": [
    "rotate_left3(nums)"
   ]
  },
  {
   "cell_type": "code",
   "execution_count": 181,
   "id": "4dfe3e43-0a2b-4677-9ccc-399e3843a70f",
   "metadata": {},
   "outputs": [],
   "source": [
    "def reverse3(nums):\n",
    "#     new_list = []\n",
    "    for i in range(len(nums)//2):\n",
    "        nums[i] = nums[-1-i]\n",
    "    return nums"
   ]
  },
  {
   "cell_type": "code",
   "execution_count": 182,
   "id": "748dc972-ad7b-4742-98b5-e18d8e7cb7f6",
   "metadata": {},
   "outputs": [],
   "source": [
    "nums = [1,2,3,4,5,6,7,8]\n"
   ]
  },
  {
   "cell_type": "code",
   "execution_count": 66,
   "id": "2d80a234-3c68-4a30-86db-1a13a169e07f",
   "metadata": {},
   "outputs": [
    {
     "data": {
      "text/plain": [
       "[8, 7, 6, 5, 4, 3, 2, 1]"
      ]
     },
     "execution_count": 66,
     "metadata": {},
     "output_type": "execute_result"
    }
   ],
   "source": [
    "reverse3(nums_1)"
   ]
  },
  {
   "cell_type": "code",
   "execution_count": 167,
   "id": "8ffea95a-5c83-4519-b2d0-c426ff171398",
   "metadata": {},
   "outputs": [],
   "source": [
    "def max_end3(nums):\n",
    "  for i in range(nums):\n",
    "    maxim = max(nums[i])\n",
    "    print(maxim)"
   ]
  },
  {
   "cell_type": "code",
   "execution_count": 185,
   "id": "35cccafb-58cf-4ca8-8e6a-804482828fef",
   "metadata": {},
   "outputs": [
    {
     "name": "stdout",
     "output_type": "stream",
     "text": [
      "1\n",
      "2\n",
      "3\n",
      "4\n",
      "5\n",
      "6\n",
      "7\n",
      "8\n"
     ]
    }
   ],
   "source": [
    "for i in range(len(nums)):\n",
    "    print(nums[i])\n",
    "    "
   ]
  },
  {
   "cell_type": "code",
   "execution_count": 12,
   "id": "89aa25cd-735d-4453-b2d6-d0a2bafeac8d",
   "metadata": {},
   "outputs": [
    {
     "name": "stdout",
     "output_type": "stream",
     "text": [
      "['5']\n",
      "['0']\n"
     ]
    }
   ],
   "source": [
    "a = 50\n",
    "\n",
    "a = str(50)\n",
    "\n",
    "for i in a:\n",
    "    print(i.split())\n",
    "\n",
    "\n"
   ]
  },
  {
   "cell_type": "code",
   "execution_count": 21,
   "id": "735c73bb-08e3-4667-8842-d703853d49e4",
   "metadata": {},
   "outputs": [
    {
     "data": {
      "text/plain": [
       "['0']"
      ]
     },
     "execution_count": 21,
     "metadata": {},
     "output_type": "execute_result"
    }
   ],
   "source": [
    "k = [i.split() for i in a]\n",
    "\n",
    "k[-1]"
   ]
  },
  {
   "cell_type": "code",
   "execution_count": 40,
   "id": "be79db8a-18de-4e74-bc3e-6c53493b99d5",
   "metadata": {},
   "outputs": [],
   "source": [
    "from math import ceil,floor\n",
    "def round_sum(a, b, c):\n",
    "    return (round10(a)+round10(b)+round10(c))\n",
    "  \n",
    "def round10(num):\n",
    "    num1 = str(num)\n",
    "    k = [i.split() for i in num1]\n",
    "    \n",
    "\n",
    "    if k[-1]>=5:\n",
    "        return ceil(num)\n",
    "    else:\n",
    "        return floor(num)"
   ]
  },
  {
   "cell_type": "code",
   "execution_count": 41,
   "id": "989cb706-05c6-4628-985e-24cd83386ccb",
   "metadata": {},
   "outputs": [
    {
     "name": "stdout",
     "output_type": "stream",
     "text": [
      "[['1'], ['0']]\n"
     ]
    },
    {
     "ename": "TypeError",
     "evalue": "'>=' not supported between instances of 'list' and 'int'",
     "output_type": "error",
     "traceback": [
      "\u001b[1;31m---------------------------------------------------------------------------\u001b[0m",
      "\u001b[1;31mTypeError\u001b[0m                                 Traceback (most recent call last)",
      "\u001b[1;32m<ipython-input-41-c90dd00bed8f>\u001b[0m in \u001b[0;36m<module>\u001b[1;34m()\u001b[0m\n\u001b[1;32m----> 1\u001b[1;33m \u001b[0mround_sum\u001b[0m\u001b[1;33m(\u001b[0m\u001b[1;36m10\u001b[0m\u001b[1;33m,\u001b[0m\u001b[1;36m11\u001b[0m\u001b[1;33m,\u001b[0m\u001b[1;36m13\u001b[0m\u001b[1;33m)\u001b[0m\u001b[1;33m\u001b[0m\u001b[1;33m\u001b[0m\u001b[0m\n\u001b[0m",
      "\u001b[1;32m<ipython-input-40-e1d476b764d5>\u001b[0m in \u001b[0;36mround_sum\u001b[1;34m(a, b, c)\u001b[0m\n\u001b[0;32m      1\u001b[0m \u001b[1;32mfrom\u001b[0m \u001b[0mmath\u001b[0m \u001b[1;32mimport\u001b[0m \u001b[0mceil\u001b[0m\u001b[1;33m,\u001b[0m\u001b[0mfloor\u001b[0m\u001b[1;33m\u001b[0m\u001b[1;33m\u001b[0m\u001b[0m\n\u001b[0;32m      2\u001b[0m \u001b[1;32mdef\u001b[0m \u001b[0mround_sum\u001b[0m\u001b[1;33m(\u001b[0m\u001b[0ma\u001b[0m\u001b[1;33m,\u001b[0m \u001b[0mb\u001b[0m\u001b[1;33m,\u001b[0m \u001b[0mc\u001b[0m\u001b[1;33m)\u001b[0m\u001b[1;33m:\u001b[0m\u001b[1;33m\u001b[0m\u001b[1;33m\u001b[0m\u001b[0m\n\u001b[1;32m----> 3\u001b[1;33m     \u001b[1;32mreturn\u001b[0m \u001b[1;33m(\u001b[0m\u001b[0mround10\u001b[0m\u001b[1;33m(\u001b[0m\u001b[0ma\u001b[0m\u001b[1;33m)\u001b[0m\u001b[1;33m+\u001b[0m\u001b[0mround10\u001b[0m\u001b[1;33m(\u001b[0m\u001b[0mb\u001b[0m\u001b[1;33m)\u001b[0m\u001b[1;33m+\u001b[0m\u001b[0mround10\u001b[0m\u001b[1;33m(\u001b[0m\u001b[0mc\u001b[0m\u001b[1;33m)\u001b[0m\u001b[1;33m)\u001b[0m\u001b[1;33m\u001b[0m\u001b[1;33m\u001b[0m\u001b[0m\n\u001b[0m\u001b[0;32m      4\u001b[0m \u001b[1;33m\u001b[0m\u001b[0m\n\u001b[0;32m      5\u001b[0m \u001b[1;32mdef\u001b[0m \u001b[0mround10\u001b[0m\u001b[1;33m(\u001b[0m\u001b[0mnum\u001b[0m\u001b[1;33m)\u001b[0m\u001b[1;33m:\u001b[0m\u001b[1;33m\u001b[0m\u001b[1;33m\u001b[0m\u001b[0m\n",
      "\u001b[1;32m<ipython-input-40-e1d476b764d5>\u001b[0m in \u001b[0;36mround10\u001b[1;34m(num)\u001b[0m\n\u001b[0;32m      8\u001b[0m     \u001b[0mprint\u001b[0m\u001b[1;33m(\u001b[0m\u001b[0mk\u001b[0m\u001b[1;33m)\u001b[0m\u001b[1;33m\u001b[0m\u001b[1;33m\u001b[0m\u001b[0m\n\u001b[0;32m      9\u001b[0m \u001b[1;33m\u001b[0m\u001b[0m\n\u001b[1;32m---> 10\u001b[1;33m     \u001b[1;32mif\u001b[0m \u001b[0mk\u001b[0m\u001b[1;33m[\u001b[0m\u001b[1;33m-\u001b[0m\u001b[1;36m1\u001b[0m\u001b[1;33m]\u001b[0m\u001b[1;33m>=\u001b[0m\u001b[1;36m5\u001b[0m\u001b[1;33m:\u001b[0m\u001b[1;33m\u001b[0m\u001b[1;33m\u001b[0m\u001b[0m\n\u001b[0m\u001b[0;32m     11\u001b[0m         \u001b[1;32mreturn\u001b[0m \u001b[0mceil\u001b[0m\u001b[1;33m(\u001b[0m\u001b[0mnum\u001b[0m\u001b[1;33m)\u001b[0m\u001b[1;33m\u001b[0m\u001b[1;33m\u001b[0m\u001b[0m\n\u001b[0;32m     12\u001b[0m     \u001b[1;32melse\u001b[0m\u001b[1;33m:\u001b[0m\u001b[1;33m\u001b[0m\u001b[1;33m\u001b[0m\u001b[0m\n",
      "\u001b[1;31mTypeError\u001b[0m: '>=' not supported between instances of 'list' and 'int'"
     ]
    }
   ],
   "source": [
    "round_sum(10,11,13)"
   ]
  },
  {
   "cell_type": "code",
   "execution_count": 8,
   "id": "7bb5a8e0-97f8-4968-bb52-4a0b9228887e",
   "metadata": {},
   "outputs": [
    {
     "data": {
      "text/plain": [
       "'TTTTHHHHEEEE'"
      ]
     },
     "execution_count": 8,
     "metadata": {},
     "output_type": "execute_result"
    }
   ],
   "source": [
    "char_1 = \"TTHHEE\"\n",
    "\n",
    "''.join([i*2 for i in char_1])"
   ]
  },
  {
   "cell_type": "code",
   "execution_count": 57,
   "id": "ec351de0-65e5-493e-97c0-247d255fd478",
   "metadata": {},
   "outputs": [],
   "source": [
    "def count_hi(str_1):\n",
    "    count = 0\n",
    "    for i in range(len(str_1)-1):\n",
    "#         print(str_1[i])\n",
    "        if str_1[i:i+2] == \"hi\":\n",
    "            \n",
    "            count += 1\n",
    "        return count\n",
    "        \n",
    "        "
   ]
  },
  {
   "cell_type": "code",
   "execution_count": 58,
   "id": "2bea16e8-ad22-4a6b-a7d7-29ada49fb71e",
   "metadata": {},
   "outputs": [
    {
     "data": {
      "text/plain": [
       "1"
      ]
     },
     "execution_count": 58,
     "metadata": {},
     "output_type": "execute_result"
    }
   ],
   "source": [
    "count_hi(\"hi bhai hia hu mai. Tu khia hai. Hi bhai. Terko bhi hi\")"
   ]
  },
  {
   "cell_type": "code",
   "execution_count": 59,
   "id": "4861ec77-d96b-44cc-9514-7aeb293ef9e6",
   "metadata": {},
   "outputs": [
    {
     "data": {
      "text/plain": [
       "1"
      ]
     },
     "execution_count": 59,
     "metadata": {},
     "output_type": "execute_result"
    }
   ],
   "source": [
    "count_hi(\"hi How are you. HI\")"
   ]
  },
  {
   "cell_type": "code",
   "execution_count": 71,
   "id": "6ac93d23-8cb0-495d-aedc-3e14786eb60b",
   "metadata": {},
   "outputs": [],
   "source": [
    "def cat_dog(str_1):\n",
    "  for i in range(len(str_1)):\n",
    "    print(str_1[i:i+3])\n",
    "    print(str_1[i+3:i+6])\n",
    "    if str_1[i:i+3]=='cat' and str_1[i:i+3]=='dog':\n",
    "      return True\n",
    "    else:\n",
    "      return False\n",
    "    "
   ]
  },
  {
   "cell_type": "code",
   "execution_count": 78,
   "id": "d402c841-90e7-40bd-9e5a-717b99dc7423",
   "metadata": {},
   "outputs": [],
   "source": [
    "val = 'catcat'\n",
    "cat_dog(val)"
   ]
  },
  {
   "cell_type": "code",
   "execution_count": 9,
   "id": "edea43d2-863b-456b-917c-7e49181dcada",
   "metadata": {},
   "outputs": [],
   "source": [
    "def cat_dog(str_1):\n",
    "    cat_count = 0\n",
    "    dog_count = 0\n",
    "#     if 'cat' in str_1 and 'dog' in str_1:\n",
    "#         return True\n",
    "#     else:\n",
    "#         return False\n",
    "    \n",
    "    for i in range(len(str_1)):\n",
    "        if str_1[i:i+3] == 'cat':\n",
    "            cat_count +=1\n",
    "        elif str_1[i:i+3] == 'dog':\n",
    "            dog_count +=1\n",
    "            \n",
    "    if cat_count == dog_count:\n",
    "        return True\n",
    "    else:\n",
    "        return False\n",
    "            \n",
    "#     return cat_count,dog_count"
   ]
  },
  {
   "cell_type": "code",
   "execution_count": 12,
   "id": "f7299b6f-cc2a-4534-bbeb-4dbc323f3850",
   "metadata": {},
   "outputs": [
    {
     "data": {
      "text/plain": [
       "True"
      ]
     },
     "execution_count": 12,
     "metadata": {},
     "output_type": "execute_result"
    }
   ],
   "source": [
    "val = 'catcatcatdogdogdog'\n",
    "cat_dog(val)"
   ]
  },
  {
   "cell_type": "code",
   "execution_count": 35,
   "id": "e0585f6a-cb8b-4bdb-9826-682c81ec631a",
   "metadata": {},
   "outputs": [],
   "source": [
    "def count_code(str_1):\n",
    "    if (str_1[:2]=='co' and str_1[3:4] == 'e'):\n",
    "        return str_1.count(str_1[:2] and str_1[3:4])\n",
    "        \n",
    "    \n",
    "  "
   ]
  },
  {
   "cell_type": "code",
   "execution_count": 36,
   "id": "d1dbe4df-a8e4-46f5-8492-1209e0878a45",
   "metadata": {},
   "outputs": [
    {
     "data": {
      "text/plain": [
       "2"
      ]
     },
     "execution_count": 36,
     "metadata": {},
     "output_type": "execute_result"
    }
   ],
   "source": []
  },
  {
   "cell_type": "code",
   "execution_count": 60,
   "id": "4d39c894-aeae-4727-85bd-e4a142fa24f4",
   "metadata": {},
   "outputs": [],
   "source": [
    "def count_code(str_1):\n",
    "    count = 0\n",
    "    \n",
    "    for i in range(len(str_1)-3):\n",
    "        print(i)\n",
    "        if str_1[i:i+2]==\"co\" and str_1[i+3] ==\"e\":\n",
    "            count+=1\n",
    "            \n",
    "    return count\n",
    "        "
   ]
  },
  {
   "cell_type": "code",
   "execution_count": 61,
   "id": "53914382-fd0e-46d4-8410-07771d3421f5",
   "metadata": {},
   "outputs": [
    {
     "name": "stdout",
     "output_type": "stream",
     "text": [
      "0\n",
      "1\n",
      "2\n",
      "3\n",
      "4\n",
      "5\n",
      "6\n"
     ]
    },
    {
     "data": {
      "text/plain": [
       "1"
      ]
     },
     "execution_count": 61,
     "metadata": {},
     "output_type": "execute_result"
    }
   ],
   "source": [
    "count_code('aaacodebbb')"
   ]
  },
  {
   "cell_type": "code",
   "execution_count": 62,
   "id": "8f4e5f5b-cdc7-4123-ab2f-7be3dbd3c245",
   "metadata": {},
   "outputs": [
    {
     "data": {
      "text/plain": [
       "10"
      ]
     },
     "execution_count": 62,
     "metadata": {},
     "output_type": "execute_result"
    }
   ],
   "source": []
  },
  {
   "cell_type": "code",
   "execution_count": null,
   "id": "0ed3fb1d-d2b9-49d4-af39-d06486674d30",
   "metadata": {},
   "outputs": [],
   "source": []
  }
 ],
 "metadata": {
  "kernelspec": {
   "display_name": "Python [conda env:cv]",
   "language": "python",
   "name": "conda-env-cv-py"
  },
  "language_info": {
   "codemirror_mode": {
    "name": "ipython",
    "version": 3
   },
   "file_extension": ".py",
   "mimetype": "text/x-python",
   "name": "python",
   "nbconvert_exporter": "python",
   "pygments_lexer": "ipython3",
   "version": "3.6.13"
  }
 },
 "nbformat": 4,
 "nbformat_minor": 5
}
