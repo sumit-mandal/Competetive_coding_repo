{
 "cells": [
  {
   "cell_type": "markdown",
   "id": "dc447912-8280-4a72-98db-356e50fede07",
   "metadata": {},
   "source": [
    "Given an array length 1 or more of ints, return the difference between the largest and smallest values in the array. Note: the built-in min(v1, v2) and max(v1, v2) functions return the smaller or larger of two values.\n",
    "\n",
    "\n",
    "- big_diff([10, 3, 5, 6]) → 7\n",
    "- big_diff([7, 2, 10, 9]) → 8\n",
    "- big_diff([2, 10, 7, 2]) → 8"
   ]
  },
  {
   "cell_type": "code",
   "execution_count": 26,
   "id": "833c8b60-a665-4785-b010-543c4979c54a",
   "metadata": {},
   "outputs": [],
   "source": [
    "def big_diff(nums):\n",
    "    max_value = 0\n",
    "    min_value = nums[0]\n",
    "    for i in nums:\n",
    "        if i>=max_value:\n",
    "            max_value = i\n",
    "        if i< min_value:\n",
    "            min_value = i\n",
    "            \n",
    "            \n",
    "    return max_value-min_value\n",
    "\n",
    "\n",
    "            "
   ]
  },
  {
   "cell_type": "code",
   "execution_count": 27,
   "id": "845538c6-6e52-40bf-a64d-f7e4556159f5",
   "metadata": {},
   "outputs": [
    {
     "data": {
      "text/plain": [
       "7"
      ]
     },
     "execution_count": 27,
     "metadata": {},
     "output_type": "execute_result"
    }
   ],
   "source": [
    "big_diff([10,3,5,6])"
   ]
  },
  {
   "cell_type": "markdown",
   "id": "74fd5ad3-4883-4f11-ad9d-4dacf3a07c36",
   "metadata": {},
   "source": [
    "\n",
    "Return the \"centered\" average of an array of ints, which we'll say is the mean average of the values, except ignoring the largest and smallest values in the array. If there are multiple copies of the smallest value, ignore just one copy, and likewise for the largest value. Use int division to produce the final average. You may assume that the array is length 3 or more.\n",
    "\n",
    "\n",
    "- centered_average([1, 2, 3, 4, 100]) → 3\n",
    "- centered_average([1, 1, 5, 5, 10, 8, 7]) → 5\n",
    "- centered_average([-10, -4, -2, -4, -2, 0]) → -3"
   ]
  },
  {
   "cell_type": "code",
   "execution_count": 64,
   "id": "a9bc0b94-f473-4b35-a8b5-b083d28b3a38",
   "metadata": {},
   "outputs": [],
   "source": [
    "def centered_average(nums):\n",
    "    min_value = nums[0]\n",
    "    max_value = nums[0]\n",
    "    sum_1 = 0\n",
    "    \n",
    "    for i in nums:\n",
    "        if i>max_value:\n",
    "            max_value = i\n",
    "        if i<min_value:\n",
    "            min_value = i\n",
    "            \n",
    "        sum_1 +=i\n",
    "        \n",
    "    return (sum_1-max_value-min_value)//(len(nums) - 2)\n",
    "    "
   ]
  },
  {
   "cell_type": "code",
   "execution_count": 65,
   "id": "1a7d4f83-ce55-41a7-a82b-3b3632bef11b",
   "metadata": {},
   "outputs": [
    {
     "data": {
      "text/plain": [
       "5"
      ]
     },
     "execution_count": 65,
     "metadata": {},
     "output_type": "execute_result"
    }
   ],
   "source": [
    "centered_average([1, 1, 5, 5, 10, 8, 7])"
   ]
  },
  {
   "cell_type": "markdown",
   "id": "49ec27fe-1ad3-41f7-8e72-21d88a8ba801",
   "metadata": {},
   "source": [
    "\n",
    "Return the sum of the numbers in the array, returning 0 for an empty array. Except the number 13 is very unlucky, so it does not count and numbers that come immediately after a 13 also do not count.\n",
    "\n",
    "\n",
    "- sum13([1, 2, 2, 1]) → 6\n",
    "- sum13([1, 1]) → 2\n",
    "- sum13([1, 2, 2, 1, 13]) → 6"
   ]
  },
  {
   "cell_type": "code",
   "execution_count": 108,
   "id": "66603ab9-56ea-4fef-b33e-c58ec0768b2d",
   "metadata": {},
   "outputs": [],
   "source": [
    "def sum13(nums):\n",
    "#     sum_1 = 0\n",
    "#     print(len(nums))\n",
    "    if len(nums) == 0:\n",
    "        return 0\n",
    "    else:\n",
    "        sum_1 = 0\n",
    "        for i in nums:\n",
    "            \n",
    "            if i == 13:\n",
    "                sum_1 = (sum_1-(i+(i+1)))\n",
    "                print(i)\n",
    "                \n",
    "            else:\n",
    "                sum_1 += i\n",
    "#             print(i)\n",
    "\n",
    "#             sum_1 += i\n",
    "#             if i==13:\n",
    "#                 print(nums[i])\n",
    "#                 sum_1 = (sum_1+i-(nums[i]+nums[i+1]))\n",
    "# #                 print(sum_1[i])\n",
    "                \n",
    "                \n",
    "        return sum_1\n",
    "            \n",
    "      \n",
    "    \n"
   ]
  },
  {
   "cell_type": "code",
   "execution_count": 109,
   "id": "937aee23-0310-4e28-8e34-98f6d8e86125",
   "metadata": {},
   "outputs": [
    {
     "name": "stdout",
     "output_type": "stream",
     "text": [
      "13\n"
     ]
    },
    {
     "data": {
      "text/plain": [
       "-21"
      ]
     },
     "execution_count": 109,
     "metadata": {},
     "output_type": "execute_result"
    }
   ],
   "source": [
    "sum13([1,2,13,2,1])"
   ]
  },
  {
   "cell_type": "code",
   "execution_count": 163,
   "id": "d5dd3eea-76c9-4bb6-b724-dda95e8d3b98",
   "metadata": {},
   "outputs": [],
   "source": [
    "sum13 = ([1,12,3,4,5,6])"
   ]
  },
  {
   "cell_type": "code",
   "execution_count": 169,
   "id": "a71e472e-a00c-42ac-a563-a731206117d6",
   "metadata": {},
   "outputs": [
    {
     "name": "stdout",
     "output_type": "stream",
     "text": [
      "1\n",
      "12\n",
      "3\n",
      "4\n",
      "5\n",
      "6\n"
     ]
    }
   ],
   "source": [
    "\n",
    "\n",
    "for i in sum13:\n",
    "    print(i)"
   ]
  },
  {
   "cell_type": "code",
   "execution_count": 135,
   "id": "46346f6b-1957-436b-84a1-d79a084ea692",
   "metadata": {},
   "outputs": [
    {
     "name": "stdout",
     "output_type": "stream",
     "text": [
      "12\n",
      "3\n",
      "4\n",
      "5\n",
      "6\n"
     ]
    },
    {
     "ename": "IndexError",
     "evalue": "list index out of range",
     "output_type": "error",
     "traceback": [
      "\u001b[1;31m---------------------------------------------------------------------------\u001b[0m",
      "\u001b[1;31mIndexError\u001b[0m                                Traceback (most recent call last)",
      "\u001b[1;32m~\\AppData\\Local\\Temp/ipykernel_4260/133987610.py\u001b[0m in \u001b[0;36m<module>\u001b[1;34m\u001b[0m\n\u001b[0;32m      1\u001b[0m \u001b[1;32mfor\u001b[0m \u001b[0mi\u001b[0m \u001b[1;32min\u001b[0m \u001b[0mrange\u001b[0m\u001b[1;33m(\u001b[0m\u001b[0mlen\u001b[0m\u001b[1;33m(\u001b[0m\u001b[0msum13\u001b[0m\u001b[1;33m)\u001b[0m\u001b[1;33m)\u001b[0m\u001b[1;33m:\u001b[0m\u001b[1;33m\u001b[0m\u001b[1;33m\u001b[0m\u001b[0m\n\u001b[1;32m----> 2\u001b[1;33m     \u001b[0mprint\u001b[0m\u001b[1;33m(\u001b[0m\u001b[0msum13\u001b[0m\u001b[1;33m[\u001b[0m\u001b[0mi\u001b[0m\u001b[1;33m+\u001b[0m\u001b[1;36m1\u001b[0m\u001b[1;33m]\u001b[0m\u001b[1;33m)\u001b[0m\u001b[1;33m\u001b[0m\u001b[1;33m\u001b[0m\u001b[0m\n\u001b[0m",
      "\u001b[1;31mIndexError\u001b[0m: list index out of range"
     ]
    }
   ],
   "source": [
    "for i in range(len(sum13)):\n",
    "    print(sum13[i+1])"
   ]
  },
  {
   "cell_type": "code",
   "execution_count": 1,
   "id": "3a65c272-04f6-44db-8eee-b4dfe112e1bd",
   "metadata": {},
   "outputs": [],
   "source": [
    "def sum13(nums):\n",
    "#     sum_1 = 0\n",
    "#     print(len(nums))\n",
    "    if len(nums) == 0:\n",
    "        return 0\n",
    "    else:\n",
    "        sum_1 = 0\n",
    "        for i in range(len(nums)):\n",
    "            \n",
    "            if nums[i] == 13:\n",
    "#                 sum_1 = \n",
    "                sum_1 = (sum_1+nums[i])-(nums[i]+(nums[i-1]))\n",
    "                print(i)\n",
    "                \n",
    "            else:\n",
    "                sum_1 += i\n",
    "#             print(i)\n",
    "\n",
    "#             sum_1 += i\n",
    "#             if i==13:\n",
    "#                 print(nums[i])\n",
    "#                 sum_1 = (sum_1+i-(nums[i]+nums[i+1]))\n",
    "# #                 print(sum_1[i])\n",
    "                \n",
    "                \n",
    "        return sum_1\n",
    "            \n",
    "      \n",
    "    \n"
   ]
  },
  {
   "cell_type": "code",
   "execution_count": 2,
   "id": "d84e5515-3c5e-4b87-833a-92bf80283581",
   "metadata": {},
   "outputs": [
    {
     "name": "stdout",
     "output_type": "stream",
     "text": [
      "4\n"
     ]
    },
    {
     "data": {
      "text/plain": [
       "5"
      ]
     },
     "execution_count": 2,
     "metadata": {},
     "output_type": "execute_result"
    }
   ],
   "source": [
    "sum13([1, 2, 2,1,13])"
   ]
  },
  {
   "cell_type": "markdown",
   "id": "694d1b7e-6c25-40a0-b823-ac73613a9733",
   "metadata": {},
   "source": [
    "\n",
    "Return the sum of the numbers in the array, except ignore sections of numbers starting with a 6 and extending to the next 7 (every 6 will be followed by at least one 7). Return 0 for no numbers.\n",
    "\n",
    "\n",
    "- sum67([1, 2, 2]) → 5\n",
    "- sum67([1, 2, 2, 6, 99, 99, 7]) → 5\n",
    "- sum67([1, 1, 6, 7, 2]) → 4"
   ]
  },
  {
   "cell_type": "code",
   "execution_count": 21,
   "id": "3079cf2f-ae41-438b-b379-6e0ea38a8bee",
   "metadata": {},
   "outputs": [],
   "source": [
    "def sum67(nums):\n",
    "    sum_1 = 0\n",
    "    for i in nums:\n",
    "        if i!=6:\n",
    "            \n",
    "            sum_1 += i\n",
    "        \n",
    "    return sum_1"
   ]
  },
  {
   "cell_type": "code",
   "execution_count": 22,
   "id": "61525c69-24b7-42c2-b923-2fe3a2a77e05",
   "metadata": {},
   "outputs": [
    {
     "data": {
      "text/plain": [
       "5"
      ]
     },
     "execution_count": 22,
     "metadata": {},
     "output_type": "execute_result"
    }
   ],
   "source": [
    "sum67([1, 2, 2,6])"
   ]
  },
  {
   "cell_type": "code",
   "execution_count": 27,
   "id": "f34ceac9-6a9f-48ec-90d4-b14c30bc7d7e",
   "metadata": {},
   "outputs": [],
   "source": [
    "def sum13(nums):\n",
    "  sum_1 = 0\n",
    "  if nums == []:\n",
    "    return sum_1\n",
    "  if nums[0] != 13:\n",
    "    sum_1 += nums[0]\n",
    "  for i in range(1,len(nums)):\n",
    "    if nums[i] !=13 and nums[i-1] !=13:\n",
    "      sum_1 += nums[i]\n",
    "      print(sum_1)\n",
    "    \n",
    "        \n",
    "  return sum_1\n",
    "    \n",
    "  \n"
   ]
  },
  {
   "cell_type": "code",
   "execution_count": 28,
   "id": "84e46484-b786-4af8-8236-bba6957b38cf",
   "metadata": {},
   "outputs": [
    {
     "name": "stdout",
     "output_type": "stream",
     "text": [
      "3\n",
      "6\n",
      "7\n"
     ]
    },
    {
     "data": {
      "text/plain": [
       "7"
      ]
     },
     "execution_count": 28,
     "metadata": {},
     "output_type": "execute_result"
    }
   ],
   "source": [
    "sum13([1,2,3,13,4,1])"
   ]
  },
  {
   "cell_type": "code",
   "execution_count": 29,
   "id": "a151cd14-7230-4c70-ac21-8bd427ed974b",
   "metadata": {},
   "outputs": [],
   "source": [
    "def sum67(nums):\n",
    "  sum = 0\n",
    "  startAdding = True\n",
    "  for i in nums:\n",
    "    if i==6:\n",
    "      \n",
    "      startAdding = False\n",
    "    if startAdding == True:\n",
    "      sum += i\n",
    "    if i==7:\n",
    "      startAdding = True\n",
    "    \n",
    "    \n",
    "  return sum\n",
    "    \n"
   ]
  },
  {
   "cell_type": "markdown",
   "id": "d3fb79c9-98f7-4654-a50b-d4c0ed6424ce",
   "metadata": {},
   "source": [
    "\n",
    "Given an array of ints, return True if the array contains a 2 next to a 2 somewhere.\n",
    "\n",
    "\n",
    "- has22([1, 2, 2]) → True\n",
    "- has22([1, 2, 1, 2]) → False\n",
    "- has22([2, 1, 2]) → False"
   ]
  },
  {
   "cell_type": "code",
   "execution_count": 100,
   "id": "119eb572-425d-4076-8c4a-fcb83f913dcd",
   "metadata": {},
   "outputs": [],
   "source": [
    "def has22(nums):\n",
    "    ifnext = True\n",
    "    \n",
    "    for i in range(len(nums)):\n",
    "        print(nums[i],nums[i-1])\n",
    "        \n",
    "        if nums[i] == 2 and nums[i-1] == 2:\n",
    "            \n",
    "             ifnext = True\n",
    "        else:\n",
    "            ifnext = False\n",
    "            \n",
    "    return ifnext"
   ]
  },
  {
   "cell_type": "code",
   "execution_count": 101,
   "id": "fb9a5799-79ad-46c6-87ab-1ee0fe2de388",
   "metadata": {},
   "outputs": [
    {
     "name": "stdout",
     "output_type": "stream",
     "text": [
      "2 2\n",
      "2 2\n",
      "1 2\n",
      "2 1\n"
     ]
    },
    {
     "data": {
      "text/plain": [
       "False"
      ]
     },
     "execution_count": 101,
     "metadata": {},
     "output_type": "execute_result"
    }
   ],
   "source": [
    "has22([2,2,1,2])"
   ]
  },
  {
   "cell_type": "code",
   "execution_count": null,
   "id": "bb1f2ddc-22e5-4ec1-8f1a-b593a98d39b7",
   "metadata": {},
   "outputs": [],
   "source": [
    "def has22(nums):\n",
    "  istwo=0\n",
    "  for i in nums:\n",
    "    if i==2:\n",
    "      if istwo:\n",
    "        return True\n",
    "      else:\n",
    "        istwo=1\n",
    "    else:\n",
    "      istwo=0\n",
    "  return False"
   ]
  },
  {
   "cell_type": "code",
   "execution_count": null,
   "id": "cdc6124b-66f6-47c4-9b66-aed53151bc4e",
   "metadata": {},
   "outputs": [],
   "source": []
  },
  {
   "cell_type": "code",
   "execution_count": null,
   "id": "baf14180-5ac2-4df8-98d8-875aeb2a4e32",
   "metadata": {},
   "outputs": [],
   "source": []
  }
 ],
 "metadata": {
  "kernelspec": {
   "display_name": "Python [conda env:cv2.2]",
   "language": "python",
   "name": "conda-env-cv2.2-py"
  },
  "language_info": {
   "codemirror_mode": {
    "name": "ipython",
    "version": 3
   },
   "file_extension": ".py",
   "mimetype": "text/x-python",
   "name": "python",
   "nbconvert_exporter": "python",
   "pygments_lexer": "ipython3",
   "version": "3.7.11"
  }
 },
 "nbformat": 4,
 "nbformat_minor": 5
}
