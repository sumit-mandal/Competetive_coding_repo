{
 "cells": [
  {
   "cell_type": "markdown",
   "id": "805a8220-91db-4296-8c6a-953fad16e368",
   "metadata": {},
   "source": [
    "\n",
    "Given two strings, return True if either of the strings appears at the very end of the other string, ignoring upper/lower case differences (in other words, the computation should not be \"case sensitive\"). Note: s.lower() returns the lowercase version of a string.\n",
    "\n",
    "\n",
    "end_other('Hiabc', 'abc') → True\n",
    "end_other('AbC', 'HiaBc') → True\n",
    "end_other('abc', 'abXabc') → True"
   ]
  },
  {
   "cell_type": "code",
   "execution_count": 28,
   "id": "5612ad37-0df7-4a0a-a1bb-f9b1c6a966b9",
   "metadata": {},
   "outputs": [],
   "source": [
    "def check(a,b):\n",
    "    a = a.lower()\n",
    "    b = b.lower()\n",
    "    check = True\n",
    "    \n",
    "    if len(a)>len(b):\n",
    "        for i in range(len(b)):\n",
    "            \n",
    "            if b[i] != a[-(len(b)-i)]:\n",
    "                check = False\n",
    "    else:\n",
    "        for i in range(len(a)):\n",
    "            if a[i] != b[-(len(a)-i)]:\n",
    "                check = True\n",
    "                \n",
    "    return check\n",
    "            \n",
    "            \n",
    "    "
   ]
  },
  {
   "cell_type": "code",
   "execution_count": 30,
   "id": "36be5949-2ae3-41c3-9710-600aaf2526d3",
   "metadata": {},
   "outputs": [
    {
     "data": {
      "text/plain": [
       "True"
      ]
     },
     "execution_count": 30,
     "metadata": {},
     "output_type": "execute_result"
    }
   ],
   "source": [
    "a = 'hiabc'\n",
    "\n",
    "b = 'abcdef'\n",
    "\n",
    "check(a,b)"
   ]
  },
  {
   "cell_type": "markdown",
   "id": "a1808971-9570-4e91-b9a8-9e9f34cc0e33",
   "metadata": {},
   "source": [
    "\n",
    "Return True if the given string contains an appearance of \"xyz\" where the xyz is not directly preceeded by a period (.). So \"xxyz\" counts but \"x.xyz\" does not.\n",
    "\n",
    "\n",
    "- xyz_there('abcxyz') → True\n",
    "- xyz_there('abc.xyz') → False\n",
    "- xyz_there('xyz.abc') → True"
   ]
  },
  {
   "cell_type": "code",
   "execution_count": 31,
   "id": "bb9c2811-e92c-4990-9d3c-7894d1beb015",
   "metadata": {},
   "outputs": [],
   "source": [
    "def xyz_there(str_1):\n",
    "    for i in range(len(str_1)):\n",
    "    "
   ]
  },
  {
   "cell_type": "code",
   "execution_count": 32,
   "id": "23b873f6-4ee3-46c5-b9a7-6e92947c1d16",
   "metadata": {},
   "outputs": [
    {
     "data": {
      "text/plain": [
       "'a.b.c.x.y.z'"
      ]
     },
     "execution_count": 32,
     "metadata": {},
     "output_type": "execute_result"
    }
   ],
   "source": [
    "xyz_there('abcxyz')"
   ]
  },
  {
   "cell_type": "code",
   "execution_count": null,
   "id": "d2f1fa5f-3dbb-449d-ad89-ef5079e0ffcb",
   "metadata": {},
   "outputs": [],
   "source": []
  }
 ],
 "metadata": {
  "kernelspec": {
   "display_name": "Python [conda env:cv]",
   "language": "python",
   "name": "conda-env-cv-py"
  },
  "language_info": {
   "codemirror_mode": {
    "name": "ipython",
    "version": 3
   },
   "file_extension": ".py",
   "mimetype": "text/x-python",
   "name": "python",
   "nbconvert_exporter": "python",
   "pygments_lexer": "ipython3",
   "version": "3.6.13"
  }
 },
 "nbformat": 4,
 "nbformat_minor": 5
}
