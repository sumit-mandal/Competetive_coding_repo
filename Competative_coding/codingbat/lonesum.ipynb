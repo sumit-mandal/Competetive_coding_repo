{
 "cells": [
  {
   "cell_type": "code",
   "execution_count": 20,
   "id": "a721e812-7587-49ed-95cb-75ad92390f2f",
   "metadata": {},
   "outputs": [],
   "source": [
    "def lone_sum(a, b, c):\n",
    "    sum = 0\n",
    "    if a!=b and a!=c:\n",
    "        sum +=a\n",
    "#         print(sum)\n",
    "    if b!=a and b!=c:\n",
    "        sum +=b\n",
    "#         print(sum)\n",
    "    if c!=a and c!=b:\n",
    "        sum +=c\n",
    "#         print(sum)\n",
    "        \n",
    "    return sum\n",
    "    \n",
    "a = 10\n",
    "b = 20\n",
    "c = 10\n",
    "    \n"
   ]
  },
  {
   "cell_type": "code",
   "execution_count": 21,
   "id": "8fc3bb67-b0db-4011-9495-9afa1d3dff13",
   "metadata": {},
   "outputs": [
    {
     "data": {
      "text/plain": [
       "20"
      ]
     },
     "execution_count": 21,
     "metadata": {},
     "output_type": "execute_result"
    }
   ],
   "source": [
    "lone_sum(a,b,c)"
   ]
  },
  {
   "cell_type": "markdown",
   "id": "71f6dabc-b180-48fd-b6ec-1ca018037890",
   "metadata": {},
   "source": [
    "\n",
    "We want to make a row of bricks that is goal inches long. We have a number of small bricks (1 inch each) and big bricks (5 inches each). Return True if it is possible to make the goal by choosing from the given bricks. This is a little harder than it looks and can be done without any loops. See also: Introduction to MakeBricks\n",
    "\n"
   ]
  },
  {
   "cell_type": "code",
   "execution_count": 24,
   "id": "c919ea37-2250-4e85-ba7a-d25d545cf344",
   "metadata": {},
   "outputs": [
    {
     "name": "stdout",
     "output_type": "stream",
     "text": [
      "True\n",
      "True\n"
     ]
    }
   ],
   "source": [
    "small , big, goal = 3, 1, 8\n",
    "\n",
    "def make_bricks(small,big,goal):\n",
    "    print((goal%5)<=small)\n",
    "    print((goal-(big*5))<=small)\n",
    "    \n",
    "make_bricks(small,big,goal)"
   ]
  },
  {
   "cell_type": "markdown",
   "id": "2dbe0512-0d56-45bf-a071-37fcfaa804f4",
   "metadata": {},
   "source": [
    "### Prob\n",
    "Given 3 int values, a b c, return their sum. However, if one of the values is 13 then it does not count towards the sum and values to its right do not count. So for example, if b is 13, then both b and c do not count.\n",
    "\n",
    "\n",
    " - lucky_sum(1, 2, 3) → 6\n",
    "\n",
    " - lucky_sum(1, 2, 13) → 3\n",
    " - lucky_sum(1, 13, 3) → 1"
   ]
  },
  {
   "cell_type": "code",
   "execution_count": 15,
   "id": "57da91ae-c109-4cb1-9a0a-a0620bf4bfa3",
   "metadata": {},
   "outputs": [],
   "source": [
    "def lucky_sum(a,b,c):\n",
    "    sum1 = 0\n",
    "    for n in (a,b,c):\n",
    "        print(n)\n",
    "        if n!=13:\n",
    "            sum1 += n\n",
    "        else:\n",
    "            break\n",
    "            \n",
    "    return sum1\n",
    "    "
   ]
  },
  {
   "cell_type": "code",
   "execution_count": 16,
   "id": "22a065aa-6e9d-49e2-b1df-d98b59ba2801",
   "metadata": {},
   "outputs": [
    {
     "name": "stdout",
     "output_type": "stream",
     "text": [
      "1\n",
      "13\n"
     ]
    },
    {
     "data": {
      "text/plain": [
       "1"
      ]
     },
     "execution_count": 16,
     "metadata": {},
     "output_type": "execute_result"
    }
   ],
   "source": [
    "lucky_sum(1,13,3)"
   ]
  },
  {
   "cell_type": "code",
   "execution_count": null,
   "id": "2502e05a-ecb7-42cf-9fa0-b3ad8dce6e6d",
   "metadata": {},
   "outputs": [],
   "source": []
  },
  {
   "cell_type": "code",
   "execution_count": null,
   "id": "ab9e9d64-85e3-4b3b-8e7b-061f46141ec6",
   "metadata": {},
   "outputs": [],
   "source": []
  },
  {
   "cell_type": "code",
   "execution_count": null,
   "id": "27c0785c-c294-420a-986f-1b036a2faebb",
   "metadata": {},
   "outputs": [],
   "source": []
  },
  {
   "cell_type": "code",
   "execution_count": null,
   "id": "b806ebb8-12e2-4cd6-b649-2a75df8ebe03",
   "metadata": {},
   "outputs": [],
   "source": []
  }
 ],
 "metadata": {
  "kernelspec": {
   "display_name": "Python [conda env:cv2.2]",
   "language": "python",
   "name": "conda-env-cv2.2-py"
  },
  "language_info": {
   "codemirror_mode": {
    "name": "ipython",
    "version": 3
   },
   "file_extension": ".py",
   "mimetype": "text/x-python",
   "name": "python",
   "nbconvert_exporter": "python",
   "pygments_lexer": "ipython3",
   "version": "3.7.11"
  }
 },
 "nbformat": 4,
 "nbformat_minor": 5
}
