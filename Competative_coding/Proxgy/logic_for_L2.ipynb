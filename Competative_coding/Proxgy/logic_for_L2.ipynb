{
 "cells": [
  {
   "cell_type": "code",
   "execution_count": 23,
   "id": "f4008ce0-3772-43d5-af33-e02c3a00776e",
   "metadata": {},
   "outputs": [],
   "source": [
    "lis = [0,1,1,2,2,1,1,2,2,1,1,2,0,2,2,2,2,1,1,2,0,1,0,2,2,2,2]\n",
    "\n",
    "for i in range(len(lis)):\n",
    "    if lis[i]:\n",
    "        pass"
   ]
  },
  {
   "cell_type": "code",
   "execution_count": 24,
   "id": "4e5abb23-cb43-4117-a9a6-2fac24d1c4f6",
   "metadata": {},
   "outputs": [],
   "source": [
    "from itertools import tee, islice, chain\n",
    "\n",
    "def previous_and_next(some_iterable):\n",
    "    prevs,items,nexts = tee(some_iterable,3)\n",
    "    prevs = chain([None],prevs)\n",
    "    nexts = chain(islice(nexts,1,None),[None])\n",
    "    return zip(prevs,items,nexts)"
   ]
  },
  {
   "cell_type": "code",
   "execution_count": 25,
   "id": "72605a6e-fff9-46d4-b629-fb1c78d0e379",
   "metadata": {},
   "outputs": [
    {
     "name": "stdout",
     "output_type": "stream",
     "text": [
      "Item is now banana next is orange previous is None\n",
      "Item is now orange next is apple previous is banana\n",
      "Item is now apple next is kiwi previous is orange\n",
      "Item is now kiwi next is tomato previous is apple\n",
      "Item is now tomato next is None previous is kiwi\n"
     ]
    }
   ],
   "source": [
    "mylist = ['banana', 'orange', 'apple', 'kiwi', 'tomato']\n",
    "\n",
    "for previous, item, nxt in previous_and_next(mylist):\n",
    "    print(\"Item is now\", item, \"next is\", nxt, \"previous is\", previous)"
   ]
  },
  {
   "cell_type": "code",
   "execution_count": null,
   "id": "5eed7d4e-1f10-4652-828c-251753406019",
   "metadata": {},
   "outputs": [],
   "source": []
  },
  {
   "cell_type": "code",
   "execution_count": null,
   "id": "afc91859-3b6c-4636-8f1f-72ded95c04f5",
   "metadata": {},
   "outputs": [],
   "source": []
  },
  {
   "cell_type": "code",
   "execution_count": null,
   "id": "982bf68a-f4ba-4a2e-9703-1848e2a36f9c",
   "metadata": {},
   "outputs": [],
   "source": []
  },
  {
   "cell_type": "code",
   "execution_count": null,
   "id": "a1e2b7ea-ab66-42ce-9635-626fffd53f15",
   "metadata": {},
   "outputs": [],
   "source": []
  },
  {
   "cell_type": "code",
   "execution_count": null,
   "id": "9234fda6-231e-4367-828f-584804d9b30a",
   "metadata": {},
   "outputs": [],
   "source": []
  },
  {
   "cell_type": "code",
   "execution_count": null,
   "id": "d42ef337-f71f-40d3-9471-f2cb71139741",
   "metadata": {},
   "outputs": [],
   "source": []
  },
  {
   "cell_type": "code",
   "execution_count": null,
   "id": "7134cf86-f918-4cce-a020-e6204221fe2a",
   "metadata": {},
   "outputs": [],
   "source": []
  },
  {
   "cell_type": "code",
   "execution_count": null,
   "id": "3e9da1c9-149d-4ded-9b14-e324228be78f",
   "metadata": {},
   "outputs": [],
   "source": []
  },
  {
   "cell_type": "code",
   "execution_count": null,
   "id": "bfaee2d2-37fd-4cd3-a89a-0a39e1a7a39b",
   "metadata": {},
   "outputs": [],
   "source": []
  }
 ],
 "metadata": {
  "kernelspec": {
   "display_name": "Python [conda env:IMU]",
   "language": "python",
   "name": "conda-env-IMU-py"
  },
  "language_info": {
   "codemirror_mode": {
    "name": "ipython",
    "version": 3
   },
   "file_extension": ".py",
   "mimetype": "text/x-python",
   "name": "python",
   "nbconvert_exporter": "python",
   "pygments_lexer": "ipython3",
   "version": "3.7.13"
  }
 },
 "nbformat": 4,
 "nbformat_minor": 5
}
