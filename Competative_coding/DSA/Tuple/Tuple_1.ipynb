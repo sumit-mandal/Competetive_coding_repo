{
 "cells": [
  {
   "cell_type": "code",
   "execution_count": 3,
   "id": "63f7e197-face-49e4-baf6-e7b68693154f",
   "metadata": {},
   "outputs": [],
   "source": [
    "newTuple = ('a','b','c','d','e','e')\n",
    "newset = {'a','a','b'}"
   ]
  },
  {
   "cell_type": "code",
   "execution_count": 2,
   "id": "ff808104-e95f-4894-b934-6ef48b2d7760",
   "metadata": {},
   "outputs": [
    {
     "name": "stdout",
     "output_type": "stream",
     "text": [
      "a\n",
      "b\n",
      "c\n",
      "d\n",
      "e\n",
      "e\n"
     ]
    }
   ],
   "source": [
    "for i in newTuple:\n",
    "    print(i)"
   ]
  },
  {
   "cell_type": "code",
   "execution_count": 6,
   "id": "d6408994-4207-4d01-abf2-da800705d122",
   "metadata": {},
   "outputs": [
    {
     "name": "stdout",
     "output_type": "stream",
     "text": [
      "a\n",
      "b\n",
      "c\n",
      "d\n",
      "e\n",
      "e\n"
     ]
    }
   ],
   "source": [
    "for i in range(len(newTuple)):\n",
    "    print(newTuple[i])"
   ]
  },
  {
   "cell_type": "code",
   "execution_count": 41,
   "id": "ba545dfe-5b9b-4aca-acf9-6da2dd8eb4e3",
   "metadata": {},
   "outputs": [],
   "source": [
    "def searchelement(tuple1,value):\n",
    "    for i in tuple1:\n",
    "        if i == value:\n",
    "            return value\n",
    "    else:\n",
    "        raise TypeError(\"Bhai ye kya kr raha hai tu😒😒😒\")"
   ]
  },
  {
   "cell_type": "code",
   "execution_count": 45,
   "id": "0aedb626-aa63-47a2-92a0-6437af1d4ece",
   "metadata": {},
   "outputs": [
    {
     "data": {
      "text/plain": [
       "'b'"
      ]
     },
     "execution_count": 45,
     "metadata": {},
     "output_type": "execute_result"
    }
   ],
   "source": [
    "searchelement(newTuple,value='b')"
   ]
  },
  {
   "cell_type": "code",
   "execution_count": null,
   "id": "865ee071-e9a3-463a-9f2c-7f74a1c33e95",
   "metadata": {},
   "outputs": [],
   "source": []
  },
  {
   "cell_type": "code",
   "execution_count": null,
   "id": "8e9c40ff-ef93-47db-94f2-f854ac03e278",
   "metadata": {},
   "outputs": [],
   "source": []
  }
 ],
 "metadata": {
  "kernelspec": {
   "display_name": "Python [conda env:chatbot_env]",
   "language": "python",
   "name": "conda-env-chatbot_env-py"
  },
  "language_info": {
   "codemirror_mode": {
    "name": "ipython",
    "version": 3
   },
   "file_extension": ".py",
   "mimetype": "text/x-python",
   "name": "python",
   "nbconvert_exporter": "python",
   "pygments_lexer": "ipython3",
   "version": "3.5.6"
  }
 },
 "nbformat": 4,
 "nbformat_minor": 5
}
