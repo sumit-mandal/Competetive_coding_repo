{
 "cells": [
  {
   "cell_type": "code",
   "execution_count": 3,
   "id": "350351b0-cb37-42f0-b7fc-6e9ff4059790",
   "metadata": {},
   "outputs": [],
   "source": [
    "myDict = {'name':'Edy','age':26,'address':'London','education':'master'}"
   ]
  },
  {
   "cell_type": "code",
   "execution_count": 4,
   "id": "272acfda-2fcf-4f2e-8db0-15ecdb5c090b",
   "metadata": {},
   "outputs": [
    {
     "name": "stdout",
     "output_type": "stream",
     "text": [
      "name Edy\n",
      "age 26\n",
      "address London\n",
      "education master\n"
     ]
    }
   ],
   "source": [
    "def traverseDict(dict):\n",
    "    for key in dict:\n",
    "        print(key,dict[key])\n",
    "        \n",
    "traverseDict(myDict)"
   ]
  },
  {
   "cell_type": "markdown",
   "id": "18ed68ca-81f5-4767-a40a-6113566c9b45",
   "metadata": {},
   "source": [
    "### Linear Search"
   ]
  },
  {
   "cell_type": "code",
   "execution_count": 5,
   "id": "7dbbfbcb-6fb2-4215-b6e9-2ab7cfdfd999",
   "metadata": {},
   "outputs": [],
   "source": [
    "def searchDict(dict,value):\n",
    "    for key in dict:\n",
    "        if dict[key] == value:\n",
    "            return key,value\n",
    "    else:\n",
    "#         return 'No valuue'\n",
    "        raise Exception('No values in the dictionary')"
   ]
  },
  {
   "cell_type": "code",
   "execution_count": 6,
   "id": "2d8285b2-c11a-4f55-ac54-51bd55b963ec",
   "metadata": {},
   "outputs": [
    {
     "data": {
      "text/plain": [
       "('age', 26)"
      ]
     },
     "execution_count": 6,
     "metadata": {},
     "output_type": "execute_result"
    }
   ],
   "source": [
    "searchDict(myDict,26)"
   ]
  },
  {
   "cell_type": "markdown",
   "id": "c5b21776-a82c-43cf-bdc9-463a624ab20b",
   "metadata": {},
   "source": [
    "### Deleting"
   ]
  },
  {
   "cell_type": "code",
   "execution_count": 7,
   "id": "01ea93c2-c64e-4a00-806e-3fc298fb0c0e",
   "metadata": {},
   "outputs": [
    {
     "name": "stdout",
     "output_type": "stream",
     "text": [
      "Edy\n"
     ]
    }
   ],
   "source": [
    "print(myDict.pop('name'))\n"
   ]
  },
  {
   "cell_type": "markdown",
   "id": "94ab3fbd-cbf3-4359-91ce-e30ad4104727",
   "metadata": {},
   "source": [
    "### popitem"
   ]
  },
  {
   "cell_type": "code",
   "execution_count": 8,
   "id": "9cb6f7fe-3d93-4a06-9cf8-3babd5a483dc",
   "metadata": {},
   "outputs": [
    {
     "name": "stdout",
     "output_type": "stream",
     "text": [
      "('education', 'master')\n"
     ]
    }
   ],
   "source": [
    "print(myDict.popitem())"
   ]
  },
  {
   "cell_type": "markdown",
   "id": "b1322d0d-8b33-46b6-871e-fbbe7f87af77",
   "metadata": {},
   "source": [
    "### Clear"
   ]
  },
  {
   "cell_type": "code",
   "execution_count": 9,
   "id": "e31b8182-52a7-4dc0-a2bc-21d917c30dd8",
   "metadata": {},
   "outputs": [
    {
     "name": "stdout",
     "output_type": "stream",
     "text": [
      "None\n"
     ]
    }
   ],
   "source": [
    "print(myDict.clear())"
   ]
  },
  {
   "cell_type": "markdown",
   "id": "d2ce52f5-57dd-4052-ad80-f40aefc21c9c",
   "metadata": {},
   "source": [
    "### del"
   ]
  },
  {
   "cell_type": "code",
   "execution_count": null,
   "id": "d3b90023-1e94-40b1-8ba0-aaf5f5a2ccde",
   "metadata": {},
   "outputs": [],
   "source": [
    "del myDict['age']\n",
    "# print(myDict)"
   ]
  },
  {
   "cell_type": "code",
   "execution_count": 11,
   "id": "7fb67f1f-3e92-441d-a86a-f22ad398000d",
   "metadata": {},
   "outputs": [],
   "source": [
    "myDict2 = {'one':'uno','two':'dos','three':'tres','four':'cuarto'}"
   ]
  },
  {
   "cell_type": "code",
   "execution_count": 14,
   "id": "0bee113f-9984-405e-81db-2c7e67c6a81f",
   "metadata": {},
   "outputs": [
    {
     "name": "stdout",
     "output_type": "stream",
     "text": [
      "one uno\n",
      "two dos\n",
      "three tres\n",
      "four cuarto\n"
     ]
    }
   ],
   "source": [
    "for key in myDict2:\n",
    "    print(key,myDict2[key])"
   ]
  },
  {
   "cell_type": "code",
   "execution_count": null,
   "id": "ffd296e7-60bb-494d-850f-d5a198e25620",
   "metadata": {},
   "outputs": [],
   "source": []
  }
 ],
 "metadata": {
  "kernelspec": {
   "display_name": "Python [conda env:cv]",
   "language": "python",
   "name": "conda-env-cv-py"
  },
  "language_info": {
   "codemirror_mode": {
    "name": "ipython",
    "version": 3
   },
   "file_extension": ".py",
   "mimetype": "text/x-python",
   "name": "python",
   "nbconvert_exporter": "python",
   "pygments_lexer": "ipython3",
   "version": "3.6.13"
  }
 },
 "nbformat": 4,
 "nbformat_minor": 5
}
