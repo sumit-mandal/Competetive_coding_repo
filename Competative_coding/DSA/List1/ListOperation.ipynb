{
 "cells": [
  {
   "cell_type": "markdown",
   "id": "4905e2d7-4420-4462-b0d9-d896a013af84",
   "metadata": {},
   "source": [
    "### Linear Search"
   ]
  },
  {
   "cell_type": "code",
   "execution_count": 11,
   "id": "3d0b0e27-ba89-4105-acf8-44f87284e542",
   "metadata": {},
   "outputs": [
    {
     "data": {
      "text/plain": [
       "2"
      ]
     },
     "execution_count": 11,
     "metadata": {},
     "output_type": "execute_result"
    }
   ],
   "source": [
    "mylist = [10,20,30,40,50,60,70,80,90]\n",
    "\n",
    "def linearSearch(list1,Value):\n",
    "    for i in list1:\n",
    "        if i == Value:\n",
    "            return list1.index(Value)\n",
    "        \n",
    "        \n",
    "    return \"The value is not in list\"\n",
    "        \n",
    "linearSearch(mylist,30)\n",
    "        \n",
    "    \n",
    "    \n"
   ]
  },
  {
   "cell_type": "markdown",
   "id": "6b85b135-03f9-41b4-ac0d-b9c0ecb763ee",
   "metadata": {},
   "source": [
    "### <font color='yellow'>Average</font> "
   ]
  },
  {
   "cell_type": "code",
   "execution_count": 2,
   "id": "849a69ef-a8cf-4b29-8c11-1fb309e49b16",
   "metadata": {},
   "outputs": [
    {
     "name": "stdin",
     "output_type": "stream",
     "text": [
      "Enter a number: 1\n",
      "Enter a number: 2\n",
      "Enter a number: done\n"
     ]
    },
    {
     "name": "stdout",
     "output_type": "stream",
     "text": [
      "average is  1.5\n"
     ]
    }
   ],
   "source": [
    "mylist = []\n",
    "while(True):\n",
    "    inp = input(\"Enter a number:\")\n",
    "    \n",
    "    if inp == 'done':\n",
    "        break\n",
    "    value = float(inp)\n",
    "    mylist.append(value)\n",
    "    \n",
    "average = sum(mylist)/len(mylist)\n",
    "    \n",
    "print('average is ', average)"
   ]
  },
  {
   "cell_type": "markdown",
   "id": "b3c067e5-0bf3-4838-a002-1b6f765e917a",
   "metadata": {},
   "source": [
    "### Convert string into list"
   ]
  },
  {
   "cell_type": "code",
   "execution_count": 10,
   "id": "8f07ebc5-015f-44a4-a85e-f28ee8ec1b80",
   "metadata": {},
   "outputs": [
    {
     "name": "stdout",
     "output_type": "stream",
     "text": [
      "['spam', 'spam1', 'spam2']\n"
     ]
    }
   ],
   "source": [
    "a = 'spam-spam1-spam2'\n",
    "delimeter = '-'\n",
    "b = a.split(sep='-')\n",
    "print(b)\n"
   ]
  },
  {
   "cell_type": "code",
   "execution_count": null,
   "id": "9cde9085-5ab8-4a84-838d-10c39c99715c",
   "metadata": {},
   "outputs": [],
   "source": []
  }
 ],
 "metadata": {
  "kernelspec": {
   "display_name": "Python [conda env:cv2.2]",
   "language": "python",
   "name": "conda-env-cv2.2-py"
  },
  "language_info": {
   "codemirror_mode": {
    "name": "ipython",
    "version": 3
   },
   "file_extension": ".py",
   "mimetype": "text/x-python",
   "name": "python",
   "nbconvert_exporter": "python",
   "pygments_lexer": "ipython3",
   "version": "3.7.11"
  }
 },
 "nbformat": 4,
 "nbformat_minor": 5
}
