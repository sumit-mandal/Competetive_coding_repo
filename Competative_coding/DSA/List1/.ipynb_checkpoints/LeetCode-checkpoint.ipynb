{
 "cells": [
  {
   "cell_type": "code",
   "execution_count": 6,
   "id": "3428181c-c1cc-4294-a274-72fb0ad9f43c",
   "metadata": {},
   "outputs": [
    {
     "name": "stdin",
     "output_type": "stream",
     "text": [
      "How may days temperature? 3\n",
      "Day 0's high temp: 20\n",
      "Day 1's high temp: 30\n",
      "Day 2's high temp: 40\n"
     ]
    },
    {
     "name": "stdout",
     "output_type": "stream",
     "text": [
      "\n",
      "Average = 30.0\n",
      "1 days above average \n"
     ]
    }
   ],
   "source": [
    "numdays = int(input(\"How may days temperature?\"))\n",
    "total = 0\n",
    "temp = []\n",
    "for i in range(numdays):\n",
    "    nextday = int(input(\"Day \" + str(i) + \"'s high temp:\"))\n",
    "    temp.append(nextday)\n",
    "    total += nextday\n",
    "    \n",
    "avg = round(total/numdays,2)\n",
    "print(\"\\nAverage = \" + str(avg))\n",
    "\n",
    "\n",
    "above = 0\n",
    "\n",
    "for i in temp:\n",
    "    if i > avg:\n",
    "        above += 1\n",
    "        \n",
    "print(str(above) + \" days above average \")"
   ]
  },
  {
   "cell_type": "markdown",
   "id": "4cdcc1ac-4efc-4fcd-b6bf-f9f0c65f9b5f",
   "metadata": {},
   "source": [
    "### Find Missing number"
   ]
  },
  {
   "cell_type": "code",
   "execution_count": 50,
   "id": "a0e655e2-af84-4308-9237-74fbe72acbb9",
   "metadata": {},
   "outputs": [],
   "source": [
    "mylist = [1,2, 3, 4, 5, 6, 7, 8, 9, 10, 11, 12, 13, 14, 15, 16, 17, 18, 19, 20, 21, 22, 23, 24, 25,26, 27, 28, 29, 30, 31, 32, 33, 34, 35, 36, 37, 38, 39, 40, 41, 42, 43, 44, 45, 46, 47, 48, 49, 50, 51, 52, 53, 54, 55, 56, 57, 58, 59, 60, 61, 62, 63, 64, 65, 66, 67, 68, 69, 70, 71, 72, 74, 75, 76, 77, 78, 79, 80, 81, 82, 83, 84, 85, 86, 87, 88, 89, 90, 91, 92, 93, 94, 95, 96, 97, 98, 99,100]\n",
    "\n",
    "n = len(mylist)+1\n",
    "\n",
    "def findMissing(list,n):\n",
    "    sum1 = (n*(n+1))/2\n",
    "    \n",
    "    \n",
    "    sum2 = sum(list)\n",
    "    print(sum1-sum2)\n",
    "    \n"
   ]
  },
  {
   "cell_type": "code",
   "execution_count": 51,
   "id": "4c70df37-63de-4bd1-b638-105850323063",
   "metadata": {},
   "outputs": [
    {
     "name": "stdout",
     "output_type": "stream",
     "text": [
      "73.0\n"
     ]
    }
   ],
   "source": [
    "findMissing(mylist,n)"
   ]
  },
  {
   "cell_type": "markdown",
   "id": "48ff78d2-5f86-4bcb-95d7-ade6838eb02b",
   "metadata": {},
   "source": [
    "### Find all pairs of integers whose sum is equal to a given number"
   ]
  },
  {
   "cell_type": "code",
   "execution_count": 67,
   "id": "f4e3fbd2-5d46-4aa4-a7bf-c95c8056dc2c",
   "metadata": {},
   "outputs": [
    {
     "name": "stdout",
     "output_type": "stream",
     "text": [
      "0 4\n",
      "1 3\n"
     ]
    }
   ],
   "source": [
    "def findPairs(nums,target):\n",
    "    for i in range(len(nums)):\n",
    "        for j in range(i+1,len(nums)):\n",
    "#             print(nums[i],nums[j])\n",
    "            if nums[i] == nums[j]:\n",
    "                continue\n",
    "            elif nums[i] + nums[j] == target:\n",
    "                print(i,j)\n",
    "                \n"
   ]
  },
  {
   "cell_type": "code",
   "execution_count": 69,
   "id": "bd9b4a57-8bce-453e-bed3-3f6e56c57a5f",
   "metadata": {},
   "outputs": [
    {
     "name": "stdout",
     "output_type": "stream",
     "text": [
      "0 6\n",
      "1 5\n",
      "2 4\n"
     ]
    }
   ],
   "source": [
    "mylist = [0,1,2,3,4,5,6]\n",
    "findPairs(mylist,6)"
   ]
  },
  {
   "cell_type": "code",
   "execution_count": null,
   "id": "558ecd03-e9be-46a3-93cd-455691516ddf",
   "metadata": {},
   "outputs": [],
   "source": []
  },
  {
   "cell_type": "markdown",
   "id": "9593b610-5925-4347-8269-70a5e1e3537a",
   "metadata": {},
   "source": [
    "### Check if an array contains a number in Python"
   ]
  },
  {
   "cell_type": "code",
   "execution_count": 92,
   "id": "031cbdb3-dd48-4e10-b725-939c15f2ade1",
   "metadata": {},
   "outputs": [
    {
     "name": "stdout",
     "output_type": "stream",
     "text": [
      "12\n"
     ]
    }
   ],
   "source": [
    "import numpy as np\n",
    "\n",
    "myArray = np.array([1,2, 3, 4, 5, 6, 7, 8, 9, 10, 11, 12, 13, 14, 15, 16, 17, 18, 19, 20])\n",
    "\n",
    "def findNumber(array,number):\n",
    "    for i in range(len(array)):\n",
    "        if array[i] == number:\n",
    "            print(i)\n",
    "            \n",
    "findNumber(myArray,13)"
   ]
  },
  {
   "cell_type": "markdown",
   "id": "8f84a2e4-d74c-4e57-a937-d01cfc2a701c",
   "metadata": {},
   "source": [
    "### Find maximum product of two integer in the array "
   ]
  },
  {
   "cell_type": "code",
   "execution_count": 2,
   "id": "ee1dbf43-fa2a-4404-9232-96708a9ffc7f",
   "metadata": {},
   "outputs": [],
   "source": [
    "import numpy as np\n",
    "\n",
    "myArray = np.array([1,2, 3, 4, 5, 6, 7, 8, 9, 10, 11, 12, 13, 14, 15, 16, 17, 18, 19, 20])\n",
    "\n",
    "def findMaxProduct(array):\n",
    "    maxProduct = 0\n",
    "    for i in range(len(array)):\n",
    "        for j in range(i+1,len(array)):\n",
    "            if array[i]*array[j] > maxProduct:\n",
    "                maxProduct = array[i]*array[j]\n",
    "                \n",
    "#     print(pairs)\n",
    "    print(maxProduct)\n",
    "    "
   ]
  },
  {
   "cell_type": "code",
   "execution_count": 5,
   "id": "a07691f1-1f38-4604-a198-d9e242c18c7b",
   "metadata": {},
   "outputs": [
    {
     "name": "stdout",
     "output_type": "stream",
     "text": [
      "380\n"
     ]
    }
   ],
   "source": [
    "findMaxProduct(myArray)"
   ]
  },
  {
   "cell_type": "code",
   "execution_count": 33,
   "id": "3ad17e87-da88-4587-a148-8188450329fc",
   "metadata": {},
   "outputs": [],
   "source": [
    "myArray = np.array([1,2,3,4,5,6,7,8,9,10,11,12,13,14,15,16,17,18,19,20,21])\n",
    "def FindMaximumProduct(array):\n",
    "    k=0\n",
    "    for i in range(len(array)):\n",
    "        for j in range(i+1,len(array)):\n",
    "            if array[i]*array[j]>k:\n",
    "                k = array[i]*array[j]\n",
    "                \n",
    "                \n",
    "    print(k)\n",
    "            \n",
    "    \n",
    "        "
   ]
  },
  {
   "cell_type": "code",
   "execution_count": 34,
   "id": "e0a340c7-146f-4273-a999-1420bb6843e2",
   "metadata": {},
   "outputs": [
    {
     "name": "stdout",
     "output_type": "stream",
     "text": [
      "420\n"
     ]
    }
   ],
   "source": [
    "FindMaximumProduct(myArray)"
   ]
  },
  {
   "cell_type": "markdown",
   "id": "47c2b459-0f23-427a-8f0f-9691262824ab",
   "metadata": {},
   "source": [
    "### Implement an algorithm to determine if a list has all unique characters, using python list."
   ]
  },
  {
   "cell_type": "code",
   "execution_count": 9,
   "id": "b8cb7dbd-e993-42e5-b673-78e84dddfef0",
   "metadata": {},
   "outputs": [
    {
     "name": "stdout",
     "output_type": "stream",
     "text": [
      "12 is repeated\n",
      "False\n"
     ]
    }
   ],
   "source": [
    "myList1 = [1,2,3,4,5,6,7,8,9,10,11,12,14,15,16,17,18,19,20,21]\n",
    "\n",
    "\n",
    "def isunique(myList):\n",
    "    emptyList=[]\n",
    "    for i in myList:\n",
    "        \n",
    "        if i in emptyList:\n",
    "            print(f'{i} is repeated')\n",
    "            return False\n",
    "        else:\n",
    "            emptyList.append(i)\n",
    "    return True\n",
    "\n",
    "\n",
    "print(isunique(myList1))\n",
    "        \n",
    "\n",
    "    "
   ]
  },
  {
   "cell_type": "markdown",
   "id": "ad307272-4d55-43dd-9c52-5e87898c803e",
   "metadata": {},
   "source": [
    "### Permutation"
   ]
  },
  {
   "cell_type": "code",
   "execution_count": 13,
   "id": "95383b79-ffc5-426a-9777-f0bdccc242a3",
   "metadata": {},
   "outputs": [
    {
     "data": {
      "text/plain": [
       "True"
      ]
     },
     "execution_count": 13,
     "metadata": {},
     "output_type": "execute_result"
    }
   ],
   "source": [
    "def permutation(list1,list2):\n",
    "    if len(list1) != len(list2):\n",
    "        return False\n",
    "    list1.sort()\n",
    "    list2.sort()\n",
    "    \n",
    "    if list1==list2:\n",
    "        return True\n",
    "    else :\n",
    "        return False\n",
    "    \n",
    "    \n",
    "list1 = ['a','b','c','d']\n",
    "list2 = ['a','b','c','d']\n",
    "\n",
    "permutation(list1,list2)"
   ]
  },
  {
   "cell_type": "markdown",
   "id": "8b06e0f7-ddf1-46e9-88cd-def511bce65c",
   "metadata": {},
   "source": [
    "#### Given an image represented by NxN matrix write a method to rotate the image by 90 degrees."
   ]
  },
  {
   "cell_type": "code",
   "execution_count": 30,
   "id": "54fcd758-5c61-44eb-9d67-8c3ac0a7de1a",
   "metadata": {},
   "outputs": [
    {
     "ename": "SyntaxError",
     "evalue": "invalid syntax (Temp/ipykernel_15364/860578598.py, line 26)",
     "output_type": "error",
     "traceback": [
      "\u001b[1;36m  File \u001b[1;32m\"C:\\Users\\manda\\AppData\\Local\\Temp/ipykernel_15364/860578598.py\"\u001b[1;36m, line \u001b[1;32m26\u001b[0m\n\u001b[1;33m    print(f'rotated array\\n'rotateMatrix(myArray))\u001b[0m\n\u001b[1;37m                                       ^\u001b[0m\n\u001b[1;31mSyntaxError\u001b[0m\u001b[1;31m:\u001b[0m invalid syntax\n"
     ]
    }
   ],
   "source": [
    "import numpy as np\n",
    "myArray = np.array([[1,2,3],[4,5,6],[7,8,9]])\n",
    "myArray\n",
    "\n",
    "def rotateMatrix(matrix):\n",
    "    n = len(matrix)\n",
    "    for layer in range(n//2):\n",
    "        first = layer\n",
    "        last = n - layer - 1\n",
    "\n",
    "        for i in range(first,last):\n",
    "            # Save top element\n",
    "            top = matrix[layer][i]\n",
    "            # move left element ti top\n",
    "            matrix[layer][i] = matrix[-i-1][layer]\n",
    "            # Save bottom element to left\n",
    "            matrix[-i-1][layer] = matrix[-layer-1][-i-1]\n",
    "            # move right to bottom\n",
    "            matrix[-layer-1][-i-1] = matrix[i][-layer-1]\n",
    "            # move to right\n",
    "            matrix[i][-layer-1] = top\n",
    "            \n",
    "    return matrix\n",
    "\n",
    "print(f'initial array:\\n',myArray)\n",
    "print(f'rotated array\\n',rotateMatrix(myArray))\n"
   ]
  },
  {
   "cell_type": "code",
   "execution_count": 24,
   "id": "c408992b-479e-4849-9a04-6af9c1fa2d4a",
   "metadata": {},
   "outputs": [
    {
     "name": "stdout",
     "output_type": "stream",
     "text": [
      "0\n"
     ]
    }
   ],
   "source": [
    "myArray = np.array([[1,2,3],[4,5,6],[7,8,9]])\n",
    "\n",
    "n = len(myArray)\n",
    "\n",
    "for layer in range(n//2):\n",
    "    print(layer)\n",
    "    first = layer\n",
    "    last = n - layer - 1\n",
    "    \n",
    "    for i in range(first,last):\n",
    "        # Save top element\n",
    "        top = matrix[layer][i]\n",
    "        # move left element ti top\n",
    "        matrix[layer][i] = ma\n",
    "    \n",
    "    "
   ]
  },
  {
   "cell_type": "code",
   "execution_count": null,
   "id": "60426692-4a44-43a8-a1aa-e8a97a8f9438",
   "metadata": {},
   "outputs": [],
   "source": []
  },
  {
   "cell_type": "code",
   "execution_count": null,
   "id": "325f7c48-2d7c-4b56-82ae-e59285a134e4",
   "metadata": {},
   "outputs": [],
   "source": []
  }
 ],
 "metadata": {
  "kernelspec": {
   "display_name": "Python [conda env:cvprojenv]",
   "language": "python",
   "name": "conda-env-cvprojenv-py"
  },
  "language_info": {
   "codemirror_mode": {
    "name": "ipython",
    "version": 3
   },
   "file_extension": ".py",
   "mimetype": "text/x-python",
   "name": "python",
   "nbconvert_exporter": "python",
   "pygments_lexer": "ipython3",
   "version": "3.7.11"
  }
 },
 "nbformat": 4,
 "nbformat_minor": 5
}
