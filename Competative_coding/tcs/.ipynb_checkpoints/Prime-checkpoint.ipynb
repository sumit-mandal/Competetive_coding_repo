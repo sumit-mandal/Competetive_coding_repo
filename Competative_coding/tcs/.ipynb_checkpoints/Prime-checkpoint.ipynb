{
 "cells": [
  {
   "cell_type": "code",
   "execution_count": 10,
   "id": "06d35d1f-a53f-4a39-a22c-9570bbaa79b8",
   "metadata": {},
   "outputs": [
    {
     "name": "stdout",
     "output_type": "stream",
     "text": [
      "13 is a prime number\n"
     ]
    }
   ],
   "source": [
    "# Program to check if a number is prime or not\n",
    "\n",
    "# num = 29\n",
    "\n",
    "# To take input from the user\n",
    "#num = int(input(\"Enter a number: \"))\n",
    "\n",
    "# define a flag variable\n",
    "flag = False\n",
    "\n",
    "# prime numbers are greater than 1\n",
    "if k > 1:\n",
    "    # check for factors\n",
    "    for i in range(2, k):\n",
    "        if (k % i) == 0:\n",
    "            # if factor is found, set flag to True\n",
    "            flag = True\n",
    "            # break out of loop\n",
    "            break\n",
    "\n",
    "# check if flag is True\n",
    "if flag:\n",
    "    print(k, \"is not a prime number\")\n",
    "else:\n",
    "    print(k, \"is a prime number\")"
   ]
  },
  {
   "cell_type": "code",
   "execution_count": 9,
   "id": "1400193c-931c-49a5-9ca2-cef0fcee71a6",
   "metadata": {},
   "outputs": [],
   "source": [
    "x = 3\n",
    "y=2\n",
    "k = x*x + y*y"
   ]
  },
  {
   "cell_type": "code",
   "execution_count": 5,
   "id": "d1394c7b-87c4-4a14-b176-d1f7531c4932",
   "metadata": {},
   "outputs": [
    {
     "data": {
      "text/plain": [
       "5"
      ]
     },
     "execution_count": 5,
     "metadata": {},
     "output_type": "execute_result"
    }
   ],
   "source": [
    "k"
   ]
  },
  {
   "cell_type": "code",
   "execution_count": 18,
   "id": "851fd17f-bef2-4c80-b3f9-3b4b17c27b7a",
   "metadata": {},
   "outputs": [
    {
     "ename": "ValueError",
     "evalue": "invalid literal for int() with base 10: ''",
     "output_type": "error",
     "traceback": [
      "\u001b[1;31m---------------------------------------------------------------------------\u001b[0m",
      "\u001b[1;31mValueError\u001b[0m                                Traceback (most recent call last)",
      "\u001b[1;32m<ipython-input-18-81cf59588697>\u001b[0m in \u001b[0;36m<module>\u001b[1;34m()\u001b[0m\n\u001b[0;32m     31\u001b[0m \u001b[1;33m\u001b[0m\u001b[0m\n\u001b[0;32m     32\u001b[0m \u001b[1;32mif\u001b[0m \u001b[0m__name__\u001b[0m\u001b[1;33m==\u001b[0m\u001b[1;34m'__main__'\u001b[0m\u001b[1;33m:\u001b[0m\u001b[1;33m\u001b[0m\u001b[1;33m\u001b[0m\u001b[0m\n\u001b[1;32m---> 33\u001b[1;33m     \u001b[0mmain\u001b[0m\u001b[1;33m(\u001b[0m\u001b[1;33m)\u001b[0m\u001b[1;33m\u001b[0m\u001b[1;33m\u001b[0m\u001b[0m\n\u001b[0m",
      "\u001b[1;32m<ipython-input-18-81cf59588697>\u001b[0m in \u001b[0;36mmain\u001b[1;34m()\u001b[0m\n\u001b[0;32m     25\u001b[0m \u001b[1;33m\u001b[0m\u001b[0m\n\u001b[0;32m     26\u001b[0m \u001b[1;32mdef\u001b[0m \u001b[0mmain\u001b[0m\u001b[1;33m(\u001b[0m\u001b[1;33m)\u001b[0m\u001b[1;33m:\u001b[0m\u001b[1;33m\u001b[0m\u001b[1;33m\u001b[0m\u001b[0m\n\u001b[1;32m---> 27\u001b[1;33m     \u001b[0mn\u001b[0m \u001b[1;33m=\u001b[0m \u001b[0mint\u001b[0m\u001b[1;33m(\u001b[0m\u001b[0msys\u001b[0m\u001b[1;33m.\u001b[0m\u001b[0mstdin\u001b[0m\u001b[1;33m.\u001b[0m\u001b[0mreadline\u001b[0m\u001b[1;33m(\u001b[0m\u001b[1;33m)\u001b[0m\u001b[1;33m.\u001b[0m\u001b[0mstrip\u001b[0m\u001b[1;33m(\u001b[0m\u001b[1;33m)\u001b[0m\u001b[1;33m)\u001b[0m\u001b[1;33m\u001b[0m\u001b[1;33m\u001b[0m\u001b[0m\n\u001b[0m\u001b[0;32m     28\u001b[0m     \u001b[0mresult\u001b[0m \u001b[1;33m=\u001b[0m \u001b[0msolve\u001b[0m\u001b[1;33m(\u001b[0m\u001b[0mn\u001b[0m\u001b[1;33m)\u001b[0m\u001b[1;33m\u001b[0m\u001b[1;33m\u001b[0m\u001b[0m\n\u001b[0;32m     29\u001b[0m     \u001b[0mprint\u001b[0m\u001b[1;33m(\u001b[0m\u001b[0mresult\u001b[0m\u001b[1;33m)\u001b[0m\u001b[1;33m\u001b[0m\u001b[1;33m\u001b[0m\u001b[0m\n",
      "\u001b[1;31mValueError\u001b[0m: invalid literal for int() with base 10: ''"
     ]
    }
   ],
   "source": [
    "import sys\n",
    "def solve(n):\n",
    "#     x = 1\n",
    "#     y= 2\n",
    "    n = 5\n",
    "    n = 2\n",
    "    flag = False\n",
    "\n",
    "    # prime numbers are greater than 1\n",
    "    if n > 1:\n",
    "        # check for factors\n",
    "        for i in range(2, n):\n",
    "            if (n % i) == 0:\n",
    "                # if factor is found, set flag to True\n",
    "                flag = True\n",
    "                # break out of loop\n",
    "                break\n",
    "\n",
    "    # check if flag is True\n",
    "    if flag:\n",
    "        print(n, \"is not a prime number\")\n",
    "    else:\n",
    "        print(n, \"is a prime number\")\n",
    "        \n",
    "        \n",
    "def main():\n",
    "    n = int(sys.stdin.readline().strip())\n",
    "    result = solve(n)\n",
    "    print(result)\n",
    "    \n",
    "    \n",
    "if __name__=='__main__':\n",
    "    main()"
   ]
  },
  {
   "cell_type": "code",
   "execution_count": 16,
   "id": "bd3c6009-b77b-4de9-bd40-2fed1854a726",
   "metadata": {},
   "outputs": [
    {
     "name": "stdout",
     "output_type": "stream",
     "text": [
      "Enter the input.\n",
      " NOTE: To stop execution please enter 'quit'\n",
      "Terminated!\n"
     ]
    }
   ],
   "source": [
    "# Importing the sys module\n",
    "import sys\n",
    "\n",
    "print(\"Enter the input.\\n NOTE: To stop execution please enter 'quit'\")\n",
    "# Program terminates as soon as user enters 'quit'\n",
    "for line in sys.stdin:\n",
    "    if 'quit' == line.rstrip():\n",
    "        break\n",
    "    print(f'User Input : {line}')\n",
    "\n",
    "print(\"Terminated!\")"
   ]
  },
  {
   "cell_type": "code",
   "execution_count": 14,
   "id": "d2015b8e-8c9b-4fa5-ae9d-f5375407a747",
   "metadata": {},
   "outputs": [
    {
     "name": "stdout",
     "output_type": "stream",
     "text": [
      "(100, 200)"
     ]
    }
   ],
   "source": [
    "# import inbuilt standard input output\n",
    "from sys import stdin, stdout\n",
    " \n",
    "# suppose a function called main() and\n",
    "# all the operations are performed\n",
    "def main():\n",
    "\n",
    "    # array input similar method\n",
    "    arr = [int(x) for x in stdin.readline().split()]\n",
    " \n",
    "    #initialize variable\n",
    "    summation = 100,200\n",
    "     \n",
    "    # calculate sum\n",
    "    for x in arr:\n",
    "        summation += x\n",
    " \n",
    "    # could use inbuilt summation = sum(arr)\n",
    " \n",
    "    # print answer via write\n",
    "    # write method writes only\n",
    "    # string operations\n",
    "    # so we need to convert any\n",
    "    # data into string for input\n",
    "    stdout.write(str(summation))\n",
    " \n",
    "# call the main method\n",
    "if __name__ == \"__main__\":\n",
    "    main()   "
   ]
  },
  {
   "cell_type": "code",
   "execution_count": null,
   "id": "e62e03a3-0be2-4b61-afe2-1577b7c533bb",
   "metadata": {},
   "outputs": [],
   "source": [
    "# A python3 programme to find maximum\n",
    "# distinct elements in a subarray of size k\n",
    "\n",
    "# Function to find maximum unique\n",
    "# element in a subarray of size k\n",
    "def maxUniqueNum(a, N, M):\n",
    "\tmaxUnique = 0\n",
    "\t\n",
    "\t# search every subarray of size k and\n",
    "\t# find how many unique element present\n",
    "\tfor i in range(N - M + 1):\n",
    "\t\t\n",
    "\t\t# create an empty set to store\n",
    "\t\t# the unique elements\n",
    "\t\ts = set()\n",
    "\n",
    "\t\tfor j in range(M):\n",
    "\t\t\t# insert all elements\n",
    "\t\t\t# duplicate elements are not\n",
    "\t\t\t# stored in set\n",
    "\t\t\ts.add(a[i + j])\n",
    "\t\t\n",
    "\t\t# update the maxUnique\n",
    "\t\tif(len(s) > maxUnique):\n",
    "\t\t\tmaxUnique = len(s)\n",
    "\t\n",
    "\treturn maxUnique\n",
    "\n",
    "# Driver Code\n",
    "if __name__ == '__main__':\n",
    "\tarr = [5, 3, 5, 2, 3, 2]\n",
    "\tM = 3\n",
    "\tN = len(arr)\n",
    "\tprint(maxUniqueNum(arr, N, M))\n",
    "\n",
    "# This code is contributed by\n",
    "# Sanjit_Prasad\n"
   ]
  },
  {
   "cell_type": "code",
   "execution_count": null,
   "id": "e68a935f-c31c-4beb-9767-12c86573e968",
   "metadata": {},
   "outputs": [],
   "source": []
  },
  {
   "cell_type": "code",
   "execution_count": 29,
   "id": "12fafeef-8e20-474a-99f6-83380b1ff1b0",
   "metadata": {},
   "outputs": [
    {
     "name": "stdout",
     "output_type": "stream",
     "text": [
      "5 is a prime number\n"
     ]
    }
   ],
   "source": [
    "solve(1)"
   ]
  },
  {
   "cell_type": "code",
   "execution_count": null,
   "id": "c91fe1b3-beac-4063-bd23-555221072b36",
   "metadata": {},
   "outputs": [],
   "source": []
  },
  {
   "cell_type": "code",
   "execution_count": null,
   "id": "0f6a888b-2ba3-4fbe-a6c7-b097c0f26b93",
   "metadata": {},
   "outputs": [],
   "source": []
  },
  {
   "cell_type": "code",
   "execution_count": null,
   "id": "14e9d457-1ba7-48d1-8f9b-e591990fc40a",
   "metadata": {},
   "outputs": [],
   "source": []
  }
 ],
 "metadata": {
  "kernelspec": {
   "display_name": "Python [conda env:cv]",
   "language": "python",
   "name": "conda-env-cv-py"
  },
  "language_info": {
   "codemirror_mode": {
    "name": "ipython",
    "version": 3
   },
   "file_extension": ".py",
   "mimetype": "text/x-python",
   "name": "python",
   "nbconvert_exporter": "python",
   "pygments_lexer": "ipython3",
   "version": "3.6.13"
  }
 },
 "nbformat": 4,
 "nbformat_minor": 5
}
