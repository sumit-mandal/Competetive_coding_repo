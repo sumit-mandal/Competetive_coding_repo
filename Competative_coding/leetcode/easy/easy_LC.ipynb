{
 "cells": [
  {
   "cell_type": "markdown",
   "id": "363c6005-84b2-41a0-bfee-8972322966c5",
   "metadata": {},
   "source": [
    "Given an array of integers nums and an integer target, return indices of the two numbers such that they add up to target.\n",
    "\n",
    "You may assume that each input would have exactly one solution, and you may not use the same element twice.\n",
    "\n",
    "You can return the answer in any order.\n",
    "\n",
    "\n",
    "- Input: nums = [2,7,11,15], target = 9\n",
    "- Output: [0,1]\n",
    "- Explanation: Because nums[0] + nums[1] == 9, we return [0, 1]."
   ]
  },
  {
   "cell_type": "code",
   "execution_count": 44,
   "id": "9a1c9c23-ef56-4a7b-99c7-3bedd4c7fa12",
   "metadata": {},
   "outputs": [],
   "source": [
    "class Solution:\n",
    "    def twosum(self,nums,target):\n",
    "        lookup = {}\n",
    "        \n",
    "        for i,value in enumerate(nums):\n",
    "#             print(lookup)\n",
    "#             print(target,value)\n",
    "            if target - value in lookup:\n",
    "#                 print(lookup[target-value])\n",
    "                return(lookup[target-value],i)\n",
    "            lookup[value] = i\n",
    "                \n",
    "        "
   ]
  },
  {
   "cell_type": "code",
   "execution_count": 45,
   "id": "31e288d7-c74b-47c3-aca0-8c6a9c7c4b28",
   "metadata": {},
   "outputs": [
    {
     "data": {
      "text/plain": [
       "(0, 1)"
      ]
     },
     "execution_count": 47,
     "metadata": {},
     "output_type": "execute_result"
    }
   ],
   "source": [
    "c = Solution()\n",
    "c.twosum(nums = [2,7,11,15],target = 9)"
   ]
  },
  {
   "cell_type": "code",
   "execution_count": 61,
   "id": "f9ebfd00-0316-4a32-a849-7b27ded37898",
   "metadata": {},
   "outputs": [],
   "source": [
    "def twosum(nums,target):\n",
    "    required = {}\n",
    "    \n",
    "    for i in range(len(nums)):\n",
    "        if target-nums[i] in required:\n",
    "            \n",
    "            return [required[target - nums[i]],i]\n",
    "        else:\n",
    "            required[nums[i]] = i\n",
    "            "
   ]
  },
  {
   "cell_type": "code",
   "execution_count": 62,
   "id": "d90391dd-35a4-4443-9daf-465804f2212b",
   "metadata": {},
   "outputs": [
    {
     "data": {
      "text/plain": [
       "[0, 1]"
      ]
     },
     "execution_count": 62,
     "metadata": {},
     "output_type": "execute_result"
    }
   ],
   "source": [
    "twosum(nums=[2,7,11,15],target=9)"
   ]
  },
  {
   "cell_type": "markdown",
   "id": "de1c54ae-9cc9-48d5-b2fe-204bbe18232b",
   "metadata": {},
   "source": [
    "### Palindrome"
   ]
  },
  {
   "cell_type": "code",
   "execution_count": 29,
   "id": "efd0c07b-5b13-4d27-aa83-a5f03fecf34b",
   "metadata": {},
   "outputs": [],
   "source": [
    "value = '121'\n",
    "\n",
    "def checkPalindrome(value):\n",
    "    for i in range(0, int(len(value))):\n",
    "    #     print(value[i])\n",
    "\n",
    "#         print(value[len(value)-i-1])\n",
    "        if value[i] != value[len(value)-i-1]:\n",
    "            return False\n",
    "    return True\n",
    "\n",
    "    "
   ]
  },
  {
   "cell_type": "code",
   "execution_count": 30,
   "id": "70a8f554-bf79-4c73-a3cc-6ff6e1b9c8ba",
   "metadata": {},
   "outputs": [
    {
     "data": {
      "text/plain": [
       "True"
      ]
     },
     "execution_count": 30,
     "metadata": {},
     "output_type": "execute_result"
    }
   ],
   "source": [
    "checkPalindrome(value)"
   ]
  },
  {
   "cell_type": "code",
   "execution_count": 20,
   "id": "b672b5e1-e210-44dc-af64-d394c5a257e8",
   "metadata": {},
   "outputs": [],
   "source": [
    "def isPalindrome(str):\n",
    " \n",
    "    # Run loop from 0 to len/2\n",
    "    for i in range(0, int(len(str)/2)):\n",
    "        if str[i] != str[len(str)-i-1]:\n",
    "            return False\n",
    "    return True"
   ]
  },
  {
   "cell_type": "code",
   "execution_count": 31,
   "id": "64a05f9e-f40b-48d6-ba94-18f580fe2cb4",
   "metadata": {},
   "outputs": [],
   "source": [
    "def intpalindrome(nums):\n",
    "    temp = nums\n",
    "    rev = 0\n",
    "    \n",
    "    while (nums>0):\n",
    "        dig = nums%10\n",
    "        rev = rev*10+dig\n",
    "        num = num//10\n",
    "    if (temp == rev):\n",
    "        print(\"Palindrome number\")\n",
    "    \n",
    "    "
   ]
  },
  {
   "cell_type": "code",
   "execution_count": 37,
   "id": "7ece7684-4339-4a25-aa2a-2a5f6819ce5e",
   "metadata": {},
   "outputs": [
    {
     "name": "stdin",
     "output_type": "stream",
     "text": [
      "Enter a number: 121\n"
     ]
    },
    {
     "name": "stdout",
     "output_type": "stream",
     "text": [
      "The number is palindrome!\n"
     ]
    }
   ],
   "source": [
    "num=int(input(\"Enter a number:\"))\n",
    "temp=num\n",
    "rev=0\n",
    "while(num>0):\n",
    "    dig=num%10\n",
    "    rev=rev*10+dig\n",
    "    num=num//10\n",
    "if(temp==rev):\n",
    "    print(\"The number is palindrome!\")\n",
    "else:\n",
    "    print(\"Not a palindrome!\")"
   ]
  },
  {
   "cell_type": "markdown",
   "id": "4c14bba0-4312-4a3e-b827-642cbc8aa869",
   "metadata": {},
   "source": [
    "Roman numerals are represented by seven different symbols: I, V, X, L, C, D and M.\n",
    "\n",
    "- Symbol       - Value\n",
    "- I             - 1\n",
    "- V             - 5\n",
    "- X             - 10\n",
    "- L             - 50\n",
    "- C             - 100\n",
    "- D             - 500\n",
    "- M             - 1000\n",
    "\n",
    "* For example, 2 is written as II in Roman numeral, just two ones added together. 12 is written as XII, which is simply X + II. The number 27 is written as XXVII, which is XX + V + II.\n",
    "\n",
    "Roman numerals are usually written largest to smallest from left to right. However, the numeral for four is not IIII. Instead, the number four is written as IV. Because the one is before the five we subtract it making four. The same principle applies to the number nine, which is written as IX. There are six instances where subtraction is used:\n",
    "\n",
    "- I can be placed before V (5) and X (10) to make 4 and 9. \n",
    "- X can be placed before L (50) and C (100) to make 40 and 90. \n",
    "- C can be placed before D (500) and M (1000) to make 400 and 900.\n",
    "Given a roman numeral, convert it to an integer.\n",
    "---------------------------------------------\n",
    "- Input: s = \"III\"\n",
    "- Output: 3\n",
    "- Explanation: III = 3."
   ]
  },
  {
   "cell_type": "code",
   "execution_count": 11,
   "id": "76422373-6cb9-4ebe-b460-f671a4f8267f",
   "metadata": {},
   "outputs": [],
   "source": [
    "def romanToInt(s: str) -> int:\n",
    "#     s = s.upper()\n",
    "    roman = {'I':1, 'V':5, 'X':10, 'L':50, 'C':100, 'D':500, 'M':1000 }    \n",
    "    num = 0\n",
    "\n",
    "    for i in range(len(s)):\n",
    "#         print(i)\n",
    "        \n",
    "#         print(len(s)-1)\n",
    "        print(roman[s[i]])\n",
    "#         print(roman[s[i+1]])\n",
    "        num += roman[s[i]]*-1\n",
    "        print(num)\n",
    "    \n",
    "\n",
    "#         if i!= len(s)-1 and roman[s[i]] < roman[s[i+1]]:\n",
    "#              num += roman[s[i]]*-1\n",
    "#         else:\n",
    "#              num += roman[s[i]]\n",
    "\n",
    "    return num"
   ]
  },
  {
   "cell_type": "code",
   "execution_count": 12,
   "id": "9fea827b-e7f7-4565-9240-94124689766f",
   "metadata": {},
   "outputs": [
    {
     "name": "stdout",
     "output_type": "stream",
     "text": [
      "1\n",
      "-1\n",
      "5\n",
      "-6\n",
      "1\n",
      "-7\n",
      "5\n",
      "-12\n"
     ]
    },
    {
     "data": {
      "text/plain": [
       "-12"
      ]
     },
     "execution_count": 12,
     "metadata": {},
     "output_type": "execute_result"
    }
   ],
   "source": [
    "romanToInt('IVIV')"
   ]
  },
  {
   "cell_type": "markdown",
   "id": "b54eef94-3108-4647-a207-1cc97e2c7f66",
   "metadata": {},
   "source": [
    "Write a function to find the longest common prefix string amongst an array of strings.\n",
    "\n",
    "If there is no common prefix, return an empty string \"\".\n",
    "\n",
    " \n",
    "\n",
    "Example 1:\n",
    "\n",
    "- Input: strs = [\"flower\",\"flow\",\"flight\"]\n",
    "- Output: \"fl\""
   ]
  },
  {
   "cell_type": "code",
   "execution_count": 147,
   "id": "29b4ecc3-dca1-4463-b5aa-2657d8371dc2",
   "metadata": {},
   "outputs": [],
   "source": [
    "def longestCommonPrefix(strs):\n",
    "    if len(strs)==0:\n",
    "        return \"\"\n",
    "    \n",
    "    m =  min([len(s) for s in strs])\n",
    "#     print(s)\n",
    "#     print(m)\n",
    "    \n",
    "    for i in range(m):\n",
    "        \n",
    "        for j in range(1,len(strs)):\n",
    "            print(\"I am \",strs[j-1],strs[j])\n",
    "           \n",
    "#             if strs[j-1][i] != strs[j][i]:\n",
    "#                 return strs[0][:i]\n",
    "#     return strs[0][:m]\n",
    "                \n",
    "                \n",
    "            \n",
    "    \n",
    "        "
   ]
  },
  {
   "cell_type": "code",
   "execution_count": 148,
   "id": "babf005e-a1e5-46b1-a924-8138f1f5a5e8",
   "metadata": {},
   "outputs": [
    {
     "name": "stdout",
     "output_type": "stream",
     "text": [
      "I am  flown flower\n",
      "I am  flower float\n",
      "I am  float flowing\n",
      "I am  flown flower\n",
      "I am  flower float\n",
      "I am  float flowing\n",
      "I am  flown flower\n",
      "I am  flower float\n",
      "I am  float flowing\n",
      "I am  flown flower\n",
      "I am  flower float\n",
      "I am  float flowing\n",
      "I am  flown flower\n",
      "I am  flower float\n",
      "I am  float flowing\n"
     ]
    }
   ],
   "source": [
    "longestCommonPrefix([\"flown\",\"flower\",\"float\",'flowing'])"
   ]
  },
  {
   "cell_type": "markdown",
   "id": "5b7437a5-db50-41b3-b834-91f17d73479c",
   "metadata": {},
   "source": [
    "Given a string s containing just the characters '(', ')', '{', '}', '[' and ']', determine if the input string is valid.\n",
    "\n",
    "An input string is valid if:\n",
    "\n",
    "Open brackets must be closed by the same type of brackets.\n",
    "Open brackets must be closed in the correct order.\n",
    "\n",
    "- Input: s = \"()\"\n",
    "- Output: true"
   ]
  },
  {
   "cell_type": "code",
   "execution_count": 87,
   "id": "c3708cc2-931f-4be4-b43d-9649e8982884",
   "metadata": {},
   "outputs": [],
   "source": [
    "def isvalid(s):\n",
    "    if len(s)%2 != 0:\n",
    "        return False\n",
    "    Itor = {\"]\":\"[\",\"}\":\"{\",\")\":\"(\"}\n",
    "    stack = []\n",
    "    \n",
    "    for c in s:\n",
    "        print('upar',c)\n",
    "        if c in Itor:\n",
    "#             print('c',c)\n",
    "#             print('Itor[c] ',Itor[c])\n",
    "#             print('stack is',stack)\n",
    "            if len(stack) == 0 or stack.pop() != Itor[c]:\n",
    "                return False\n",
    "            else:\n",
    "                return True\n",
    "        else:\n",
    "            stack.append(c)\n",
    "            \n",
    "    return len(stack) == 0\n",
    "            \n",
    "                \n",
    "        \n",
    "\n",
    "        \n",
    "    \n",
    "    "
   ]
  },
  {
   "cell_type": "code",
   "execution_count": 88,
   "id": "41518cde-56fe-4684-b623-682181a5715d",
   "metadata": {},
   "outputs": [
    {
     "name": "stdout",
     "output_type": "stream",
     "text": [
      "upar (\n",
      "upar [\n",
      "upar ]\n"
     ]
    },
    {
     "data": {
      "text/plain": [
       "True"
      ]
     },
     "execution_count": 88,
     "metadata": {},
     "output_type": "execute_result"
    }
   ],
   "source": [
    "isvalid(\"([])\")"
   ]
  },
  {
   "cell_type": "markdown",
   "id": "7b4fb733-db6a-4b7f-8844-154121b83653",
   "metadata": {},
   "source": [
    "You are given the heads of two sorted linked lists list1 and list2.\n",
    "\n",
    "Merge the two lists in a one sorted list. The list should be made by splicing together the nodes of the first two lists.\n",
    "\n",
    "Return the head of the merged linked list.\n",
    "\n",
    "- Input: list1 = [1,2,4], list2 = [1,3,4]\n",
    "- Output: [1,1,2,3,4,4]"
   ]
  },
  {
   "cell_type": "code",
   "execution_count": 8,
   "id": "f8d7a5ff-816e-4064-a51b-5c86d63c1797",
   "metadata": {},
   "outputs": [],
   "source": [
    "def mergeTwoLists(list1,list2):\n",
    "    if len(list1)==0 and len(list2)==0:\n",
    "        return []\n",
    "    for i in range(len(list1)):\n",
    "        print(i)\n",
    "        \n",
    "        \n",
    "        "
   ]
  },
  {
   "cell_type": "code",
   "execution_count": 9,
   "id": "8e1c6d4e-8a32-4aa7-9d5d-287d7e2d9196",
   "metadata": {},
   "outputs": [
    {
     "name": "stdout",
     "output_type": "stream",
     "text": [
      "0\n",
      "1\n",
      "2\n",
      "3\n",
      "4\n"
     ]
    }
   ],
   "source": [
    "list1 = [1,2,3,4,5]\n",
    "list2 = [2,3,4,5,6]\n",
    "mergeTwoLists(list1,list2)"
   ]
  },
  {
   "cell_type": "code",
   "execution_count": null,
   "id": "3a8492c7-6e41-4e28-a1a7-ca98e6869d13",
   "metadata": {},
   "outputs": [],
   "source": []
  },
  {
   "cell_type": "code",
   "execution_count": null,
   "id": "d3f19e9f-21df-4c7c-99e8-919a0924b7d2",
   "metadata": {},
   "outputs": [],
   "source": []
  },
  {
   "cell_type": "code",
   "execution_count": null,
   "id": "8e971340-3f37-4c62-ad86-1c75d4c336c8",
   "metadata": {},
   "outputs": [],
   "source": []
  },
  {
   "cell_type": "code",
   "execution_count": null,
   "id": "b32eff20-aff4-46f4-a201-5b3034903121",
   "metadata": {},
   "outputs": [],
   "source": []
  },
  {
   "cell_type": "code",
   "execution_count": null,
   "id": "3d4ccf4f-0138-49c1-8f27-1ddcdc470324",
   "metadata": {},
   "outputs": [],
   "source": []
  }
 ],
 "metadata": {
  "kernelspec": {
   "display_name": "Python [conda env:cv]",
   "language": "python",
   "name": "conda-env-cv-py"
  },
  "language_info": {
   "codemirror_mode": {
    "name": "ipython",
    "version": 3
   },
   "file_extension": ".py",
   "mimetype": "text/x-python",
   "name": "python",
   "nbconvert_exporter": "python",
   "pygments_lexer": "ipython3",
   "version": "3.6.13"
  }
 },
 "nbformat": 4,
 "nbformat_minor": 5
}
