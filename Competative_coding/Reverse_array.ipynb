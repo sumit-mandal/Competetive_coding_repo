{
 "cells": [
  {
   "cell_type": "markdown",
   "id": "96aa97f8-9045-439d-a4e9-64fdc2cc9354",
   "metadata": {},
   "source": [
    "Input  : arr[] = {1, 2, 3}\n",
    "Output : arr[] = {3, 2, 1}\n",
    "\n",
    "Input :  arr[] = {4, 5, 1, 2}\n",
    "Output : arr[] = {2, 1, 5, 4}\n"
   ]
  },
  {
   "cell_type": "markdown",
   "id": "643707c9-0083-4ff6-aa97-27175b325dc8",
   "metadata": {},
   "source": [
    "1) Initialize start and end indexes as start = 0, end = n-1 \n",
    "2) In a loop, swap arr[start] with arr[end] and change start and end as follows : \n",
    "start = start +1, end = end – 1"
   ]
  },
  {
   "cell_type": "code",
   "execution_count": 9,
   "id": "2f0a60fd-bc41-4cc2-9a52-fe2a5ec2963c",
   "metadata": {},
   "outputs": [
    {
     "name": "stdout",
     "output_type": "stream",
     "text": [
      "[1, 2, 3, 4, 5, 6]\n",
      "Reversed List is \n",
      "[6, 5, 4, 3, 2, 1]\n"
     ]
    }
   ],
   "source": [
    "# Function to reverse A[] from start to end\n",
    "\n",
    "def reverseList(A,start,end):\n",
    "    while start < end:\n",
    "        A[start],A[end] = A[end],A[start]\n",
    "\n",
    "        start += 1\n",
    "        end -= 1\n",
    "        \n",
    "        \n",
    "A = [1,2,3,4,5,6]\n",
    "print(A)\n",
    "reverseList(A,0,5)\n",
    "print(\"Reversed List is \")\n",
    "print(A)"
   ]
  },
  {
   "cell_type": "code",
   "execution_count": null,
   "id": "fe868080-be8b-4267-8722-e069ecbb1ef7",
   "metadata": {},
   "outputs": [],
   "source": []
  },
  {
   "cell_type": "code",
   "execution_count": 10,
   "id": "3bec056c-4803-4999-9b88-ea80789fe201",
   "metadata": {},
   "outputs": [
    {
     "name": "stdout",
     "output_type": "stream",
     "text": [
      "A[start] is 545\n",
      "A[end] is 58\n",
      "A[start] is 365\n",
      "A[end] is 7\n",
      "A[start] is 356\n",
      "A[end] is 356\n"
     ]
    }
   ],
   "source": [
    "A = [13,545,365,356,7,58,68]\n",
    "start = 0\n",
    "end = 6\n",
    "\n",
    "while start < end:\n",
    "    A[start],A[end] = A[end],A[start]\n",
    "    \n",
    "    start += 1\n",
    "    end -= 1\n",
    "    print(\"A[start] is\",A[start])\n",
    "    print(\"A[end] is\",A[end])"
   ]
  },
  {
   "cell_type": "code",
   "execution_count": null,
   "id": "fa7c7d6a-7929-4e4b-b78b-4fc791708e9e",
   "metadata": {},
   "outputs": [],
   "source": []
  },
  {
   "cell_type": "code",
   "execution_count": 3,
   "id": "9123ed76-6069-43fc-8dfc-c55c545ef481",
   "metadata": {},
   "outputs": [],
   "source": [
    "def factorial(x):\n",
    "    if x==1:\n",
    "        return 1\n",
    "    else:\n",
    "        return(x*factorial(x-1))"
   ]
  },
  {
   "cell_type": "code",
   "execution_count": 4,
   "id": "98e06ddc-7d42-4e53-bdc4-ec46f536f10c",
   "metadata": {},
   "outputs": [
    {
     "data": {
      "text/plain": [
       "120"
      ]
     },
     "execution_count": 4,
     "metadata": {},
     "output_type": "execute_result"
    }
   ],
   "source": [
    "factorial(5)"
   ]
  },
  {
   "cell_type": "code",
   "execution_count": 19,
   "id": "61f927a6-4c9a-4902-ae50-a0063a7c49e1",
   "metadata": {},
   "outputs": [],
   "source": [
    "def primeN(num1,num2):\n",
    "    for i in range(num1,num2):\n",
    "        prime = True\n",
    "        for k in range(2,i):\n",
    "            if (k%i==0):\n",
    "                prime = False\n",
    "                \n",
    "    if prime == True:\n",
    "        print(i)\n",
    "            \n",
    "            \n",
    "        "
   ]
  },
  {
   "cell_type": "code",
   "execution_count": 20,
   "id": "b86307e7-3d98-487b-8eb3-3691a1786ec5",
   "metadata": {},
   "outputs": [
    {
     "name": "stdout",
     "output_type": "stream",
     "text": [
      "99\n"
     ]
    }
   ],
   "source": [
    "primeN(2,100)"
   ]
  },
  {
   "cell_type": "code",
   "execution_count": 21,
   "id": "ebbc784a-9abe-42a2-9283-4f250d304c3d",
   "metadata": {},
   "outputs": [
    {
     "name": "stdin",
     "output_type": "stream",
     "text": [
      " 100\n"
     ]
    },
    {
     "name": "stdout",
     "output_type": "stream",
     "text": [
      "2\n",
      "3\n",
      "5\n",
      "7\n",
      "11\n",
      "13\n",
      "17\n",
      "19\n",
      "23\n",
      "29\n",
      "31\n",
      "37\n",
      "41\n",
      "43\n",
      "47\n",
      "53\n",
      "59\n",
      "61\n",
      "67\n",
      "71\n",
      "73\n",
      "79\n",
      "83\n",
      "89\n",
      "97\n"
     ]
    }
   ],
   "source": [
    "n=int(input())\n",
    "for i in range(1,int(n)):\n",
    "    for j in range(2,(i+1)):\n",
    "        if i%j==0:\n",
    "            if i==j:\n",
    "                print(i)\n",
    "            break"
   ]
  },
  {
   "cell_type": "code",
   "execution_count": 30,
   "id": "ba631ff3-a9d8-4e36-9577-ba396838d9d0",
   "metadata": {},
   "outputs": [],
   "source": [
    "def fibonnaci(n):\n",
    "    if n<0:\n",
    "        print(\"Incorrect\")\n",
    "    if n==0:\n",
    "        return 0\n",
    "    elif n==1 or n == 2:\n",
    "        return 1\n",
    "    else:\n",
    "        k = fibonnaci(n-1)+fibonnaci(n-2)\n",
    "    return k"
   ]
  },
  {
   "cell_type": "code",
   "execution_count": 32,
   "id": "12a6bd8a-df0e-4d69-a4fb-227c929926be",
   "metadata": {},
   "outputs": [
    {
     "data": {
      "text/plain": [
       "34"
      ]
     },
     "execution_count": 32,
     "metadata": {},
     "output_type": "execute_result"
    }
   ],
   "source": [
    "fibonnaci(9)"
   ]
  },
  {
   "cell_type": "code",
   "execution_count": null,
   "id": "eada019a-e642-4e6b-bc9e-b1e5ee275898",
   "metadata": {},
   "outputs": [],
   "source": []
  }
 ],
 "metadata": {
  "kernelspec": {
   "display_name": "Python [conda env:cv2.2]",
   "language": "python",
   "name": "conda-env-cv2.2-py"
  },
  "language_info": {
   "codemirror_mode": {
    "name": "ipython",
    "version": 3
   },
   "file_extension": ".py",
   "mimetype": "text/x-python",
   "name": "python",
   "nbconvert_exporter": "python",
   "pygments_lexer": "ipython3",
   "version": "3.7.11"
  }
 },
 "nbformat": 4,
 "nbformat_minor": 5
}
