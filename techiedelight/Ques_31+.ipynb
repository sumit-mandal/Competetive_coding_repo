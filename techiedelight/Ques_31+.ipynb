{
 "cells": [
  {
   "cell_type": "markdown",
   "id": "9bbd7ac8-4597-47e7-abe4-615c9c90fd55",
   "metadata": {},
   "source": [
    "#### Find the smallest window in an array sorting which will make the entire array sorted"
   ]
  },
  {
   "cell_type": "raw",
   "id": "048d7048-4edc-4f00-886a-318a4089b7ee",
   "metadata": {},
   "source": [
    "Input:  { 1, 2, 3, 7, 5, 6, 4, 8 }\n",
    "Output: Sort the array from index 3 to 6\n",
    " \n",
    " \n",
    "Input:  { 1, 3, 2, 7, 5, 6, 4, 8 }\n",
    "Output: Sort the array from index 1 to 6\n",
    "\n",
    "\n",
    "Approach 1:\n",
    "\n",
    "Find the candidate unsorted subarray \n",
    "1.Scan from left to right and find the first element which is greater than the next element. Let s be the index of such an element. In the above example 1, s is 3 (index of 30). \n",
    "2.Scan from right to left and find the first element (first in right to left order) which is smaller than the next element (next in right to left order). Let e be the index of such an element. In the above example 1, e is 7 (index of 31).\n",
    "3.Check whether sorting the candidate unsorted subarray makes the complete array sorted or not. If not, then include more elements in the subarray. \n",
    "3.1Find the minimum and maximum values in arr[s..e]. Let minimum and maximum values be min and max. min and max for [30, 25, 40, 32, 31] are 25 and 40 respectively. \n",
    "3.2Find the first element (if there is any) in arr[0..s-1] which is greater than min, change s to index of this element. There is no such element in above example 1. \n",
    "3.3Find the last element (if there is any) in arr[e+1..n-1] which is smaller than max, change e to index of this element. In the above example 1, e is changed to 8 (index of 35)\n",
    "Print s and e.\n",
    "\n"
   ]
  },
  {
   "cell_type": "code",
   "execution_count": 20,
   "id": "bd6618b6-56b4-4e54-9dac-2478413a43df",
   "metadata": {},
   "outputs": [],
   "source": [
    "def printUnsorted(arr,n):\n",
    "    e = n - 1\n",
    "    \n",
    "    # step 1(a) of above algo\n",
    "    for s in range(0,n-1):\n",
    "        if arr[s] > arr[s+1]:\n",
    "            print(arr[s])\n",
    "            break\n",
    "            \n",
    "    if s == n-1:\n",
    "        print(\"The Complete array is sorted\")\n",
    "        exit()\n",
    "        \n",
    "    # Step 1(b) of algo\n",
    "    e = n-1\n",
    "    while e > 0:\n",
    "        print(arr[e],arr[e-1])\n",
    "        if arr[e] < arr[e-1]:\n",
    "            break\n",
    "        e = e-1\n",
    "    \n",
    "    # Step 2(a) of above algo\n",
    "    print(\"array of s is\",arr[s])\n",
    "    min = arr[s]\n",
    "    max = arr[s]\n",
    "    \n",
    "    for i in range(s+1,e+1):\n",
    "        if arr[i] > max:\n",
    "            max = arr[i]\n",
    "        if arr[i] < min:\n",
    "            min = arr[i]\n",
    "            \n",
    "            \n",
    "    # Step 2(b) of algo\n",
    "    for i in range(s):\n",
    "        if arr[i] > min:\n",
    "            s = i\n",
    "            break\n",
    "            \n",
    "    # Step 2(C) of algo\n",
    "    i = n-1\n",
    "    while i >= e+1:\n",
    "        if arr[i] < max:\n",
    "            e = i\n",
    "            break\n",
    "            \n",
    "        i = i-1\n",
    "        \n",
    "    # Step3 of algo\n",
    "    print (\"sorted lies between the indexes %d and %d\"%( s, e))\n",
    "    \n",
    "             \n",
    "            \n",
    "            \n",
    "   \n",
    "        "
   ]
  },
  {
   "cell_type": "code",
   "execution_count": 21,
   "id": "898e4fe2-d313-4bfe-af7b-fdda28475120",
   "metadata": {},
   "outputs": [
    {
     "name": "stdout",
     "output_type": "stream",
     "text": [
      "42\n",
      "31 32\n",
      "array of s is 42\n",
      "sorted lies between the indexes 1 and 4\n"
     ]
    }
   ],
   "source": [
    "arr = [30, 40, 42, 32, 31]\n",
    "arr1 = [1,3,2,4,5,6,7,8]\n",
    "n = len(arr)\n",
    "\n",
    "printUnsorted(arr,n)"
   ]
  },
  {
   "cell_type": "code",
   "execution_count": 81,
   "id": "c68bd355-5621-4e1e-be3a-28c439634330",
   "metadata": {},
   "outputs": [],
   "source": [
    "def UnsortedNumber(arr,n):\n",
    "    e = n-1\n",
    "    for s in range(0,e):\n",
    "        if arr[s] > arr[s+1]:\n",
    "            break\n",
    "        \n",
    "    if s == n-1:\n",
    "        print(\"Already sorted\")\n",
    "        \n",
    "    while e>0:\n",
    "        if arr[e] < arr[e-1]:\n",
    "            print(arr[e])\n",
    "            break\n",
    "        \n",
    "        e = e-1\n",
    "        print('e is',arr[e])\n",
    "    \n",
    "    # Step 2(a) of above algo\n",
    "    max = arr[s]\n",
    "    min = arr[s]\n",
    "    print('max',max)\n",
    "    for i in range(s+1,e+1):\n",
    "        if max < arr[i]:\n",
    "            max = arr[i]\n",
    "            \n",
    "        if min > arr[i]:\n",
    "            min = arr[i]\n",
    "    \n",
    "    print(\"max is\",max)\n",
    "    print(\"min is\",min)\n",
    "    \n",
    "    # step 2(b) of above algo\n",
    "    for i in range(s):\n",
    "        print('arr',arr[i])\n",
    "        s = i\n",
    "        \n",
    "        break\n",
    "        \n",
    "        \n",
    "    # step 2(c) o above algo\n",
    "    i = n-1\n",
    "    while i <= e+1:\n",
    "        if arr[i] < max:\n",
    "            e = i\n",
    "            break\n",
    "        i = i-1\n",
    "        "
   ]
  },
  {
   "cell_type": "code",
   "execution_count": 84,
   "id": "74a027c2-6eff-4af1-be77-97848f5184af",
   "metadata": {},
   "outputs": [
    {
     "name": "stdout",
     "output_type": "stream",
     "text": [
      "e is 9\n",
      "9\n",
      "max 8\n",
      "max is 15\n",
      "min is 2\n",
      "arr 5\n",
      "s 0\n"
     ]
    }
   ],
   "source": [
    "arr = [5,6,8,7,2,11,12,13,14,15,9,18]\n",
    "n = len(arr)\n",
    "\n",
    "UnsortedNumber(arr,n)"
   ]
  },
  {
   "cell_type": "markdown",
   "id": "f1dd593c-722d-4532-aa01-66d55e8ba798",
   "metadata": {},
   "source": [
    "### Find maximum sum path involving elements of given arrays\n",
    "\n",
    "Given two sorted arrays of integers, find a maximum sum path involving elements of both arrays whose sum is maximum. We can start from either array, but we can switch between arrays only through its common elements.\n",
    "\n",
    "For example,\n",
    "\n",
    "Input:\n",
    " \n",
    "X = { 3, 6, 7, 8, 10, 12, 15, 18, 100 }\n",
    "Y = { 1, 2, 3, 5, 7, 9, 10, 11, 15, 16, 18, 25, 50 }\n",
    " \n",
    " \n",
    "The maximum sum path is:\n",
    " \n",
    "1 —> 2 —> 3 —> 6 —> 7 —> 9 —> 10 —> 12 —> 15 —> 16 —> 18 —> 100\n",
    " \n",
    "The maximum sum is 199."
   ]
  },
  {
   "cell_type": "code",
   "execution_count": null,
   "id": "91e22e12-f71c-4f25-b853-3028839a01bd",
   "metadata": {},
   "outputs": [],
   "source": []
  },
  {
   "cell_type": "code",
   "execution_count": null,
   "id": "51975d72-8e4e-44e7-9d88-9cb05a7a3bf4",
   "metadata": {},
   "outputs": [],
   "source": []
  },
  {
   "cell_type": "code",
   "execution_count": null,
   "id": "9ffc72e1-d9cd-4764-b124-11f848c530d4",
   "metadata": {},
   "outputs": [],
   "source": []
  },
  {
   "cell_type": "code",
   "execution_count": null,
   "id": "0d326cc0-7034-4b35-ac38-6d1a767d162c",
   "metadata": {},
   "outputs": [],
   "source": []
  },
  {
   "cell_type": "code",
   "execution_count": null,
   "id": "d7f8c555-874e-4600-9bf2-9da8e0849785",
   "metadata": {},
   "outputs": [],
   "source": []
  },
  {
   "cell_type": "code",
   "execution_count": null,
   "id": "b86ab6d4-1f5a-420e-a37c-46d94c0a6bc0",
   "metadata": {},
   "outputs": [],
   "source": []
  }
 ],
 "metadata": {
  "kernelspec": {
   "display_name": "Python [conda env:root] *",
   "language": "python",
   "name": "conda-root-py"
  },
  "language_info": {
   "codemirror_mode": {
    "name": "ipython",
    "version": 3
   },
   "file_extension": ".py",
   "mimetype": "text/x-python",
   "name": "python",
   "nbconvert_exporter": "python",
   "pygments_lexer": "ipython3",
   "version": "3.9.12"
  }
 },
 "nbformat": 4,
 "nbformat_minor": 5
}
