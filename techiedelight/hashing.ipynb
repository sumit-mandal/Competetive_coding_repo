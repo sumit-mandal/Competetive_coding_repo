{
 "cells": [
  {
   "cell_type": "markdown",
   "id": "b20e652f-560a-400e-89d7-88f246624e8f",
   "metadata": {},
   "source": [
    "### Check if a subarray with 0 sum exists or not"
   ]
  },
  {
   "cell_type": "raw",
   "id": "a5cb2bde-6012-48b8-a47b-1a0e4738d1af",
   "metadata": {},
   "source": [
    "Input:  { 3, 4, -7, 3, 1, 3, 1, -4, -2, -2 }\n",
    " \n",
    "Output: Subarray with zero-sum exists\n",
    " \n",
    "The subarrays with a sum of 0 are:\n",
    " \n",
    "{ 3, 4, -7 }\n",
    "{ 4, -7, 3 }\n",
    "{ -7, 3, 1, 3 }\n",
    "{ 3, 1, -4 }\n",
    "{ 3, 1, 3, 1, -4, -2, -2 }\n",
    "{ 3, 4, -7, 3, 1, 3, 1, -4, -2, -2 }"
   ]
  },
  {
   "cell_type": "code",
   "execution_count": 7,
   "id": "37483833-ea3c-4af1-884c-abb6cd18afad",
   "metadata": {},
   "outputs": [],
   "source": [
    "def hasZeroSumSublist(nums):\n",
    "    # create an empty set to store the sum of elements of each\n",
    "    # sublist `nums[0…i]`, where `0 <= i < len(nums)`\n",
    "    s = set()\n",
    "    \n",
    "    # insert 0 into the set to handle the case when sublist with\n",
    "    # zero-sum starts from index 0\n",
    "    s.add(0)\n",
    "    \n",
    "    total = 0\n",
    "    \n",
    "    \n",
    "    for i in nums:\n",
    "        \n",
    "        # sum of elements so far\n",
    "        total += i\n",
    "        \n",
    "        print('total',total)\n",
    "        print('s',s)\n",
    "        # if the sum is seen before, we have found sub list for zero sum\n",
    "        if total in s:\n",
    "            return True\n",
    "        \n",
    "        # insert sum so far into the set\n",
    "        s.add(total)\n",
    "        \n",
    "    return False"
   ]
  },
  {
   "cell_type": "code",
   "execution_count": 8,
   "id": "2f0f5a8a-d786-4c6e-a569-dead4b829a74",
   "metadata": {},
   "outputs": [
    {
     "name": "stdout",
     "output_type": "stream",
     "text": [
      "total 1\n",
      "s {0}\n",
      "total 4\n",
      "s {0, 1}\n",
      "total 8\n",
      "s {0, 1, 4}\n",
      "total 1\n",
      "s {0, 1, 4, 8}\n"
     ]
    },
    {
     "data": {
      "text/plain": [
       "True"
      ]
     },
     "execution_count": 8,
     "metadata": {},
     "output_type": "execute_result"
    }
   ],
   "source": [
    "nums = { 3, 4, -7, 3, 1, 3, 1, -4, -2, -2 }\n",
    "hasZeroSumSublist(nums)"
   ]
  },
  {
   "cell_type": "markdown",
   "id": "4934c031-7638-41b6-b0f8-55b93ce3f50e",
   "metadata": {},
   "source": [
    "### Print all subarrays with 0 sum\n",
    "\n",
    "Input:  { 4, 2, -3, -1, 0, 4 }\n",
    " \n",
    "Subarrays with zero-sum are\n",
    " \n",
    "{ -3, -1, 0, 4 }\n",
    "{ 0 }\n",
    " \n",
    " \n",
    "Input:  { 3, 4, -7, 3, 1, 3, 1, -4, -2, -2 }\n",
    " \n",
    "Subarrays with zero-sum are\n",
    " \n",
    "{ 3, 4, -7 }\n",
    "{ 4, -7, 3 }\n",
    "{ -7, 3, 1, 3 }\n",
    "{ 3, 1, -4 }\n",
    "{ 3, 1, 3, 1, -4, -2, -2 }\n",
    "{ 3, 4, -7, 3, 1, 3, 1, -4, -2, -2 }"
   ]
  },
  {
   "cell_type": "code",
   "execution_count": 9,
   "id": "007ff463-3947-4f6b-a5ab-cd886ba25151",
   "metadata": {},
   "outputs": [],
   "source": [
    "def printAllSublists(nums):\n",
    "    #considering all sublists starting at i\n",
    "    for i in range(len(nums)):\n",
    "        total = 0\n",
    "        # considering all sublists ending at j\n",
    "        for j in range(i,len(nums)):\n",
    "#             print('i',i)\n",
    "            # sum of elements so far\n",
    "            total += nums[j]\n",
    "            if total == 0:\n",
    "                print('sublist',(i,j))\n",
    "            \n",
    "    return None\n",
    "        "
   ]
  },
  {
   "cell_type": "code",
   "execution_count": 12,
   "id": "e28c525c-0a52-4542-9307-5e69da2e79d2",
   "metadata": {},
   "outputs": [
    {
     "name": "stdout",
     "output_type": "stream",
     "text": [
      "sublist (0, 2)\n",
      "sublist (0, 9)\n",
      "sublist (1, 3)\n",
      "sublist (2, 5)\n",
      "sublist (3, 9)\n",
      "sublist (5, 7)\n"
     ]
    }
   ],
   "source": [
    "nums = [3, 4, -7, 3, 1, 3, 1, -4, -2, -2]\n",
    "printAllSublists(nums)"
   ]
  },
  {
   "cell_type": "code",
   "execution_count": 19,
   "id": "888fbbb5-aa63-4b7c-8597-627a5dfc31bb",
   "metadata": {},
   "outputs": [],
   "source": [
    "## Utility function to <key,value> into the dictionary\n",
    "\n",
    "def insert(d,key,value):\n",
    "    # if the key is seen for the first time, intialize the list\n",
    "    d.setdefault(key,[]).append(value)\n",
    "    \n",
    "def printAllSublists(nums):\n",
    "    # create an empty dictionary to store the ending index of all\n",
    "    # sublists having the same sum\n",
    "    d = {}\n",
    "    \n",
    "    # insert (0,-1) pair into the dictionary to handle the case when\n",
    "    # sublist with zero-sum from index 0\n",
    "    \n",
    "    insert(d,0,-1)\n",
    "    \n",
    "    total = 0\n",
    "    \n",
    "    # traverse the given list\n",
    "    for i in range(len(nums)):\n",
    "        # sum of elements so far\n",
    "        total += nums[i]\n",
    "        \n",
    "        # if the list is seen before, there exists at least one \n",
    "        # sublist with zero-sum\n",
    "        if total in d:\n",
    "            \n",
    "            list = d.get(total)\n",
    "            \n",
    "            # find all sublists with same sum\n",
    "            \n",
    "            for value in list:\n",
    "                print('Sublist is', (value + 1, i))\n",
    "                \n",
    "        # insert (sum so far, current index) pair into dictionary\n",
    "        \n",
    "        insert(d,total,i)\n",
    "    \n",
    "    s"
   ]
  },
  {
   "cell_type": "code",
   "execution_count": 20,
   "id": "9387644c-fd7e-4bd8-8d4c-dddde567fee6",
   "metadata": {},
   "outputs": [
    {
     "name": "stdout",
     "output_type": "stream",
     "text": [
      "Sublist is (0, 2)\n",
      "Sublist is (1, 3)\n",
      "Sublist is (2, 5)\n",
      "Sublist is (5, 7)\n",
      "Sublist is (0, 9)\n",
      "Sublist is (3, 9)\n"
     ]
    }
   ],
   "source": [
    "printAllSublists(nums)\n",
    " "
   ]
  },
  {
   "cell_type": "raw",
   "id": "be0e2b05-7c00-4bb5-950c-8ce88e9483a5",
   "metadata": {},
   "source": [
    "Sort binary array in linear time\n",
    "\n",
    "Given a binary array, sort it in linear time and constant space. The output should print all zeroes, followed by all ones.\n",
    "\n",
    "For example,\n",
    "\n",
    "Input:  { 1, 0, 1, 0, 1, 0, 0, 1 }\n",
    " \n",
    "Output: { 0, 0, 0, 0, 1, 1, 1, 1 }"
   ]
  },
  {
   "cell_type": "code",
   "execution_count": 18,
   "id": "3840dafb-0a3f-4b58-935e-d4ee8d826f74",
   "metadata": {},
   "outputs": [],
   "source": [
    "def sort(A):\n",
    "    # count number of zeros\n",
    "    zeros = A.count(0)\n",
    "    \n",
    "    # put 0's in the beginning\n",
    "    k = 0\n",
    "    while zeros:\n",
    "        \n",
    "        A[k] = 0\n",
    "        print('Ak',A[k])\n",
    "        zeros = zeros - 1\n",
    "        print('zeros',zeros)\n",
    "        k += 1\n",
    "        print('k',k)\n",
    "    # fill all remainingng elements by 1\n",
    "    \n",
    "    for k in range(k,len(A)):\n",
    "        A[k] = 1\n",
    "        \n",
    "    return A"
   ]
  },
  {
   "cell_type": "code",
   "execution_count": 19,
   "id": "38a6743a-7870-4df7-b5d0-c1d07768fbf0",
   "metadata": {},
   "outputs": [
    {
     "name": "stdout",
     "output_type": "stream",
     "text": [
      "Ak 0\n",
      "zeros 5\n",
      "k 1\n",
      "Ak 0\n",
      "zeros 4\n",
      "k 2\n",
      "Ak 0\n",
      "zeros 3\n",
      "k 3\n",
      "Ak 0\n",
      "zeros 2\n",
      "k 4\n",
      "Ak 0\n",
      "zeros 1\n",
      "k 5\n",
      "Ak 0\n",
      "zeros 0\n",
      "k 6\n"
     ]
    },
    {
     "data": {
      "text/plain": [
       "[0, 0, 0, 0, 0, 0, 1, 1, 1, 1]"
      ]
     },
     "execution_count": 19,
     "metadata": {},
     "output_type": "execute_result"
    }
   ],
   "source": [
    "A = [0, 0, 1, 0, 1, 1, 0, 1, 0, 0]\n",
    "sort(A)"
   ]
  },
  {
   "cell_type": "markdown",
   "id": "7fa4a17c-d897-4059-9ef3-2e31c50214f3",
   "metadata": {},
   "source": [
    "### Method 2"
   ]
  },
  {
   "cell_type": "code",
   "execution_count": 25,
   "id": "46c2848b-e060-48ef-967e-806d0eb6d2e6",
   "metadata": {},
   "outputs": [],
   "source": [
    "def sort(A):\n",
    "    # 'k' stores the index of next available position\n",
    "    k = 0\n",
    "    \n",
    "    for i in range(len(A)):\n",
    "        # if the current elements is zero, put 0 at the next free elements in the list\n",
    "        if A[i] == 0:\n",
    "            A[k] = 0\n",
    "            k += 1\n",
    "            \n",
    "    # fill all remaining indices by 1\n",
    "    for i in range(k,len(A)):\n",
    "        A[k] = 1\n",
    "        k = k+1\n",
    "        \n",
    "    return A\n",
    "            "
   ]
  },
  {
   "cell_type": "code",
   "execution_count": 26,
   "id": "40681b01-5208-480b-891e-2566ac228b38",
   "metadata": {},
   "outputs": [
    {
     "data": {
      "text/plain": [
       "[0, 0, 0, 0, 0, 0, 1, 1, 1, 1]"
      ]
     },
     "execution_count": 26,
     "metadata": {},
     "output_type": "execute_result"
    }
   ],
   "source": [
    "sort(A)"
   ]
  },
  {
   "cell_type": "raw",
   "id": "9cee2320-ab6e-43ce-9d3a-db81913607c7",
   "metadata": {},
   "source": [
    "Find maximum length subarray having a given sum\n",
    "Given an integer array, find the maximum length subarray having a given sum.\n",
    "\n",
    "For example, consider the following array:\n",
    "\n",
    "nums[] = { 5, 6, -5, 5, 3, 5, 3, -2, 0 }\n",
    "target = 8\n",
    " \n",
    " \n",
    "Subarrays with sum 8 are\n",
    " \n",
    "{ -5, 5, 3, 5 }\n",
    "{ 3, 5 }\n",
    "{ 5, 3 }\n",
    " \n",
    "The longest subarray is { -5, 5, 3, 5 } having length 4"
   ]
  },
  {
   "cell_type": "code",
   "execution_count": 7,
   "id": "4dd5f292-7d10-4edb-bd57-d9e948faf353",
   "metadata": {},
   "outputs": [],
   "source": [
    "def findMaxLenSublist(nums,S):\n",
    "    # length store the maximum length of sublist with Sum 'S'\\\n",
    "    length = 0\n",
    "    \n",
    "    # stores ending index of maximum length sublist having sum 'S'\n",
    "    ending_index = -1\n",
    "    \n",
    "    # consider all sublists starting from i\n",
    "    for i in range(len(nums)):\n",
    "        target = 0\n",
    "#         print(i)\n",
    "        # consider all sublists ending at j\n",
    "        for j in range(i,len(nums)):\n",
    "            # target of elements in the current sublist\n",
    "            target +=nums[j]\n",
    "            \n",
    "            \n",
    "            # if we have found a sublist with sum 'S'\n",
    "            if target==S:\n",
    "#                 print('targe',nums[j])\n",
    "#                 print('length j and i before',length,j,i)\n",
    "#                 # update length and ending index of maximum length sublist\n",
    "#                 print('nums of i,j',nums[i],nums[j])\n",
    "#                 print('i,j',i,j)\n",
    "                if length < j - i + 1:\n",
    "                \n",
    "                    length = j - i + 1\n",
    "#                     print('length j and i after',length,j,i)\n",
    "                    ending_index = j\n",
    "    return (ending_index-length + 1,ending_index)\n",
    "                \n",
    "        \n",
    "#     return None"
   ]
  },
  {
   "cell_type": "code",
   "execution_count": 8,
   "id": "e46ca641-2ce5-4d21-92ac-ddf08b553bb2",
   "metadata": {
    "scrolled": true,
    "tags": []
   },
   "outputs": [
    {
     "data": {
      "text/plain": [
       "(2, 5)"
      ]
     },
     "execution_count": 8,
     "metadata": {},
     "output_type": "execute_result"
    }
   ],
   "source": [
    "nums = [5, 6, -5, 5, 3, 5, 3, -2, 0]\n",
    "findMaxLenSublist(nums,8)"
   ]
  },
  {
   "cell_type": "code",
   "execution_count": null,
   "id": "ec7410eb-1440-4802-a04a-b2f02374d328",
   "metadata": {},
   "outputs": [],
   "source": []
  },
  {
   "cell_type": "code",
   "execution_count": null,
   "id": "64c88682-d2fe-4d89-993e-2a1a8e9f161c",
   "metadata": {},
   "outputs": [],
   "source": []
  },
  {
   "cell_type": "code",
   "execution_count": null,
   "id": "205089e7-ae34-4ec4-bd35-c240e29aba07",
   "metadata": {},
   "outputs": [],
   "source": []
  },
  {
   "cell_type": "code",
   "execution_count": null,
   "id": "0493f760-d65e-4b1b-894a-fbfa39e2da90",
   "metadata": {},
   "outputs": [],
   "source": []
  },
  {
   "cell_type": "code",
   "execution_count": null,
   "id": "10f988fb-f6c7-4509-8790-e1f3adc273e3",
   "metadata": {},
   "outputs": [],
   "source": []
  },
  {
   "cell_type": "code",
   "execution_count": null,
   "id": "139d6180-f9da-4f87-aa86-e6dd669671b4",
   "metadata": {},
   "outputs": [],
   "source": []
  },
  {
   "cell_type": "code",
   "execution_count": null,
   "id": "7d514ef6-8ec1-46a8-a2a0-765a08bb33bf",
   "metadata": {},
   "outputs": [],
   "source": []
  },
  {
   "cell_type": "code",
   "execution_count": null,
   "id": "8a4b9e6b-df72-478d-b3b9-c6630816d3c3",
   "metadata": {},
   "outputs": [],
   "source": []
  }
 ],
 "metadata": {
  "kernelspec": {
   "display_name": "Python [conda env:chatbot_env]",
   "language": "python",
   "name": "conda-env-chatbot_env-py"
  },
  "language_info": {
   "codemirror_mode": {
    "name": "ipython",
    "version": 3
   },
   "file_extension": ".py",
   "mimetype": "text/x-python",
   "name": "python",
   "nbconvert_exporter": "python",
   "pygments_lexer": "ipython3",
   "version": "3.5.6"
  }
 },
 "nbformat": 4,
 "nbformat_minor": 5
}
