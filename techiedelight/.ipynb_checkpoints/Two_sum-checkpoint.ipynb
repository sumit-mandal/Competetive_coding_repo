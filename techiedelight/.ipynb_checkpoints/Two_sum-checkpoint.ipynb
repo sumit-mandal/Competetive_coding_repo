{
 "cells": [
  {
   "cell_type": "raw",
   "id": "beb320e6-7cd9-4c47-803c-e17f9c629e2d",
   "metadata": {},
   "source": [
    "Given an integer array, find the maximum product of two integers in it.\n",
    "\n",
    "For example, consider array {-10, -3, 5, 6, -2}. The maximum product is the (-10, -3) or (5, 6) pair.\n",
    "\n"
   ]
  },
  {
   "cell_type": "code",
   "execution_count": 72,
   "id": "ccb1a076-deb9-45c6-b4c0-db2e6ba52193",
   "metadata": {},
   "outputs": [],
   "source": [
    "import sys\n",
    "def findMaximumProduct(A):\n",
    "    \n",
    "    # base case\n",
    "    if len(A)<2:\n",
    "        return\n",
    "    max_product = -sys.maxsize\n",
    "    max_i = max_j = -1\n",
    "    \n",
    "    # consider every pair of elements\n",
    "    for i in range(len(A)-1):\n",
    "        #print(i)\n",
    "        for j in range(i+1,len(A)):\n",
    "            #print('j',j)\n",
    "            # update the maximum product\n",
    "            if max_product < A[i]*A[j]:\n",
    "                max_product = A[i]*A[j]\n",
    "                \n",
    "                (max_i,max_j) = (i,j)\n",
    "                \n",
    "                \n",
    "    print(\"Pair is\",(A[max_i],A[max_j]))\n",
    "        "
   ]
  },
  {
   "cell_type": "code",
   "execution_count": 73,
   "id": "a4845f70-d92e-41ae-ae80-a85b0cfc20c3",
   "metadata": {},
   "outputs": [
    {
     "name": "stdout",
     "output_type": "stream",
     "text": [
      "Pair is (19, 14)\n"
     ]
    }
   ],
   "source": [
    "findMaximumProduct([19,12,1,-1,14])"
   ]
  },
  {
   "cell_type": "code",
   "execution_count": 76,
   "id": "93877bac-31e8-4f84-96e5-a2b280512698",
   "metadata": {},
   "outputs": [],
   "source": [
    "def findMaximumproduct(A):\n",
    "    \n",
    "    if len(A)<2:\n",
    "        return\n",
    "    \n",
    "    max_product = -sys.maxsize\n",
    "    max_i = max_j = -1\n",
    "    \n",
    "    for i in range(len(A)-1):\n",
    "        #print(i)\n",
    "        for j in range(i+1,len(A)):\n",
    "            #print('j',j)\n",
    "            \n",
    "            if max_product < A[i]*A[j]:\n",
    "                max_product = A[i]*A[j] \n",
    "                (max_i,max_j) = (i,j)\n",
    "                \n",
    "    print('*******',(A[max_i],A[max_j]))"
   ]
  },
  {
   "cell_type": "code",
   "execution_count": 77,
   "id": "54bd9a78-fc20-40b7-b091-86bfebe6f6db",
   "metadata": {},
   "outputs": [
    {
     "name": "stdout",
     "output_type": "stream",
     "text": [
      "******* (-10, -3)\n"
     ]
    }
   ],
   "source": [
    "findMaximumproduct([-10, -3, 5, 6, -2])"
   ]
  },
  {
   "cell_type": "raw",
   "id": "1df9a089-3373-499e-81a4-a244e13b0e1a",
   "metadata": {},
   "source": [
    "Sort an array of 0’s, 1’s, and 2’s (Dutch National Flag Problem)\n",
    "Given an array containing only 0’s, 1’s, and 2’s, sort it in linear time and using constant space.\n",
    "\n",
    "For example,\n",
    "\n",
    "Input:  { 0, 1, 2, 2, 1, 0, 0, 2, 0, 1, 1, 0 }\n",
    " \n",
    "Output: { 0, 0, 0, 0, 0, 1, 1, 1, 1, 2, 2, 2 }\n"
   ]
  },
  {
   "cell_type": "code",
   "execution_count": 34,
   "id": "e4505328-069e-4639-9493-d7af7df82c2a",
   "metadata": {},
   "outputs": [],
   "source": [
    "A = [0, 1, 2, 2, 1, 0, 0, 2, 0, 1, 1, 0]\n",
    "def swap(A,i,j):\n",
    "    temp = A[i]\n",
    "    A[i] = A[j]\n",
    "    A[j] = temp\n",
    "    \n",
    "    #print(f'temp is {temp} A[i] is {A[i]} and A[j] is {A[j]}')\n",
    "def threeWayPartition(A):\n",
    "    start = mid = 0\n",
    "    pivot = 1\n",
    "    end = len(A) - 1\n",
    "    \n",
    "    while mid <= end:\n",
    "        if A[mid] < pivot: # current element is 0\n",
    "            swap(A,start,end)\n",
    "            start += 1\n",
    "            print('start is',start)\n",
    "            mid += 1\n",
    "            print('mid is',mid)\n",
    "        elif A[mid] > pivot: # current element is 2\n",
    "            swap(A,mid,end)\n",
    "            end = end - 1\n",
    "        else: # current element is 1\n",
    "            mid = mid+1\n",
    "    print(A)"
   ]
  },
  {
   "cell_type": "code",
   "execution_count": 35,
   "id": "26ec76f0-2eb5-46f9-9df0-8b6509fc68ef",
   "metadata": {},
   "outputs": [
    {
     "name": "stdout",
     "output_type": "stream",
     "text": [
      "start is 1\n",
      "mid is 1\n",
      "start is 2\n",
      "mid is 3\n",
      "start is 3\n",
      "mid is 6\n",
      "start is 4\n",
      "mid is 7\n",
      "start is 5\n",
      "mid is 9\n",
      "[0, 1, 1, 0, 0, 0, 0, 1, 1, 2, 2, 2]\n"
     ]
    }
   ],
   "source": [
    "threeWayPartition(A)"
   ]
  },
  {
   "cell_type": "code",
   "execution_count": 40,
   "id": "96998bab-b00b-401f-91a2-8c80a4a8e951",
   "metadata": {},
   "outputs": [],
   "source": [
    "def sort012(a,arr_size):\n",
    "    lo = 0\n",
    "    hi = arr_size-1\n",
    "    mid = 0\n",
    "    \n",
    "    # Iterate till all the elements are sorted\n",
    "    while mid<=hi:\n",
    "        # If the element is 0\n",
    "        if a[mid] == 0:\n",
    "            a[lo],a[mid] = a[mid],a[lo]\n",
    "            lo = lo+1\n",
    "            mid = mid+1\n",
    "            \n",
    "        # if the element is 1\n",
    "        elif a[mid] == 1:\n",
    "            mid = mid+1\n",
    "        \n",
    "        # If the element is 2\n",
    "        else:\n",
    "            a[mid],a[hi] = a[hi],a[mid]\n",
    "            hi = hi - 1\n",
    "            \n",
    "    return a\n",
    "        \n",
    "            "
   ]
  },
  {
   "cell_type": "code",
   "execution_count": 42,
   "id": "cf8c6367-3fdb-4ea9-93a4-ea254af4b4a9",
   "metadata": {},
   "outputs": [],
   "source": [
    "def sort012(a,arr_size):\n",
    "    lo = 0\n",
    "    hi = arr_size-1\n",
    "    mid = 0\n",
    "    \n",
    "    # Iterate till all the elements are sorted\n",
    "    while mid<=hi:\n",
    "        if a[mid] == 0:\n",
    "            a[mid],a[lo] = a[lo],a[mid]\n",
    "            mid +=1\n",
    "            lo +=1\n",
    "        elif a[mid]==1:\n",
    "            mid = mid+1\n",
    "        else:\n",
    "            a[mid],a[hi] = a[hi],a[mid]\n",
    "            hi = hi-1\n",
    "            \n",
    "    return a"
   ]
  },
  {
   "cell_type": "code",
   "execution_count": 43,
   "id": "c7c98c99-a337-49f9-aeb6-7e97f0091d61",
   "metadata": {},
   "outputs": [
    {
     "data": {
      "text/plain": [
       "[0, 0, 0, 0, 0, 1, 1, 1, 1, 2, 2, 2]"
      ]
     },
     "execution_count": 43,
     "metadata": {},
     "output_type": "execute_result"
    }
   ],
   "source": [
    "sort012(A,len(A))"
   ]
  },
  {
   "cell_type": "markdown",
   "id": "a0c1505a-1516-4cf3-a6ca-420b9d24e7bb",
   "metadata": {},
   "source": [
    "## In place merge two sorted Arrays"
   ]
  },
  {
   "cell_type": "raw",
   "id": "633685d4-acfd-459b-a40b-bd3dfcda6a42",
   "metadata": {},
   "source": [
    "Given two sorted arrays, X[] and Y[] of size m and n each, merge elements of X[] with elements of array Y[] by maintaining the sorted order, i.e., fill X[] with the first m smallest elements and fill Y[] with remaining elements.\n",
    "\n",
    "\n",
    "Do the conversion in-place and without using any other data structure.\n",
    "\n",
    " \n",
    "For example,\n",
    "\n",
    "Input:\n",
    " \n",
    "X[] = { 1, 4, 7, 8, 10 }\n",
    "Y[] = { 2, 3, 9 }\n",
    " \n",
    "Output:\n",
    " \n",
    "X[] = { 1, 2, 3, 4, 7 }\n",
    "Y[] = { 8, 9, 10 }\n",
    "\n",
    "Input: ar1[] = {10};\n",
    "       ar2[] = {2, 3};\n",
    "Output: ar1[] = {2}\n",
    "        ar2[] = {3, 10}  \n",
    "\n",
    "Input: ar1[] = {1, 5, 9, 10, 15, 20};\n",
    "       ar2[] = {2, 3, 8, 13};\n",
    "Output: ar1[] = {1, 2, 3, 5, 8, 9}\n",
    "        ar2[] = {10, 13, 15, 20}"
   ]
  },
  {
   "cell_type": "code",
   "execution_count": 9,
   "id": "af0d25c9-7b43-472d-ac7e-1eccdf2a7b7d",
   "metadata": {},
   "outputs": [],
   "source": [
    "def merge(arr1,arr2):\n",
    "    m = len(arr1)\n",
    "    n = len(arr2)\n",
    "    # Iterate through all elements of array2[] starting from the last element\n",
    "    for i in range(n-1,-1,-1):\n",
    "        # find the smallest element greater than ar2[i]. Move all elements one \n",
    "        # position ahead till the smallest greater element is not found.\n",
    "        last = arr1[m-1]\n",
    "        j = m-2\n",
    "        while(j>=0 and arr1[j] > arr2[i]):\n",
    "            arr1[j+1] = arr1[j]\n",
    "            j = j-1\n",
    "            \n",
    "        # If there was a greateer elements\n",
    "        if (last > arr2[i]):\n",
    "            arr1[j+1] = arr2[i]\n",
    "            arr2[i] = last\n",
    "            \n",
    "    return arr1,arr2"
   ]
  },
  {
   "cell_type": "code",
   "execution_count": 10,
   "id": "22985156-9ca1-4c69-94b2-ebd5ec4c1734",
   "metadata": {},
   "outputs": [
    {
     "data": {
      "text/plain": [
       "([1, 2, 3, 5, 8, 9], [10, 13, 15, 20])"
      ]
     },
     "execution_count": 10,
     "metadata": {},
     "output_type": "execute_result"
    }
   ],
   "source": [
    "ar1 = [1, 5, 9, 10, 15, 20]\n",
    "ar2 = [2, 3, 8, 13]\n",
    "merge(ar1,ar2)"
   ]
  },
  {
   "cell_type": "code",
   "execution_count": 21,
   "id": "58a7cdd5-ddcd-4c2d-a402-aab9ce633e54",
   "metadata": {},
   "outputs": [],
   "source": [
    "arr1 = [1, 5, 9, 10, 15, 20]\n",
    "arr2 = [2, 3, 8, 13]\n",
    "\n",
    "def merger(n,m):\n",
    "    i = 0\n",
    "    j = 0\n",
    "    k = n-1\n",
    "    \n",
    "    while(i<k and j<m):\n",
    "        if (arr1[i] < arr2[j]):\n",
    "            i = i+1\n",
    "        else:\n",
    "            temp = arr2[j]\n",
    "            arr2[j] = arr1[k]\n",
    "            arr1[k] = temp\n",
    "            \n",
    "            j += 1\n",
    "            k -= 1\n",
    "            \n",
    "    arr1.sort()\n",
    "    arr2.sort()\n",
    "            \n",
    "    return arr1,arr2"
   ]
  },
  {
   "cell_type": "code",
   "execution_count": 22,
   "id": "a5be1478-ee98-4250-a714-c4a14da398e4",
   "metadata": {},
   "outputs": [
    {
     "data": {
      "text/plain": [
       "([1, 2, 3, 5, 8, 9], [10, 13, 15, 20])"
      ]
     },
     "execution_count": 22,
     "metadata": {},
     "output_type": "execute_result"
    }
   ],
   "source": [
    "merger(len(arr1),len(arr2))"
   ]
  },
  {
   "cell_type": "markdown",
   "id": "5a35a884-c73d-4e4c-835d-76b7305ff3b5",
   "metadata": {},
   "source": [
    "Merge two arrays by satisfying given constraints\n",
    "Given two sorted arrays X[] and Y[] of size m and n each where m >= n and X[] has exactly n vacant cells, merge elements of Y[] in their correct position in array X[], i.e., merge (X, Y) by keeping the sorted order.\n",
    "\n",
    "For example,\n",
    "\n",
    "Input:\n",
    " \n",
    "X[] = { 0, 2, 0, 3, 0, 5, 6, 0, 0 }\n",
    "Y[] = { 1, 8, 9, 10, 15 }\n",
    " \n",
    "The vacant cells in X[] is represented by 0\n",
    " \n",
    "Output:\n",
    " \n",
    "X[] = { 1, 2, 3, 5, 6, 8, 9, 10, 15 }"
   ]
  },
  {
   "cell_type": "code",
   "execution_count": 7,
   "id": "16f78e38-61c1-44ff-91af-9a1a30eb6530",
   "metadata": {},
   "outputs": [],
   "source": [
    "NA = -1\n",
    "\n",
    "# Function to move m elements at the end of array mPlusN[]\n",
    "\n",
    "def moveToEnd(mPlusN,size):\n",
    "    i = 0\n",
    "    j = size - 1\n",
    "    \n",
    "    # start from the end\n",
    "    for i in range(size-1,-1,-1):\n",
    "        if (mPlusN !=NA):\n",
    "            mPlusN[j] = mPlusN[i]\n",
    "            j -= 1\n",
    "            print(j,i)\n",
    "            print('mPlusN',mPlusN)\n",
    "            \n",
    "def merge(mPlusN,N,m,n):\n",
    "    i = n # Current index of i/p part of mplusN[]\n",
    "    j = 0\n",
    "    k = 0\n",
    "    \n",
    "    while (k<(m+n)):\n",
    "        # Take an element from mPlusN[] if\n",
    "        "
   ]
  },
  {
   "cell_type": "code",
   "execution_count": 8,
   "id": "a4d4b6b5-606c-4841-88e8-abae35bb27c5",
   "metadata": {},
   "outputs": [],
   "source": [
    "mPlusN = [2, 8, NA, NA, NA, 13, NA, 15, 20]\n",
    "N = [5, 7, 9, 25]\n",
    "n = len(N)\n",
    " \n",
    "m = len(mPlusN) - n"
   ]
  },
  {
   "cell_type": "code",
   "execution_count": 9,
   "id": "22ffcae6-8be0-4496-a1d9-b3d6c1cb4ac5",
   "metadata": {},
   "outputs": [
    {
     "name": "stdout",
     "output_type": "stream",
     "text": [
      "7 8\n",
      "mPlusN [2, 8, -1, -1, -1, 13, -1, 15, 20]\n",
      "6 7\n",
      "mPlusN [2, 8, -1, -1, -1, 13, -1, 15, 20]\n",
      "5 6\n",
      "mPlusN [2, 8, -1, -1, -1, 13, -1, 15, 20]\n",
      "4 5\n",
      "mPlusN [2, 8, -1, -1, -1, 13, -1, 15, 20]\n",
      "3 4\n",
      "mPlusN [2, 8, -1, -1, -1, 13, -1, 15, 20]\n",
      "2 3\n",
      "mPlusN [2, 8, -1, -1, -1, 13, -1, 15, 20]\n",
      "1 2\n",
      "mPlusN [2, 8, -1, -1, -1, 13, -1, 15, 20]\n",
      "0 1\n",
      "mPlusN [2, 8, -1, -1, -1, 13, -1, 15, 20]\n",
      "-1 0\n",
      "mPlusN [2, 8, -1, -1, -1, 13, -1, 15, 20]\n"
     ]
    }
   ],
   "source": [
    "moveToEnd(mPlusN, m+n)\n",
    "\n",
    "### INCOMPLETE"
   ]
  },
  {
   "cell_type": "markdown",
   "id": "af06b5e0-64e3-4db8-ae19-5b2104674ff2",
   "metadata": {},
   "source": [
    "### Find the index of 0 to be replaced to get the maximum length sequence of continuous ones"
   ]
  },
  {
   "cell_type": "markdown",
   "id": "1decd2a6-14e4-4fe4-8230-e36183ed77ef",
   "metadata": {},
   "source": [
    "Given a binary array, find the index of 0 to be replaced with 1 to get the maximum length sequence of continuous ones.\n",
    "\n",
    "For example, consider the array { 0, 0, 1, 0, 1, 1, 1, 0, 1, 1 }. We need to replace index 7 to get the continuous sequence of length 6 containing all 1’s.\n",
    "\n"
   ]
  },
  {
   "cell_type": "code",
   "execution_count": 43,
   "id": "cea335fd-c2cb-4442-a1e7-f89687a8c760",
   "metadata": {
    "tags": []
   },
   "outputs": [],
   "source": [
    "list1 = [ 0, 0, 1, 0, 1, 1, 1, 0, 1, 1,0,1]\n",
    "\n",
    "def find_value(list1,len_l):\n",
    "    # for maximum number of 1 around zero\n",
    "    max_count = 0\n",
    "    # We store result here\n",
    "    max_index = 0\n",
    "    \n",
    "    #\n",
    "    prev_zero = -1\n",
    "    #index of prev to previous zero\n",
    "    prev_prev_zero = -1\n",
    "    \n",
    "    # traverse\n",
    "    for curr in range(len_l):\n",
    "        # if current element is zero calculate the difference b/w curr and prev_prev_zero\n",
    "        if (list1[curr]==0):\n",
    "            print('\\ncurr',curr)\n",
    "            print('prev_prev_zero upper',prev_prev_zero)\n",
    "            # update the result if count of 1s around prev_zero is more\n",
    "            if (curr - prev_prev_zero > max_count):\n",
    "                max_count = curr - prev_prev_zero\n",
    "                print('max count',max_count)\n",
    "                max_index = prev_zero\n",
    "                # print(max_index)\n",
    "            else:\n",
    "                pass\n",
    "            # update for next iteration\n",
    "            # Update for next iteration\n",
    "            prev_prev_zero = prev_zero\n",
    "            print('\\nprev_prev_zero\\n',prev_prev_zero)\n",
    "            prev_zero = curr\n",
    "            print('prev_zero\\n',prev_zero)\n",
    "            # print(prev_prev_zero)\n",
    "\n",
    "    # # check for the last encountered zero\n",
    "    if (len_l - prev_prev_zero > max_count):\n",
    "        max_index = prev_zero\n",
    "        \n",
    "    # return max_index\n",
    "            "
   ]
  },
  {
   "cell_type": "code",
   "execution_count": 44,
   "id": "87edfb1b-2cec-45f1-b66c-d465268a9f6f",
   "metadata": {},
   "outputs": [
    {
     "name": "stdout",
     "output_type": "stream",
     "text": [
      "\n",
      "curr 0\n",
      "prev_prev_zero upper -1\n",
      "max count 1\n",
      "\n",
      "prev_prev_zero\n",
      " -1\n",
      "prev_zero\n",
      " 0\n",
      "\n",
      "curr 1\n",
      "prev_prev_zero upper -1\n",
      "max count 2\n",
      "\n",
      "prev_prev_zero\n",
      " 0\n",
      "prev_zero\n",
      " 1\n",
      "\n",
      "curr 3\n",
      "prev_prev_zero upper 0\n",
      "max count 3\n",
      "\n",
      "prev_prev_zero\n",
      " 1\n",
      "prev_zero\n",
      " 3\n",
      "\n",
      "curr 7\n",
      "prev_prev_zero upper 1\n",
      "max count 6\n",
      "\n",
      "prev_prev_zero\n",
      " 3\n",
      "prev_zero\n",
      " 7\n",
      "\n",
      "curr 10\n",
      "prev_prev_zero upper 3\n",
      "max count 7\n",
      "\n",
      "prev_prev_zero\n",
      " 7\n",
      "prev_zero\n",
      " 10\n"
     ]
    }
   ],
   "source": [
    "len_l = len(list1)\n",
    "find_value(list1,len_l)"
   ]
  },
  {
   "cell_type": "code",
   "execution_count": 50,
   "id": "7a6929c6-5d30-46c8-a791-71fd9d4c2dff",
   "metadata": {},
   "outputs": [],
   "source": [
    "def get_index(arr,n):\n",
    "    max_val = 0\n",
    "    max_index = 0\n",
    "    prev_zero = -1\n",
    "    prev_prev_zero=-1\n",
    "    \n",
    "    for curr in range(n):\n",
    "        if arr[curr]==0:\n",
    "            if curr-prev_prev_zero > max_val:\n",
    "                max_val = curr-prev_prev_zero\n",
    "                max_index=prev_zero\n",
    "                \n",
    "            prev_prev_zero=prev_zero\n",
    "            prev_zero = curr\n",
    "            \n",
    "            \n",
    "    if n - prev_prev_zero > max_val:\n",
    "        max_index = prev_zero\n",
    "        \n",
    "    return max_index\n",
    "            \n",
    "            "
   ]
  },
  {
   "cell_type": "code",
   "execution_count": 51,
   "id": "c49d8454-e38f-4587-b5ad-81274bb86f2b",
   "metadata": {},
   "outputs": [
    {
     "data": {
      "text/plain": [
       "7"
      ]
     },
     "execution_count": 51,
     "metadata": {},
     "output_type": "execute_result"
    }
   ],
   "source": [
    "get_index(list1,len(list1))"
   ]
  },
  {
   "cell_type": "code",
   "execution_count": 52,
   "id": "fc20b4d9-4fc3-4507-a0b8-5ce2985e8f3e",
   "metadata": {},
   "outputs": [
    {
     "data": {
      "text/plain": [
       "12"
      ]
     },
     "execution_count": 52,
     "metadata": {},
     "output_type": "execute_result"
    }
   ],
   "source": [
    "len(list1)"
   ]
  },
  {
   "cell_type": "code",
   "execution_count": null,
   "id": "64ec0ad9-8ab0-43a1-a65e-15b58fc71f31",
   "metadata": {},
   "outputs": [],
   "source": []
  }
 ],
 "metadata": {
  "kernelspec": {
   "display_name": "Python [conda env:IMU]",
   "language": "python",
   "name": "conda-env-IMU-py"
  },
  "language_info": {
   "codemirror_mode": {
    "name": "ipython",
    "version": 3
   },
   "file_extension": ".py",
   "mimetype": "text/x-python",
   "name": "python",
   "nbconvert_exporter": "python",
   "pygments_lexer": "ipython3",
   "version": "3.7.13"
  }
 },
 "nbformat": 4,
 "nbformat_minor": 5
}
