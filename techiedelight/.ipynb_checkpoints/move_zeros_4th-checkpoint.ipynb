{
 "cells": [
  {
   "cell_type": "raw",
   "id": "9c09b001-1c0d-4f76-a6a3-a2f54c254448",
   "metadata": {},
   "source": [
    "Move all zeros present in an array to the end\n",
    "\n",
    "Input:  { 6, 0, 8, 2, 3, 0, 4, 0, 1 }\n",
    " \n",
    "Output: { 6, 8, 2, 3, 4, 1, 0, 0, 0 }"
   ]
  },
  {
   "cell_type": "code",
   "execution_count": 17,
   "id": "bb214f14-ca7f-4296-a265-cc2ae1f649dd",
   "metadata": {},
   "outputs": [],
   "source": [
    "def reorder(A=[6, 0, 8, 2, 3, 0, 4, 0, 1]):\n",
    "    k = 0\n",
    "    for i in A:\n",
    "        if i>0:\n",
    "            A[k] = i\n",
    "            k = k + 1\n",
    "            \n",
    "    for i in range(k,len(A)):\n",
    "        A[i] = 0\n",
    "        \n",
    "        print(A)"
   ]
  },
  {
   "cell_type": "code",
   "execution_count": 18,
   "id": "8152ef94-8d60-4838-8871-12f37f25af5d",
   "metadata": {},
   "outputs": [
    {
     "name": "stdout",
     "output_type": "stream",
     "text": [
      "[6, 8, 2, 3, 4, 1, 0, 0, 1]\n",
      "[6, 8, 2, 3, 4, 1, 0, 0, 1]\n",
      "[6, 8, 2, 3, 4, 1, 0, 0, 0]\n"
     ]
    }
   ],
   "source": [
    "reorder()"
   ]
  },
  {
   "cell_type": "raw",
   "id": "4bba0ab1-16f4-410d-9fac-27d374aef648",
   "metadata": {},
   "source": [
    "Replace every array element with the product of every other element without using a division operator\n",
    "\n",
    "Input:  { 1, 2, 3, 4, 5 }\n",
    "Output: { 120, 60, 40, 30, 24 }\n",
    " \n",
    " \n",
    "Input:  { 5, 3, 4, 2, 6, 8 }\n",
    "Output: { 1152, 1920, 1440, 2880, 960, 720 }"
   ]
  },
  {
   "cell_type": "code",
   "execution_count": 37,
   "id": "af79d7b4-22ff-4a2d-aad8-cf43b922e62f",
   "metadata": {},
   "outputs": [],
   "source": [
    "def find_product(input1 = [1,2,3,4,5]):\n",
    "    n = len(input1)\n",
    "    \n",
    "    # base case\n",
    "    if n == 0:\n",
    "        return\n",
    "    # use two auxilary lists\n",
    "    left = [None] * n\n",
    "    right = [None] * n\n",
    "    \n",
    "    left[0] = 1\n",
    "    for i in range(1,n):\n",
    "        left[i] = input1[i-1] * left[i - 1]\n",
    "    \n",
    "    print(left)\n",
    "        # print(left[i])\n",
    "    right[n-1] = 1\n",
    "    for j in reversed(range(n-1)):\n",
    "        print(j)\n",
    "        right[j] = input1[j + 1] * right[j + 1]\n",
    "    print(right)\n",
    "    \n",
    "    for i in range(n):\n",
    "        input1[i] = left[i] * right[i]\n",
    "        \n",
    "    print(input1)"
   ]
  },
  {
   "cell_type": "code",
   "execution_count": 38,
   "id": "a370a655-2092-4760-9e6f-711d530f5a87",
   "metadata": {},
   "outputs": [
    {
     "name": "stdout",
     "output_type": "stream",
     "text": [
      "[1, 1, 2, 6, 24]\n",
      "3\n",
      "2\n",
      "1\n",
      "0\n",
      "[120, 60, 20, 5, 1]\n",
      "[120, 60, 40, 30, 24]\n"
     ]
    }
   ],
   "source": [
    "find_product()"
   ]
  },
  {
   "cell_type": "raw",
   "id": "14c2f0d8-2f86-43ef-943e-44f1211daf44",
   "metadata": {},
   "source": [
    "Longest Bitonic Subarray Problem\n",
    "The Longest Bitonic Subarray (LBS) problem is to find a subarray of a given sequence in which the subarray’s elements are first sorted in increasing order, then in decreasing order, and the subarray is as long as possible. Strictly ascending or descending subarrays are also accepted.\n",
    "\n",
    "Longest bitonic subarray of the sequence { 3, 5, 8, 4, 5, 9, 10, 8, 5, 3, 4 } is { 4, 5, 9, 10, 8, 5, 3 }\n",
    " \n",
    "For sequences sorted in increasing or decreasing order, the output is the same as the input sequence, i.e.,\n",
    " \n",
    "[1, 2, 3, 4, 5] ——> [1, 2, 3, 4, 5]\n",
    "[5, 4, 3, 2, 1] ——> [5, 4, 3, 2, 1]"
   ]
  },
  {
   "cell_type": "code",
   "execution_count": 50,
   "id": "28689d1a-4891-4c6f-b174-60a95a76571e",
   "metadata": {},
   "outputs": [],
   "source": [
    "def bitonic(arr):\n",
    "    \n",
    "    n = len(arr)\n",
    "    \n",
    "    # Length of increasing subarray ending at all indexes\n",
    "    inc = [None] * n\n",
    "    \n",
    "    # length of increasing  subarray starting at all indexes\n",
    "    dec = [None] * n\n",
    "    \n",
    "    # leng of increasing subarray sequence ending at first index is 1\n",
    "    inc[0] = 1\n",
    "    \n",
    "    print(\"****\",inc)\n",
    "    dec[n-1] = 1\n",
    "    print(\"*\",dec)\n",
    "    \n",
    "    # length of increasing sequence stating at first index is 1\n",
    "    dec[n-1] = 1\n",
    "    \n",
    "    # Step 1) Construct increasing sequence array\n",
    "    \n",
    "    for i in range(n):\n",
    "        "
   ]
  },
  {
   "cell_type": "code",
   "execution_count": 51,
   "id": "25580351-e39e-4e9a-a022-7a68a1810ad3",
   "metadata": {},
   "outputs": [
    {
     "name": "stdout",
     "output_type": "stream",
     "text": [
      "**** [1, None, None, None, None, None]\n",
      "* [None, None, None, None, None, 1]\n"
     ]
    }
   ],
   "source": [
    "arr = [12, 4, 78, 90, 45, 23]\n",
    "bitonic(arr)"
   ]
  },
  {
   "cell_type": "markdown",
   "id": "175e2228-7950-496d-8769-83dac444c104",
   "metadata": {},
   "source": [
    "#### Maximum Sum Subarray Problem (Kadane’s Algorithm)"
   ]
  },
  {
   "cell_type": "raw",
   "id": "ea77e623-957a-4698-8122-65b71ca0debe",
   "metadata": {},
   "source": [
    "Given an integer array, find a contiguous subarray within it that has the largest sum.\n",
    "\n",
    "Input:  {-2, 1, -3, 4, -1, 2, 1, -5, 4}\n",
    " \n",
    "Output: Subarray with the largest sum is {4, -1, 2, 1} with sum 6."
   ]
  },
  {
   "cell_type": "code",
   "execution_count": null,
   "id": "1ab5403a-b795-4d36-981f-fa3783638aed",
   "metadata": {},
   "outputs": [],
   "source": []
  },
  {
   "cell_type": "code",
   "execution_count": 12,
   "id": "42426d70-855c-4840-a20c-18ec3c5dd532",
   "metadata": {},
   "outputs": [],
   "source": [
    "def kadane(arr):\n",
    "    # stores the maximum sum sublist found so far\n",
    "    max_so_far = 0\n",
    "    # stores the maximum sum of sublist ending at the current position\n",
    "    max_ending_here = 0\n",
    "    \n",
    "    # traverse the given list\n",
    "    for i in arr:\n",
    "        # UPDATE THE MAXIMum sum of sublist \"ending\" at index i(by adding the current elemtn to maximum sum ending at previous index 'i-1')\n",
    "        max_ending_here = max_ending_here + i\n",
    "        print(\"Max end\",max_ending_here)\n",
    "        \n",
    "        # if maximum sum is negative, set it to 0(which represents an empty sublist)\n",
    "        max_ending_here = max(max_ending_here,0)\n",
    "        \n",
    "        # update the result if the current sublist sum is found to be greateer\n",
    "        max_so_far = max(max_so_far,max_ending_here)\n",
    "        \n",
    "    return max_so_far\n",
    "        \n",
    "        \n",
    "    "
   ]
  },
  {
   "cell_type": "code",
   "execution_count": 13,
   "id": "996bf9f0-6674-4dd7-a0ba-5d1e5b3c0321",
   "metadata": {},
   "outputs": [
    {
     "name": "stdout",
     "output_type": "stream",
     "text": [
      "Max end -2\n",
      "Max end 1\n",
      "Max end -2\n",
      "Max end 4\n",
      "Max end 3\n",
      "Max end 5\n",
      "Max end 6\n",
      "Max end 1\n",
      "Max end 5\n"
     ]
    },
    {
     "data": {
      "text/plain": [
       "6"
      ]
     },
     "execution_count": 13,
     "metadata": {},
     "output_type": "execute_result"
    }
   ],
   "source": [
    "arr = [-2, 1, -3, 4, -1, 2, 1, -5, 4]\n",
    "kadane(arr)"
   ]
  },
  {
   "cell_type": "markdown",
   "id": "904a5d13-fe89-4d3d-b4b5-2f8d3190d4b6",
   "metadata": {},
   "source": [
    "### Print continuous subarray with maximum sum\n",
    "Given an integer array, find and print a contiguous subarray with the maximum sum in it."
   ]
  },
  {
   "cell_type": "raw",
   "id": "d01a4ab4-70fb-4a28-8be6-610011c8ced9",
   "metadata": {},
   "source": [
    "Input:  {-2, 1, -3, 4, -1, 2, 1, -5, 4}\n",
    " \n",
    "Output: The contiguous subarray with the largest sum is {4, -1, 2, 1}\n",
    " \n",
    " \n",
    "Input:  {8, -7, -3, 5, 6, -2, 3, -4, 2}\n",
    " \n",
    "Output: The contiguous subarray with the largest sum is {5, 6, -2, 3}"
   ]
  },
  {
   "cell_type": "code",
   "execution_count": 62,
   "id": "94459da5-4898-4f4e-b58a-c6f473b26954",
   "metadata": {},
   "outputs": [],
   "source": [
    "def max_subarray(nums):\n",
    "    currMax = nums[0]\n",
    "    globalMax = nums[0]\n",
    "    \n",
    "    print(\"currMaxfirst\",currMax)\n",
    "    print(\"globalMax\",globalMax)\n",
    "    \n",
    "    for i in range(1,len(nums)):\n",
    "        # update currMax\n",
    "        currMax = max(nums[i],nums[i]+currMax)\n",
    "        print(\"currmax\",currMax)\n",
    "        \n",
    "        # Check if currMax is greater than globalMax\n",
    "        if (currMax>globalMax):\n",
    "            globalMax = currMax\n",
    "            print(\"globalMaxIni\",globalMax)\n",
    "            # whenever my globalMax becomes my currMax endindex would become i\n",
    "            endIndex = i\n",
    "            print('end indexes',endIndex)\n",
    "            \n",
    "    startIndex = endIndex\n",
    "    print(\"start ** Index\",startIndex)\n",
    "    \n",
    "    \n",
    "    # Traverse in left direction to find start index of subarray\n",
    "    while (startIndex >= 0):   \n",
    "        globalMax = globalMax-nums[startIndex]\n",
    "        print(f\"globalMax {globalMax} - startIndex {startIndex}\")\n",
    "        \n",
    "        if (globalMax == 0):\n",
    "            break\n",
    "            \n",
    "        # Decrement the start index\n",
    "        \n",
    "        startIndex = startIndex - 1\n",
    "        \n",
    "    # Printing the elements of subarray woth max sum\n",
    "    for i in range(startIndex,endIndex+1):\n",
    "        print(nums[i],end = \" \")\n",
    "        \n",
    "        \n",
    "        \n",
    "            \n",
    "    # Decrement the start index\n",
    "            \n",
    "            \n",
    "        \n",
    "    "
   ]
  },
  {
   "cell_type": "code",
   "execution_count": 63,
   "id": "a4b4741f-4704-4d53-b480-51ad73107eae",
   "metadata": {},
   "outputs": [
    {
     "name": "stdout",
     "output_type": "stream",
     "text": [
      "currMaxfirst 2\n",
      "globalMax 2\n",
      "currmax 17\n",
      "globalMaxIni 17\n",
      "end indexes 1\n",
      "currmax 18\n",
      "globalMaxIni 18\n",
      "end indexes 2\n",
      "currmax 15\n",
      "currmax 19\n",
      "globalMaxIni 19\n",
      "end indexes 4\n",
      "currmax 29\n",
      "globalMaxIni 29\n",
      "end indexes 5\n",
      "currmax 28\n",
      "currmax 30\n",
      "globalMaxIni 30\n",
      "end indexes 7\n",
      "currmax 31\n",
      "globalMaxIni 31\n",
      "end indexes 8\n",
      "currmax 26\n",
      "currmax 30\n",
      "start ** Index 8\n",
      "globalMax 30 - startIndex 8\n",
      "globalMax 28 - startIndex 7\n",
      "globalMax 29 - startIndex 6\n",
      "globalMax 19 - startIndex 5\n",
      "globalMax 15 - startIndex 4\n",
      "globalMax 18 - startIndex 3\n",
      "globalMax 17 - startIndex 2\n",
      "globalMax 2 - startIndex 1\n",
      "globalMax 0 - startIndex 0\n",
      "2 15 1 -3 4 10 -1 2 1 "
     ]
    }
   ],
   "source": [
    "max_subarray(arr)\n",
    "arr = [2, 15, 1, -3, 4, 10, -1, 2, 1, -5, 4]"
   ]
  },
  {
   "cell_type": "markdown",
   "id": "48e53288-f72e-46b6-8faa-44b2cac7f065",
   "metadata": {},
   "source": [
    "# Maximum Sum Circular Subarray\n",
    "\n",
    "Given a circular integer array, find a subarray with the largest sum in it.\n",
    "\n",
    "Input:  {2, 1, -5, 4, -3, 1, -3, 4, -1}\n",
    " \n",
    "Output: Subarray with the largest sum is {4, -1, 2, 1} with sum 6.\n",
    " \n",
    " \n",
    "Input:  {-3, 1, -3, 4, -1, 2, 1, -5, 4}\n",
    " \n",
    "Output: Subarray with the largest sum is {4, -1, 2, 1} with sum 6."
   ]
  },
  {
   "cell_type": "code",
   "execution_count": null,
   "id": "e48d4998-27b8-49c3-accb-bce4e8972992",
   "metadata": {},
   "outputs": [],
   "source": [
    "def maxCircularSum(a,n):\n",
    "    max_sum = 0 \n",
    "    curr_max = 0\n",
    "    sum_min = 0\n",
    "    curr_min = 0\n",
    "    sum = 0\n",
    "    \n",
    "    for i in range(n):\n",
    "        sum = sum+i\n",
    "        \n",
    "    \n",
    "    for i in range(1,n):\n",
    "        curr_max = max(curr_max+a[i],a[i])\n",
    "        max_sum = max(max_sum,curr_max)\n",
    "        \n",
    "        curr_min = min(curr_min+a[i],a[i])\n",
    "        sum_min = min(sum_min,curr_min)\n",
    "        \n",
    "    if sum_min == sum:\n",
    "        return max_sum\n",
    "    \n",
    "    return max(max_sum,sum-min_sum)\n",
    "        \n",
    "        "
   ]
  },
  {
   "cell_type": "code",
   "execution_count": 11,
   "id": "ac3e49ff-d9d8-44f1-bb98-752ae3f27d5a",
   "metadata": {},
   "outputs": [],
   "source": [
    "def maxCircularSum(a,n):\n",
    "    # Corner case\n",
    "    if (n==1):\n",
    "        return a[0]\n",
    "    \n",
    "    # Initialize sum variable which store total sum of the array\n",
    "    sum = 0\n",
    "    for i in range(n):\n",
    "        \n",
    "        sum = sum+a[i]\n",
    "        print(sum)\n",
    "        \n",
    "    # Inititalize every variable with first value of array\n",
    "    curr_max = a[0]\n",
    "    max_so_far = a[0]\n",
    "    curr_min = a[0]\n",
    "    min_so_far = a[0]\n",
    "    \n",
    "    # Using kadane's algorithm\n",
    "    for i in range(1,n):\n",
    "        # Kadane's algorithm to find maximum sum of array\n",
    "        curr_max = max(curr_max + a[i],a[i])\n",
    "        max_so_far = max(max_so_far,curr_max)\n",
    "        print('msf',max_so_far)\n",
    "        \n",
    "        # kadane's algorithm to find minimum sum of array\n",
    "        curr_min = min(curr_min + a[i],a[i])\n",
    "        min_so_far = min(min_so_far,curr_min)\n",
    "        print('min s',min_so_far)\n",
    "        \n",
    "    if min_so_far == sum: # it means all the values are negatinve,then we return max_so_far\n",
    "        return max_so_far\n",
    "    \n",
    "    return max(max_so_far,sum-min_so_far)\n",
    "    \n",
    "\n"
   ]
  },
  {
   "cell_type": "raw",
   "id": "db6071bd-5038-4a1a-894d-a603a948a398",
   "metadata": {},
   "source": [
    "{8, -8, 9, -9, 10, -11, 12},"
   ]
  },
  {
   "cell_type": "code",
   "execution_count": 12,
   "id": "a8431ced-1dc1-4139-886a-1be0408e7b93",
   "metadata": {},
   "outputs": [
    {
     "name": "stdout",
     "output_type": "stream",
     "text": [
      "8\n",
      "0\n",
      "9\n",
      "0\n",
      "10\n",
      "-1\n",
      "11\n",
      "msf 8\n",
      "min s -8\n",
      "msf 9\n",
      "min s -8\n",
      "msf 9\n",
      "min s -9\n",
      "msf 10\n",
      "min s -9\n",
      "msf 10\n",
      "min s -11\n",
      "msf 12\n",
      "min s -11\n",
      "Maximum circular sum is 22\n"
     ]
    }
   ],
   "source": [
    "a = [8, -8, 9, -9, 10, -11, 12]\n",
    "n = len(a)\n",
    "print(\"Maximum circular sum is\", maxCircularSum(a, n))"
   ]
  },
  {
   "cell_type": "markdown",
   "id": "572eb7d8-91a6-4f1d-8ca2-cedd912e7d38",
   "metadata": {},
   "source": [
    "## Find all distinct combinations of a given length – I\n",
    "\n",
    "Input:  {2, 3, 4}, k = 2\n",
    "Output: {2, 3}, {2, 4}, {3, 4}\n",
    " \n",
    " \n",
    "Input:  {1, 2, 1}, k = 2\n",
    "Output: {1, 2}, {1, 1}, {2, 1}"
   ]
  },
  {
   "cell_type": "code",
   "execution_count": null,
   "id": "0e5a68d9-1697-4b8d-abc5-cb267e23493c",
   "metadata": {},
   "outputs": [],
   "source": [
    "def printCombination(arr,n,r):\n",
    "    data = [0]*r;\n",
    "    print(data)\n",
    "    combinationUtil(arr,data,0,n-1,0,r)\n",
    "\n",
    "# arr[] ---> Input Array\n",
    "# data[] ---> Temporary array to\n",
    "#         store current combination\n",
    "# start & end ---> Starting and Ending\n",
    "#             indexes in arr[]\n",
    "# index ---> Current index in data[]\n",
    "# r ---> Size of a combination\n",
    "# to be printed\n",
    "def combinationUtil(arr,data,start,end,index,r):\n",
    "    if index == r:\n",
    "        for j in range(r):\n",
    "            print(data[j],end = \" \")\n",
    "        print()\n",
    "        return\n",
    "    "
   ]
  },
  {
   "cell_type": "code",
   "execution_count": null,
   "id": "4958472c-ff3e-4a1a-b0f6-6fd684aa5559",
   "metadata": {},
   "outputs": [],
   "source": [
    "arr = [1,2,3,4,5]\n",
    "r = 3\n",
    "n = len(array)\n"
   ]
  },
  {
   "cell_type": "markdown",
   "id": "9de1a22a-9ab1-485d-8ebf-c2059ba8f339",
   "metadata": {},
   "source": [
    "### Find the maximum sequence of continuous 1’s formed by replacing at-most `k` zeroes by ones\n",
    "Input: A[] = { 1, 1, 0, 1, 1, 0, 1, 1, 1, 1, 0, 0 }\n",
    " \n",
    " \n",
    "For k = 0,\n",
    "The length of the longest sequence is 4 (from index 6 to 9)\n",
    " \n",
    "For k = 1,\n",
    "The length of the longest sequence is 7 (from index 3 to 9)\n",
    " \n",
    "For k = 2,\n",
    "The length of the longest sequence is 10 (from index 0 to 9)\n",
    " \n",
    "For k = 3,\n",
    "The length of the longest sequence is 11 (from index 0 to 10)"
   ]
  },
  {
   "cell_type": "code",
   "execution_count": 37,
   "id": "e2cbe397-2c47-4ced-8823-05f53b7fe65a",
   "metadata": {},
   "outputs": [],
   "source": [
    "def longestSubSeg(a,n,k):\n",
    "    cnt = 0\n",
    "    l = 0\n",
    "    max_len = 0\n",
    "    \n",
    "    for i in range(0,n):\n",
    "        print(a[i])\n",
    "        if a[i] == 0:\n",
    "            cnt += 1\n",
    "            print(\"All zero counts\",cnt)\n",
    "        \n",
    "        # If there are more zero's move left point for current ending point.\n",
    "        while (cnt > k):\n",
    "            if a[l] == 0:\n",
    "                \n",
    "                cnt = cnt-1\n",
    "                print('cnt now',cnt)\n",
    "            l+=1\n",
    "            print(\"l after\",l)\n",
    "            \n",
    "        max_len = max(max_len,i-l+1);\n",
    "        \n",
    "    return max_len\n",
    "            \n"
   ]
  },
  {
   "cell_type": "code",
   "execution_count": 38,
   "id": "7e5ea86c-e40c-4888-83f7-212baa0002e3",
   "metadata": {},
   "outputs": [
    {
     "name": "stdout",
     "output_type": "stream",
     "text": [
      "1\n",
      "0\n",
      "All zero counts 1\n",
      "0\n",
      "All zero counts 2\n",
      "1\n",
      "0\n",
      "All zero counts 3\n",
      "l after 1\n",
      "cnt now 2\n",
      "l after 2\n",
      "1\n",
      "0\n",
      "All zero counts 3\n",
      "cnt now 2\n",
      "l after 3\n",
      "1\n",
      "5\n"
     ]
    }
   ],
   "source": [
    "a = [1, 0, 0, 1, 0, 1, 0, 1 ]\n",
    "# k = 2\n",
    "n = len(a)\n",
    "print(longestSubSeg(a, n, k))\n"
   ]
  },
  {
   "cell_type": "code",
   "execution_count": 10,
   "id": "343ec0f8-de9f-4f2e-be4c-1f5ecf848690",
   "metadata": {},
   "outputs": [],
   "source": [
    "def findLongestSequence(A,k):\n",
    "    left = 0 # represents the current window's starting index\n",
    "    count = 0 # stores the total number of zeros in the current window\n",
    "    window = 0 # Stores the maximum number of continous 1's found so far (including 'k' zeros)\n",
    "    \n",
    "    leftIndex = 0 # stores the left index of maximum window found so far\n",
    "    \n",
    "    # maintain a window '[left...right]' containing at most 'k' zeros\n",
    "    for right in range(len(A)):\n",
    "        # if the current element is 0, increase the count of zeros in the current window by 1\n",
    "        if A[right] == 0:\n",
    "            count = count + 1\n",
    "            \n",
    "        # the window becomes unstable if the total number of zeros in it becomes more than 'k'\n",
    "        while count > k:\n",
    "            # if we have found zero , decrement the number of zeros in the current window by 1\n",
    "            if A[left] == 0:\n",
    "                count = count - 1\n",
    "                \n",
    "            left = left + 1\n",
    "            \n",
    "            \n",
    "        # When we reach here, window '[left...right]' contains at most 'k' zeros and we update max window\n",
    "        #size and left most index of the window\n",
    "        \n",
    "        if right - left + 1 > window:\n",
    "            window = right-left + 1\n",
    "            leftindex = left\n",
    "            \n",
    "    \n",
    "    # no sequence found \n",
    "    if window == 0:\n",
    "        return\n",
    "    \n",
    "    # print the maximum sequence of continous 1's\n",
    "    print(leftindex,leftindex + window - 1)\n",
    "            \n",
    "            \n",
    "    \n",
    "    "
   ]
  },
  {
   "cell_type": "code",
   "execution_count": 11,
   "id": "ace18d19-8c86-43c7-b634-b1679d1e3aa3",
   "metadata": {},
   "outputs": [
    {
     "name": "stdout",
     "output_type": "stream",
     "text": [
      "0 9\n"
     ]
    }
   ],
   "source": [
    "A = [1, 1, 0, 1, 1, 0, 1, 1, 1, 1, 0, 0]\n",
    "k = 2\n",
    "findLongestSequence(A,k)"
   ]
  },
  {
   "cell_type": "code",
   "execution_count": 12,
   "id": "4808dc7b-e93d-4ba9-8713-627cae2fb16d",
   "metadata": {},
   "outputs": [],
   "source": [
    "def consecutiveNumber(A,k):\n",
    "    left = 0\n",
    "    window = 0\n",
    "    count = 0\n",
    "    leftIndex = 0\n",
    "    \n",
    "    for right in range(len(A)):\n",
    "        if A[right]==0:\n",
    "            count = count + 1\n",
    "        \n",
    "        while count > k:\n",
    "            if A[left]==0:\n",
    "                count = count - 1\n",
    "            left = left + 1\n",
    "            \n",
    "        if right - left + 1 > window:\n",
    "            window = right - left + 1\n",
    "            leftindex = left\n",
    "        \n",
    "    if window == 0:\n",
    "        return\n",
    "    \n",
    "    print(leftindex,leftindex + window -1)\n",
    "            "
   ]
  },
  {
   "cell_type": "code",
   "execution_count": 19,
   "id": "19ebdfc0-4f04-4700-911d-b9b3e81d4ad7",
   "metadata": {},
   "outputs": [
    {
     "name": "stdout",
     "output_type": "stream",
     "text": [
      "3 9\n"
     ]
    }
   ],
   "source": [
    "A = [1, 1, 0, 1, 1, 0, 1, 1, 1, 1, 0,1, 0,1]\n",
    "k = 1\n",
    "consecutiveNumber(A,k)"
   ]
  },
  {
   "cell_type": "markdown",
   "id": "83dc4be5-ae35-462d-aa01-8199f798d9b3",
   "metadata": {},
   "source": [
    "## Find minimum sum subarray of size `k`\n"
   ]
  },
  {
   "cell_type": "raw",
   "id": "3b493d7d-d1c9-481d-9b34-8b1ead6cf300",
   "metadata": {},
   "source": [
    "input:  {10, 4, 2, 5, 6, 3, 8, 1}, k = 3\n",
    " \n",
    "Output: Minimum sum subarray of size 3 is (1, 3)"
   ]
  },
  {
   "cell_type": "code",
   "execution_count": 1,
   "id": "20f4dac8-e8f8-45d0-b2bb-3df4e9361ff3",
   "metadata": {},
   "outputs": [],
   "source": [
    "def findSublist(A,k):\n",
    "    sum = 0\n",
    "    for i in len(A):\n",
    "        sum = sum+i\n",
    "    # Store the sum of eleemnts in the current window\n",
    "    window_sum = 0\n",
    "    \n",
    "    # stire the sum of min subkist fund so far\n",
    "    min_window = sys.maxsize\n",
    "    \n",
    "    # store the ending index of the minimum sublist found so dar\n",
    "    last =0\n",
    "    \n",
    "    for i in range(len(A)):\n",
    "        window_sum += A[i]\n",
    "        \n",
    "        if i+1 >= k:\n",
    "            # Update the minimum sum window\n",
    "            if min_window > window_sum:\n",
    "                min_window = window_sum\n",
    "                last = i\n",
    "                \n",
    "            window_sum = window_sum-A[i+1-k]"
   ]
  },
  {
   "cell_type": "markdown",
   "id": "a580bfc5-986a-4ecc-8402-d8e46b132069",
   "metadata": {},
   "source": [
    "### Maximum Product Subarray Problem\n",
    "\n",
    "Given an integer array, find the subarray that has the maximum product of its elements. The solution should return the maximum product of elements among all possible subarrays."
   ]
  },
  {
   "cell_type": "raw",
   "id": "f90c60e5-4fac-4cc0-bbd7-bebd2d563882",
   "metadata": {},
   "source": [
    "Input:  { -6, 4, -5, 8, -10, 0, 8 }\n",
    "Output: 1600\n",
    "Explanation: The maximum product subarray is {4, -5, 8, -10} having product 1600\n",
    " \n",
    " \n",
    "Input:  { 40, 0, -20, -10 }\n",
    "Output: 200\n",
    "Explanation: The maximum product subarray is {-20, -10} having product 200"
   ]
  },
  {
   "cell_type": "code",
   "execution_count": 19,
   "id": "f9fd0da8-6fc4-4102-8462-eac1532aa7d1",
   "metadata": {},
   "outputs": [],
   "source": [
    "def findMaxProduct(A):\n",
    "    # base case\n",
    "    if not len(A):\n",
    "        return 0\n",
    "    \n",
    "    # maintain two variables to store the maximum and minimum product\n",
    "    # ending at the current index\n",
    "    \n",
    "    max_ending = min_ending = A[0]\n",
    "    \n",
    "    # curr_max = A[0]\n",
    "    # curr_min = A[0]\n",
    "    # to store the maximum product sublist found so far\n",
    "    max_so_far = A[0]\n",
    "    \n",
    "    # traverse the given lis\n",
    "    for i in range(1,len(A)):\n",
    "        temp = max_ending\n",
    "        print('temp',temp)\n",
    "        # Update the maximum product ending at the current index\n",
    "        curr_max = max(A[i]*max_ending,A[i]*min_ending)\n",
    "        print('curr_max',curr_max)\n",
    "        max_ending = max(A[i],curr_max)\n",
    "        print('max_ending',max_ending)\n",
    "        curr_min = min(A[i]*temp,A[i] * min_ending)\n",
    "        print('curr_min',curr_min)\n",
    "        min_ending = min(A[i],curr_min)\n",
    "        print('min_ending',min_ending)\n",
    "        max_so_far = (max(max_ending,max_so_far))\n",
    "    return max_so_far"
   ]
  },
  {
   "cell_type": "code",
   "execution_count": 20,
   "id": "698e900c-0ca4-4895-b3d8-0e53ac09562d",
   "metadata": {},
   "outputs": [
    {
     "name": "stdout",
     "output_type": "stream",
     "text": [
      "temp -6\n",
      "curr_max -24\n",
      "max_ending 4\n",
      "curr_min -24\n",
      "min_ending -24\n",
      "temp 4\n",
      "curr_max 120\n",
      "max_ending 120\n",
      "curr_min -20\n",
      "min_ending -20\n",
      "temp 120\n",
      "curr_max 960\n",
      "max_ending 960\n",
      "curr_min -160\n",
      "min_ending -160\n",
      "temp 960\n",
      "curr_max 1600\n",
      "max_ending 1600\n",
      "curr_min -9600\n",
      "min_ending -9600\n",
      "temp 1600\n",
      "curr_max 0\n",
      "max_ending 0\n",
      "curr_min 0\n",
      "min_ending 0\n",
      "temp 0\n",
      "curr_max 0\n",
      "max_ending 8\n",
      "curr_min 0\n",
      "min_ending 0\n"
     ]
    },
    {
     "data": {
      "text/plain": [
       "1600"
      ]
     },
     "execution_count": 20,
     "metadata": {},
     "output_type": "execute_result"
    }
   ],
   "source": [
    "findMaxProduct([-6, 4, -5, 8, -10, 0, 8])"
   ]
  },
  {
   "cell_type": "code",
   "execution_count": 28,
   "id": "99b29ce0-2e0e-4116-af47-f463bc042f32",
   "metadata": {},
   "outputs": [],
   "source": [
    "def findMaxProduct(A):\n",
    "    if len(A)==0:\n",
    "        return 0\n",
    "    if len(A)==1:\n",
    "        return A[0]\n",
    "    \n",
    "    max_len=min_len=A[0]\n",
    "    max_so_far = A[0]\n",
    "    for i in range(1,len(A)):\n",
    "        temp = max_len\n",
    "        \n",
    "        curr_max = max(A[i]*max_len,A[i]*min_len)\n",
    "        max_len = max(A[i],curr_max)\n",
    "        curr_min = min(A[i]*max_len,A[i]*min_len)\n",
    "        min_len = min(curr_min,A[i])\n",
    "        \n",
    "        max_so_far = max(max_len,max_so_far)\n",
    "        \n",
    "    return max_so_far"
   ]
  },
  {
   "cell_type": "code",
   "execution_count": 29,
   "id": "ae42050f-70b5-4463-b037-dd223b5d7867",
   "metadata": {},
   "outputs": [
    {
     "data": {
      "text/plain": [
       "200"
      ]
     },
     "execution_count": 29,
     "metadata": {},
     "output_type": "execute_result"
    }
   ],
   "source": [
    "findMaxProduct([40, 0, -20, -10])"
   ]
  },
  {
   "cell_type": "markdown",
   "id": "1385b100-962e-418b-818d-4e3948e76300",
   "metadata": {},
   "source": [
    "## Find a subarray having the given sum in an integer array\n",
    "Given an integer array, find a subarray having a given sum in it.\n",
    "\n",
    "Input:  nums[] = {2, 6, 0, 9, 7, 3, 1, 4, 1, 10}, target = 15\n",
    "Output: {6, 0, 9}\n",
    " \n",
    " \n",
    "Input:  nums[] = {0, 5, -7, 1, -4, 7, 6, 1, 4, 1, 10}, target = 15\n",
    "Output: {1, -4, 7, 6, 1, 4} or {4, 1, 10}\n",
    " \n",
    " \n",
    "Input:  nums[] = {0, 5, -7, 1, -4, 7, 6, 1, 4, 1, 10}, target = -3\n",
    "Output: {1, -4} or {-7, 1, -4, 7}\n"
   ]
  },
  {
   "cell_type": "code",
   "execution_count": 52,
   "id": "e5e392f1-9707-426e-88ac-b2ff04abd6ea",
   "metadata": {},
   "outputs": [],
   "source": [
    "def sum_subarray(nums,target):\n",
    "    windowsum = 0\n",
    "    \n",
    "    low = 0\n",
    "    high = 0\n",
    "    \n",
    "    # Consider every sublist starting from 'low' index\n",
    "    \n",
    "    for low in range(len(nums)):\n",
    "        # If the current window's sum is less than the given sum,\n",
    "        # then add elements to the current window from the right.\n",
    "        while windowsum < target and high < len(nums):\n",
    "            windowsum = windowsum+nums[high]\n",
    "            print('window sum',windowsum)\n",
    "            high = high + 1\n",
    "            print('hih',high)\n",
    "            \n",
    "        # If the current window's sum is equal to the given sum\n",
    "        if windowsum == target:\n",
    "            print('Sub list found',(low,high-1))\n",
    "            return \n",
    "        print(nums[low])\n",
    "        windowsum = windowsum-nums[low]\n",
    "        # print('windowsum afete',windowsum)\n",
    "        \n",
    "            "
   ]
  },
  {
   "cell_type": "code",
   "execution_count": 55,
   "id": "18f06509-1668-46ac-9943-ebb1b4406217",
   "metadata": {},
   "outputs": [
    {
     "name": "stdout",
     "output_type": "stream",
     "text": [
      "window sum 2\n",
      "hih 1\n",
      "window sum 8\n",
      "hih 2\n",
      "window sum 8\n",
      "hih 3\n",
      "window sum 17\n",
      "hih 4\n",
      "2\n",
      "6\n",
      "window sum 16\n",
      "hih 5\n",
      "0\n",
      "9\n",
      "window sum 10\n",
      "hih 6\n",
      "window sum 11\n",
      "hih 7\n",
      "Sub list found (4, 6)\n"
     ]
    }
   ],
   "source": [
    "nums = [2, 6, 0, 9, 7, 3, 1, 4, 1, 10]\n",
    "target= 11\n",
    "sum_subarray(nums,target)"
   ]
  },
  {
   "cell_type": "code",
   "execution_count": 10,
   "id": "f2b7c82e-b4cb-4a94-90ae-a80bf3666dd0",
   "metadata": {},
   "outputs": [],
   "source": [
    "def smallestSubWithSum(arr,x):\n",
    "    # Inititialize the current sum and minimum length\n",
    "    curr_sum = 0\n",
    "    n = len(arr)\n",
    "    min_len = n+1\n",
    "    \n",
    "    # Inititalize starting and ending indexes\n",
    "    start = 0\n",
    "    end = 0\n",
    "    \n",
    "    while (end < n):\n",
    "        # Keep adding array elements while current sum is small than or equal to x\n",
    "        while (curr_sum <= x and end <n):\n",
    "            curr_sum += arr[end]\n",
    "            end += 1\n",
    "            print(\"end value is\",end)\n",
    "            \n",
    "        # If current sum becomes greater than x.\n",
    "        \n",
    "        while (curr_sum > x and start <n):\n",
    "            \n",
    "            print(\"end-start\",end-start)\n",
    "            print(min_len)\n",
    "            # Update minimum length if needed\n",
    "            if (end-start < min_len):\n",
    "                min_len = end-start\n",
    "                print('min_len',min_len)\n",
    "                start += 1\n",
    "                \n",
    "                \n",
    "            curr_sum -= arr[start]\n",
    "            start +=1\n",
    "            \n",
    "        return min_len\n",
    "                \n",
    "                "
   ]
  },
  {
   "cell_type": "code",
   "execution_count": 15,
   "id": "7af8605d-1721-4bfc-8201-c54ae559bdb6",
   "metadata": {},
   "outputs": [],
   "source": [
    "arr1 = [1, 4, 45, 6, 10, 19,20,20,40]\n",
    "x = 90"
   ]
  },
  {
   "cell_type": "code",
   "execution_count": 16,
   "id": "dacf8c2d-abe8-4d57-9aff-2cb933d9edee",
   "metadata": {
    "scrolled": true,
    "tags": []
   },
   "outputs": [
    {
     "name": "stdout",
     "output_type": "stream",
     "text": [
      "end value is 1\n",
      "end value is 2\n",
      "end value is 3\n",
      "end value is 4\n",
      "end value is 5\n",
      "end value is 6\n",
      "end value is 7\n",
      "end-start 7\n",
      "10\n",
      "min_len 7\n",
      "end-start 5\n",
      "7\n",
      "min_len 5\n",
      "end-start 3\n",
      "5\n",
      "min_len 3\n"
     ]
    },
    {
     "data": {
      "text/plain": [
       "3"
      ]
     },
     "execution_count": 16,
     "metadata": {},
     "output_type": "execute_result"
    }
   ],
   "source": [
    "smallestSubWithSum(arr1,x)"
   ]
  },
  {
   "cell_type": "code",
   "execution_count": 12,
   "id": "4ef287ea-2f91-4e96-8475-0c379ffd5509",
   "metadata": {},
   "outputs": [
    {
     "name": "stdout",
     "output_type": "stream",
     "text": [
      "2\n"
     ]
    }
   ],
   "source": []
  },
  {
   "cell_type": "code",
   "execution_count": null,
   "id": "19bf7c62-b8fb-4f94-861f-06c577581b9a",
   "metadata": {},
   "outputs": [],
   "source": []
  }
 ],
 "metadata": {
  "kernelspec": {
   "display_name": "Python 3 (ipykernel)",
   "language": "python",
   "name": "python3"
  },
  "language_info": {
   "codemirror_mode": {
    "name": "ipython",
    "version": 3
   },
   "file_extension": ".py",
   "mimetype": "text/x-python",
   "name": "python",
   "nbconvert_exporter": "python",
   "pygments_lexer": "ipython3",
   "version": "3.9.12"
  }
 },
 "nbformat": 4,
 "nbformat_minor": 5
}
