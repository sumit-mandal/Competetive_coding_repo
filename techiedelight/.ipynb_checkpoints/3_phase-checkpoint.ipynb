{
 "cells": [
  {
   "cell_type": "markdown",
   "id": "7d92a06c-5bfc-4794-8803-e38572621667",
   "metadata": {},
   "source": [
    "#### Shuffle an array using Fisher–Yates shuffle algorithm\n",
    "Given an integer array, in-place shuffle it. The algorithm should produce an unbiased permutation, i.e., every permutation is equally likely."
   ]
  },
  {
   "cell_type": "raw",
   "id": "a8010ae6-e724-46e6-957e-4cc999971f55",
   "metadata": {},
   "source": [
    "Fisher–Yates shuffle is an algorithm to generate random permutations. It takes time proportional to the total number of items being shuffled and shuffles them in place. The algorithm swaps the element at each iteration at random among all remaining unvisited indices, including the element itself.\n",
    "\n",
    "Here’s the complete algorithm:\n",
    "\n",
    "— To shuffle an array ‘a’ of ‘n’ elements:\n",
    "for i from n-1 down to 1 do\n",
    "    j = random integer such that 0 <= j <= i\n",
    "    exchange a[j] and a[i]\n"
   ]
  },
  {
   "cell_type": "code",
   "execution_count": 43,
   "id": "7c5ddb2f-7ff3-4baf-963d-8f21235e4427",
   "metadata": {},
   "outputs": [],
   "source": [
    "import random\n",
    "arr = [1,2,3,4,5,6]\n",
    "n = len(arr)\n",
    "def random_num(arr,n):\n",
    "    for i in range(n-1,0,-1):\n",
    "        # print('i',arr[i])\n",
    "        # print(arr[i])\n",
    "    \n",
    "        j = random.randint(0,i+1)\n",
    "        # print(j)\n",
    "        # print('i',arr[i])\n",
    "        print('j',arr[j])\n",
    "        arr[i],arr[j] = arr[j],arr[i]\n",
    "        # arr[j] = arr[i]\n",
    "        \n",
    "    return arr"
   ]
  },
  {
   "cell_type": "code",
   "execution_count": 44,
   "id": "7ca9ad41-d8b8-4f5d-bd11-3b47aad7a111",
   "metadata": {},
   "outputs": [
    {
     "name": "stdout",
     "output_type": "stream",
     "text": [
      "j 2\n",
      "j 3\n",
      "j 3\n",
      "j 6\n",
      "j 1\n"
     ]
    },
    {
     "data": {
      "text/plain": [
       "[5, 1, 6, 3, 4, 2]"
      ]
     },
     "execution_count": 44,
     "metadata": {},
     "output_type": "execute_result"
    }
   ],
   "source": [
    "random_num(arr,n)"
   ]
  },
  {
   "cell_type": "markdown",
   "id": "6d44ea62-3d67-4ef8-a1d4-0de19ae51c6d",
   "metadata": {},
   "source": [
    "### Rearrange an array with alternate high and low elements\n",
    "Given an integer array, rearrange it such that every second element becomes greater than its left and right elements. Assume no duplicate elements are present in the array.\n",
    "\n",
    "Input:  {1, 2, 3, 4, 5, 6, 7}\n",
    "Output: {1, 3, 2, 5, 4, 7, 6}\n",
    " \n",
    "Input:  {9, 6, 8, 3, 7}\n",
    "Output: {6, 9, 3, 8, 7}\n",
    " \n",
    "Input:  {6, 9, 2, 5, 1, 4}\n",
    "Output: {6, 9, 2, 5, 1, 4}"
   ]
  },
  {
   "cell_type": "code",
   "execution_count": 13,
   "id": "61f73a3c-ebef-41cf-8d2a-7a8e9e4321b8",
   "metadata": {},
   "outputs": [],
   "source": [
    "arr = [9, 6, 8, 3, 7,10]\n",
    "n = len(arr)\n",
    "def rearrange(arr,n):\n",
    "    \n",
    "    arr.sort()\n",
    "    # Auxilary array to hold modified array.\n",
    "    temp = n*[None]\n",
    "    \n",
    "    small,large = 0,n-1\n",
    "    \n",
    "    flag = True\n",
    "    for i in range(n):\n",
    "        if flag is True:\n",
    "            temp[i] = arr[large]\n",
    "            large -=1\n",
    "        else :\n",
    "            temp[i] = arr[small]\n",
    "            small +=1\n",
    "            \n",
    "        flag = bool(1-flag)\n",
    "    return temp\n",
    "\n",
    "\n",
    "        "
   ]
  },
  {
   "cell_type": "code",
   "execution_count": 14,
   "id": "fb1a38a6-2256-4718-a61e-a5f97c7fa55a",
   "metadata": {},
   "outputs": [
    {
     "data": {
      "text/plain": [
       "[10, 3, 9, 6, 8, 7]"
      ]
     },
     "execution_count": 14,
     "metadata": {},
     "output_type": "execute_result"
    }
   ],
   "source": [
    "rearrange(arr,n)"
   ]
  },
  {
   "cell_type": "code",
   "execution_count": 4,
   "id": "0b9326d6-fa0c-4a2c-b5f5-39061b0c9694",
   "metadata": {},
   "outputs": [],
   "source": [
    "arr = [9, 6, 8, 3, 7,10]\n",
    "n = len(arr)\n",
    "def rearrange(arr,n):\n",
    "    temp = n*[None]\n",
    "    \n",
    "    small = 0\n",
    "    large = n-1\n",
    "    \n",
    "    flag = True\n",
    "    for i in range(n):\n",
    "        if flag is True:\n",
    "            temp[i] = arr[large]\n",
    "            large -= 1\n",
    "        else:\n",
    "            temp[i] = arr[small]\n",
    "            small += 1\n",
    "            \n",
    "        flag = bool(1-flag)\n",
    "    return temp"
   ]
  },
  {
   "cell_type": "code",
   "execution_count": 5,
   "id": "10fcad15-9dcf-412c-9c53-47ceb27a05c3",
   "metadata": {},
   "outputs": [
    {
     "data": {
      "text/plain": [
       "[10, 9, 7, 6, 3, 8]"
      ]
     },
     "execution_count": 5,
     "metadata": {},
     "output_type": "execute_result"
    }
   ],
   "source": [
    "rearrange(arr,n)"
   ]
  },
  {
   "cell_type": "code",
   "execution_count": 73,
   "id": "2275ba17-a7b0-44e9-8d6c-ff54d7c25e94",
   "metadata": {},
   "outputs": [],
   "source": [
    "def equilibirium(arr,n):\n",
    "    # leftsum = 0\n",
    "    # rightsum = 0\n",
    "    \n",
    "    for i in range(n):\n",
    "        \n",
    "        \n",
    "        leftsum = 0\n",
    "        rightsum = 0\n",
    "        \n",
    "        \n",
    "        \n",
    "        # get left sum\n",
    "        for j in range(i):\n",
    "            leftsum += arr[j]\n",
    "            print(leftsum)\n",
    "        # get right sum\n",
    "        for j in range(i+1,n):\n",
    "            rightsum += arr[j]\n",
    "            print('right',rightsum)\n",
    "        \n",
    "        if leftsum == rightsum:\n",
    "            return i\n",
    "        \n",
    "    return -1\n",
    "        "
   ]
  },
  {
   "cell_type": "code",
   "execution_count": 74,
   "id": "7b4bf939-4733-461a-8681-96ce1f2a2d40",
   "metadata": {},
   "outputs": [
    {
     "name": "stdout",
     "output_type": "stream",
     "text": [
      "right 1\n",
      "right 6\n",
      "right 8\n",
      "right 4\n",
      "right 7\n",
      "right 7\n",
      "-7\n",
      "right 5\n",
      "right 7\n",
      "right 3\n",
      "right 6\n",
      "right 6\n",
      "-7\n",
      "-6\n",
      "right 2\n",
      "right -2\n",
      "right 1\n",
      "right 1\n",
      "-7\n",
      "-6\n",
      "-1\n",
      "right -4\n",
      "right -1\n",
      "right -1\n"
     ]
    },
    {
     "data": {
      "text/plain": [
       "3"
      ]
     },
     "execution_count": 74,
     "metadata": {},
     "output_type": "execute_result"
    }
   ],
   "source": [
    "arr = [-7, 1, 5, 2, -4, 3, 0]\n",
    "n=len(arr)\n",
    "equilibirium(arr,n)"
   ]
  },
  {
   "cell_type": "markdown",
   "id": "7495152f-5ee8-49e5-8084-232b019f1ba4",
   "metadata": {},
   "source": [
    "### Find equilibrium index of an array\n",
    "To illustrate, consider the array {0, -3, 5, -4, -2, 3, 1, 0}. The equilibrium index is found at index 0, 3, and 7.\n",
    "check above"
   ]
  },
  {
   "cell_type": "markdown",
   "id": "c22be7cb-8322-441c-a9e4-601815d77dd0",
   "metadata": {},
   "source": [
    "### Find the largest subarray formed by consecutive integers\n",
    "Given an integer array, find the largest subarray formed by consecutive integers. The subarray should contain all distinct values."
   ]
  },
  {
   "cell_type": "raw",
   "id": "8350a773-89b4-4b58-ba9a-955947d6a9c8",
   "metadata": {},
   "source": [
    "Input:  { 2, 0, 2, 1, 4, 3, 1, 0 }\n",
    " \n",
    "Output: The largest subarray is { 0, 2, 1, 4, 3 }"
   ]
  },
  {
   "cell_type": "code",
   "execution_count": 13,
   "id": "9a9a04a6-ce79-4514-a235-c4dacee303a8",
   "metadata": {},
   "outputs": [],
   "source": [
    "def isConsecutive(A,i,j,min,max):\n",
    "    # for a list to contain consecutive integers, the difference\n",
    "    # between the maximum and minimum element in it should be exactly `j-i`\n",
    "    \n",
    "    if max-min != j-i:\n",
    "        return False\n",
    "    \n",
    "    # Create a visited list \n",
    "    visited = [False]*(i,j +1)\n",
    "        \n",
    "    # traverse the sublist and check if element appears\n",
    "    for k in range(i,j+1):\n",
    "        \n",
    "        # if the element is seen before,return False\n",
    "        if visited[A[k]-min]:\n",
    "            return False\n",
    "        # mark the element as seen\n",
    "        visited[A[k]-min] = True\n",
    "        \n",
    "    # we reach here when all elements are distinct\n",
    "    return True\n",
    "\n",
    "# Find the largest sublist formed by consecutive integers\n",
    "def findMaxSublist(A):\n",
    " \n",
    "    length = 1\n",
    "    start = end = 0\n",
    " \n",
    "    # consider each sublist formed by `A[i…j]`\n",
    " \n",
    "    # `i` denotes the beginning of the sublist\n",
    "    for i in range(len(A) - 1):\n",
    " \n",
    "        # stores the minimum and maximum element formed by `A[i…j]`\n",
    "        min_val = A[i]\n",
    "        max_val = A[i]\n",
    " \n",
    "        # `j` denotes the end of the sublist\n",
    "        for j in range(i + 1, len(A)):\n",
    "            # update the minimum and maximum elements of the sublist\n",
    "            min_val = min(min_val, A[j])\n",
    "            max_val = max(max_val, A[j])\n",
    " \n",
    "            # check if `A[i…j]`is formed by consecutive integers\n",
    "            if isConsecutive(A, i, j, min_val, max_val):\n",
    "                if length < max_val - min_val + 1:\n",
    "                    length = max_val - min_val + 1\n",
    "                    start = i\n",
    "                    end = j\n",
    " \n",
    "    # print the maximum length sublist\n",
    "    print(\"The largest sublist is\", (start, end))\n",
    "\n",
    "    "
   ]
  },
  {
   "cell_type": "code",
   "execution_count": 15,
   "id": "e65aaa27-6695-4ed8-884e-3874b8f546b9",
   "metadata": {},
   "outputs": [
    {
     "name": "stdout",
     "output_type": "stream",
     "text": [
      "Length of the longest contiguous subarray is  1\n"
     ]
    }
   ],
   "source": [
    "def min(x,y):\n",
    "    return x if (x<y) else y\n",
    "def max(x,y):\n",
    "    return x if (x>y) else y\n",
    "\n",
    "\n",
    "def findLength(arr,n):\n",
    "    \n",
    "    # initialize result\n",
    "    max_len = 1\n",
    "    \n",
    "    for i in range(n-1):\n",
    "        \n",
    "        # Initialize min and max for all subarrays\n",
    "        # starting with i\n",
    "        \n",
    "        mn = arr[i]\n",
    "        mx = arr[i]\n",
    "        \n",
    "        # consider all subarrays starting with i and ending with j\n",
    "        \n",
    "        for j in range(i + 1 , n):\n",
    "            \n",
    "            # update min and max in this subarray if needed\n",
    "            mn = min(mn,arr[j])\n",
    "            mx = max(mx,arr[j])\n",
    "            \n",
    "            # If current subarray has all contigious elements\n",
    "            if ((mx-mn) == j-i):\n",
    "                max_len = max(max_len,mx-mn+1)\n",
    "                \n",
    "        return max_len\n",
    "    \n",
    "    \n",
    "    \n",
    "arr = [1,56,58,57,90,92,94,93,91,45]\n",
    "n = len(arr)\n",
    "print(\"Length of the longest contiguous subarray is \",\n",
    "                                    findLength(arr, n))"
   ]
  },
  {
   "cell_type": "markdown",
   "id": "ea7d0b0f-792b-4f58-96de-dbccfd3bae74",
   "metadata": {},
   "source": [
    "### Find majority element (Boyer–Moore Majority Vote Algorithm)"
   ]
  },
  {
   "cell_type": "raw",
   "id": "ffe28075-c373-4dbd-a2f5-ac84a4fd3117",
   "metadata": {},
   "source": [
    "Given an integer array containing duplicates, return the majority element if present. A majority element appears more than n/2 times, where n is the array size.\n",
    "\n",
    "For example, the majority element is 2 in array {2, 8, 7, 2, 2, 5, 2, 3, 1, 2, 2}."
   ]
  },
  {
   "cell_type": "code",
   "execution_count": 40,
   "id": "e3457696-7969-45a8-b7a7-5a59eaf31471",
   "metadata": {},
   "outputs": [],
   "source": [
    "def findMajorityElement(nums):\n",
    "    \n",
    "    # Create an empty 'HashMap'\n",
    "    \n",
    "    d = {}\n",
    "    \n",
    "    # store each element's frequency in dictionary\n",
    "    for i in nums:\n",
    "        # get will give key and value\n",
    "        d[i] = d.get(i,0) + 1\n",
    "        \n",
    "    # return the elements if its count is more than 'n/2'\n",
    "    for key,value in d.items():\n",
    "        if value > len(nums) / 2:\n",
    "            print(key)\n",
    "            return key\n",
    "        \n",
    "    return -1\n",
    "            \n",
    "    \n",
    "        "
   ]
  },
  {
   "cell_type": "code",
   "execution_count": 41,
   "id": "d3697089-7f5c-4896-a04e-97188dce4fdb",
   "metadata": {},
   "outputs": [
    {
     "data": {
      "text/plain": [
       "-1"
      ]
     },
     "execution_count": 41,
     "metadata": {},
     "output_type": "execute_result"
    }
   ],
   "source": [
    "findMajorityElement([9,9,9,5,7,3,8,3,2,7,8,8])"
   ]
  },
  {
   "cell_type": "markdown",
   "id": "202cd8e5-93e7-4647-a2e5-6692e96b4e31",
   "metadata": {},
   "source": [
    "#### Move all zeros present in an array to the end\n",
    "Given an integer array, move all zeros present in it to the end. The solution should maintain the relative order of items in the array and should not use constant space.Move all zeros present in an array to the end\n",
    "Given an integer array, move all zeros present in it to the end. The solution should maintain the relative order of items in the array and should not use constant space."
   ]
  },
  {
   "cell_type": "raw",
   "id": "041aaf5f-fc63-4f1a-821b-ddb121eef743",
   "metadata": {},
   "source": [
    "Input:  { 6, 0, 8, 2, 3, 0, 4, 0, 1 }\n",
    " \n",
    "Output: { 6, 8, 2, 3, 4, 1, 0, 0, 0 }"
   ]
  },
  {
   "cell_type": "code",
   "execution_count": 7,
   "id": "649b3a72-897c-413c-a6cd-886ecf2d8832",
   "metadata": {},
   "outputs": [],
   "source": [
    "def recorder(A):\n",
    "    # k stores the index of the next available position\n",
    "    k = 0\n",
    "    \n",
    "    # do for each elemnt\n",
    "    for i in A:\n",
    "        # if the current element is non-zero, put the element at the\n",
    "        # next free position in the list\n",
    "        if i >0:\n",
    "            \n",
    "            A[k] = i\n",
    "            k = k + 1\n",
    "            \n",
    "            \n",
    "    # MOVE ALL zero at the end of the list\n",
    "    for i in range(k,len(A)):\n",
    "        A[i] = 0\n",
    "        \n",
    "    \n",
    "            \n",
    "    \n",
    "    "
   ]
  },
  {
   "cell_type": "code",
   "execution_count": 10,
   "id": "dd2a5e8a-3e1b-4a00-9cca-37426f6ea913",
   "metadata": {},
   "outputs": [
    {
     "name": "stdout",
     "output_type": "stream",
     "text": [
      "[1, 0, 2, 3, 4, 10, 0, 3, 40, 10, 0, 0, 20, 0, 21]\n",
      "[1, 2, 2, 3, 4, 10, 0, 3, 40, 10, 0, 0, 20, 0, 21]\n",
      "[1, 2, 3, 3, 4, 10, 0, 3, 40, 10, 0, 0, 20, 0, 21]\n",
      "[1, 2, 3, 4, 4, 10, 0, 3, 40, 10, 0, 0, 20, 0, 21]\n",
      "[1, 2, 3, 4, 10, 10, 0, 3, 40, 10, 0, 0, 20, 0, 21]\n",
      "[1, 2, 3, 4, 10, 3, 0, 3, 40, 10, 0, 0, 20, 0, 21]\n",
      "[1, 2, 3, 4, 10, 3, 40, 3, 40, 10, 0, 0, 20, 0, 21]\n",
      "[1, 2, 3, 4, 10, 3, 40, 10, 40, 10, 0, 0, 20, 0, 21]\n",
      "[1, 2, 3, 4, 10, 3, 40, 10, 20, 10, 0, 0, 20, 0, 21]\n",
      "[1, 2, 3, 4, 10, 3, 40, 10, 20, 21, 0, 0, 20, 0, 21]\n"
     ]
    }
   ],
   "source": [
    "recorder([1,0,2,3,4,10,0,3,40,10,0,0,20,0,21])"
   ]
  },
  {
   "cell_type": "code",
   "execution_count": 11,
   "id": "820ae952-0c2f-4a65-9025-8dc208318ce4",
   "metadata": {},
   "outputs": [],
   "source": [
    "def recorder(A):\n",
    "    k = 0\n",
    "    for i in A:\n",
    "        if i > 0:\n",
    "            \n",
    "            A[k] = i\n",
    "            k = k+1\n",
    "    for i in range(k,len(A)):\n",
    "        A[i] = 0\n",
    "        "
   ]
  },
  {
   "cell_type": "code",
   "execution_count": 12,
   "id": "7d7deec2-4cb9-471f-b803-94e67cc143af",
   "metadata": {},
   "outputs": [],
   "source": [
    "A = [1,2,3,4,5,6]\n"
   ]
  },
  {
   "cell_type": "code",
   "execution_count": null,
   "id": "bdb243c9-83f7-46ad-b5ae-78bd472d5cf2",
   "metadata": {},
   "outputs": [],
   "source": []
  },
  {
   "cell_type": "code",
   "execution_count": null,
   "id": "85094fd3-de1f-42a6-aeed-ead724af8c16",
   "metadata": {},
   "outputs": [],
   "source": []
  },
  {
   "cell_type": "code",
   "execution_count": null,
   "id": "4e3891d9-e5ef-4c74-8b31-79e2e12265f2",
   "metadata": {},
   "outputs": [],
   "source": []
  },
  {
   "cell_type": "code",
   "execution_count": null,
   "id": "f3799569-e245-4f1f-8ec1-062c2ab0a054",
   "metadata": {},
   "outputs": [],
   "source": []
  },
  {
   "cell_type": "code",
   "execution_count": null,
   "id": "51f8a5e3-18c2-48be-9dee-d85f7fb6fb4c",
   "metadata": {},
   "outputs": [],
   "source": []
  },
  {
   "cell_type": "code",
   "execution_count": null,
   "id": "f7365aed-ec0f-4cb4-943f-bf7fd7cbed37",
   "metadata": {},
   "outputs": [],
   "source": []
  },
  {
   "cell_type": "code",
   "execution_count": null,
   "id": "6c9be236-7a02-4c0c-be88-4aa18da95873",
   "metadata": {},
   "outputs": [],
   "source": []
  },
  {
   "cell_type": "code",
   "execution_count": null,
   "id": "b9efa82d-3cf7-4ef2-a370-3efa0d564fb7",
   "metadata": {},
   "outputs": [],
   "source": []
  }
 ],
 "metadata": {
  "kernelspec": {
   "display_name": "Python 3 (ipykernel)",
   "language": "python",
   "name": "python3"
  },
  "language_info": {
   "codemirror_mode": {
    "name": "ipython",
    "version": 3
   },
   "file_extension": ".py",
   "mimetype": "text/x-python",
   "name": "python",
   "nbconvert_exporter": "python",
   "pygments_lexer": "ipython3",
   "version": "3.9.12"
  }
 },
 "nbformat": 4,
 "nbformat_minor": 5
}
